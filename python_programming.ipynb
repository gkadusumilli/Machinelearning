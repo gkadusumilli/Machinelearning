{
  "nbformat": 4,
  "nbformat_minor": 0,
  "metadata": {
    "colab": {
      "name": "python_programming.ipynb",
      "provenance": [],
      "include_colab_link": true
    },
    "kernelspec": {
      "name": "python3",
      "display_name": "Python 3"
    }
  },
  "cells": [
    {
      "cell_type": "markdown",
      "metadata": {
        "id": "view-in-github",
        "colab_type": "text"
      },
      "source": [
        "<a href=\"https://colab.research.google.com/github/gkadusumilli/Machinelearning/blob/master/python_programming.ipynb\" target=\"_parent\"><img src=\"https://colab.research.google.com/assets/colab-badge.svg\" alt=\"Open In Colab\"/></a>"
      ]
    },
    {
      "cell_type": "markdown",
      "metadata": {
        "id": "zkyumRrnOmsZ",
        "colab_type": "text"
      },
      "source": [
        "# **Introduction to Python Programming (Part-1)**\n",
        "\n",
        "-Gopalakrishna Adusumilli gk1291@outlook.com\n",
        "\n",
        "This worksheet will assist you to walkthrough the basic concepts of python\n",
        "1. Reasons why python is a great choice for professionals ?\n",
        "1. Variable & Type\n",
        "2. Functions\n",
        "3. Control\n",
        "4. Built-in data structures"
      ]
    },
    {
      "cell_type": "markdown",
      "metadata": {
        "id": "l7NgymRRJBfs",
        "colab_type": "text"
      },
      "source": [
        "#**Reasons why Python is a Great Choice for Professionals**\n",
        "\n",
        "1. **Python is a High-Level Programming Language**\n",
        "\n",
        "A high-level programming language is one that abstracts away many of the details of the inner workings of the computer. A good example is memory management. Lower-level programming languages require a detailed understanding of the complexities of how computer’s memory is laid out, allocated and released, in addition to the time spent and lines of code required to handle tasks. Python abstracts away and handles many of these details automatically.\n",
        "\n",
        "2. **It is Concise**\n",
        "\n",
        "Python language, the code is more concise and entirely focussed on the logic of what you want to achieve.\n",
        "\n",
        "For example, Python doesn’t require the use of curly braces or semicolons to delineate functions, loops, and lines the way many other languages do, which makes it more concise and, as some argue, improves readability.\n",
        "\n",
        "3. **Easy to learn and Understand**\n",
        "\n",
        "One observation that has influenced language in python is that programs are read more often than they are written. Python excels here as its code looks very close to plain English.\n",
        "\n",
        "4. **Suitable for Rapid, Iterative Development**\n",
        "\n",
        "Python is ideal for prototyping and rapid, iterative development because of interactive interpreter tools such as the Python shell, IPython, and Jupyter notebooks. In these interactive environments, you can write and execute each line of code in isolation and see the results immediately. Other languages have this too but in most cases not the same degree as python.\n",
        "\n",
        "5. **Can be used Both for Prototyping and Production Code**\n",
        "\n",
        "In addition to being great for prototyping, Python is also an excellent and powerful language for large production applications. Some of the largest software companies in the world make heavy use of Python in a variety of applications and use cases.\n",
        "\n",
        "6. **The Python Standard Library**\n",
        "\n",
        "Everything needed for basic operations is built right into the language, but in addition to that, the Python standard library has tools for working with files, media, networking, date and time information, and much more.\n",
        "\n",
        "7. **Python Is Free!!!**\n",
        "\n",
        "Python is developed under an open-source license making it free also for commercial use. "
      ]
    },
    {
      "cell_type": "markdown",
      "metadata": {
        "id": "Jt9CvElQPuaC",
        "colab_type": "text"
      },
      "source": [
        "Let us understand the concepts by writing a script to create a simple calculator."
      ]
    },
    {
      "cell_type": "code",
      "metadata": {
        "id": "EuVzlWkfQIKB",
        "colab_type": "code",
        "outputId": "7dc01394-b508-4cd7-9c40-dff37982e194",
        "colab": {
          "base_uri": "https://localhost:8080/",
          "height": 34
        }
      },
      "source": [
        "2+4"
      ],
      "execution_count": 0,
      "outputs": [
        {
          "output_type": "execute_result",
          "data": {
            "text/plain": [
              "6"
            ]
          },
          "metadata": {
            "tags": []
          },
          "execution_count": 1
        }
      ]
    },
    {
      "cell_type": "code",
      "metadata": {
        "id": "hB6HYzhYQWSD",
        "colab_type": "code",
        "outputId": "f373a713-671c-483b-e1c8-f644090b6c29",
        "colab": {
          "base_uri": "https://localhost:8080/",
          "height": 34
        }
      },
      "source": [
        "2*3+5"
      ],
      "execution_count": 0,
      "outputs": [
        {
          "output_type": "execute_result",
          "data": {
            "text/plain": [
              "11"
            ]
          },
          "metadata": {
            "tags": []
          },
          "execution_count": 2
        }
      ]
    },
    {
      "cell_type": "code",
      "metadata": {
        "id": "SC3NKYlbQamd",
        "colab_type": "code",
        "outputId": "a9842249-6b13-4ac0-c99b-3bc45e77801d",
        "colab": {
          "base_uri": "https://localhost:8080/",
          "height": 166
        }
      },
      "source": [
        "log(3)"
      ],
      "execution_count": 0,
      "outputs": [
        {
          "output_type": "error",
          "ename": "NameError",
          "evalue": "ignored",
          "traceback": [
            "\u001b[0;31m---------------------------------------------------------------------------\u001b[0m",
            "\u001b[0;31mNameError\u001b[0m                                 Traceback (most recent call last)",
            "\u001b[0;32m<ipython-input-3-8281727c9a18>\u001b[0m in \u001b[0;36m<module>\u001b[0;34m()\u001b[0m\n\u001b[0;32m----> 1\u001b[0;31m \u001b[0mlog\u001b[0m\u001b[0;34m(\u001b[0m\u001b[0;36m3\u001b[0m\u001b[0;34m)\u001b[0m\u001b[0;34m\u001b[0m\u001b[0;34m\u001b[0m\u001b[0m\n\u001b[0m",
            "\u001b[0;31mNameError\u001b[0m: name 'log' is not defined"
          ]
        }
      ]
    },
    {
      "cell_type": "markdown",
      "metadata": {
        "id": "wXigHmDkQdyJ",
        "colab_type": "text"
      },
      "source": [
        "From the code snippet above, errors are raised when we call **log(2)** . the -**log** function don't exist in current python environment.\n",
        "\n",
        "**log** function are defined in math module in python."
      ]
    },
    {
      "cell_type": "code",
      "metadata": {
        "id": "yc5_DTTdRj4p",
        "colab_type": "code",
        "outputId": "f3e23308-e9cb-46e1-ff1d-e4c9a9ed912a",
        "colab": {
          "base_uri": "https://localhost:8080/",
          "height": 34
        }
      },
      "source": [
        "from math import log\n",
        "\n",
        "#log(2) value will be returned as the log function is invoked\n",
        "\n",
        "log(2)"
      ],
      "execution_count": 0,
      "outputs": [
        {
          "output_type": "execute_result",
          "data": {
            "text/plain": [
              "0.6931471805599453"
            ]
          },
          "metadata": {
            "tags": []
          },
          "execution_count": 4
        }
      ]
    },
    {
      "cell_type": "markdown",
      "metadata": {
        "id": "gjiUX0meSx4q",
        "colab_type": "text"
      },
      "source": [
        "#**Variable & Type**\n",
        "\n",
        "In this section we will assign variable to the values.\n",
        "\n",
        "Variables in Python can **hold values of any type** (it may be int, char, string)\n",
        "\n",
        "Variables**need not to be declared**, just assign a value to the variable.\n",
        "\n"
      ]
    },
    {
      "cell_type": "markdown",
      "metadata": {
        "id": "KfZ4mO3tU418",
        "colab_type": "text"
      },
      "source": [
        "####**Declaration of a variable**"
      ]
    },
    {
      "cell_type": "code",
      "metadata": {
        "id": "T2uBdWdYUTz9",
        "colab_type": "code",
        "colab": {}
      },
      "source": [
        "a=2\n",
        "b=5.0\n",
        "x='hello world'"
      ],
      "execution_count": 0,
      "outputs": []
    },
    {
      "cell_type": "code",
      "metadata": {
        "id": "bC-bArmSUlWj",
        "colab_type": "code",
        "outputId": "ad885e46-febd-4ded-af35-f12134c9a81c",
        "colab": {
          "base_uri": "https://localhost:8080/",
          "height": 69
        }
      },
      "source": [
        "print(a)\n",
        "print(b)\n",
        "x"
      ],
      "execution_count": 0,
      "outputs": [
        {
          "output_type": "stream",
          "text": [
            "2\n",
            "5.0\n"
          ],
          "name": "stdout"
        },
        {
          "output_type": "execute_result",
          "data": {
            "text/plain": [
              "'hello world'"
            ]
          },
          "metadata": {
            "tags": []
          },
          "execution_count": 6
        }
      ]
    },
    {
      "cell_type": "code",
      "metadata": {
        "id": "bgGNbSx_Ut9w",
        "colab_type": "code",
        "outputId": "6d64b689-ef22-42a1-a325-4b44bd48b9b6",
        "colab": {
          "base_uri": "https://localhost:8080/",
          "height": 34
        }
      },
      "source": [
        "e=a*2+b\n",
        "print(e)"
      ],
      "execution_count": 0,
      "outputs": [
        {
          "output_type": "stream",
          "text": [
            "9.0\n"
          ],
          "name": "stdout"
        }
      ]
    },
    {
      "cell_type": "markdown",
      "metadata": {
        "id": "R53B8a7pVAPC",
        "colab_type": "text"
      },
      "source": [
        "####**Type**\n",
        "\n",
        "we have defined 4 diffrent variables, we can utilize the function **type()** in Python"
      ]
    },
    {
      "cell_type": "code",
      "metadata": {
        "id": "i1KcZXCZVTp-",
        "colab_type": "code",
        "outputId": "f4540aac-89a9-414c-df43-d566051a8d27",
        "colab": {
          "base_uri": "https://localhost:8080/",
          "height": 34
        }
      },
      "source": [
        "type(x)\n",
        "\n",
        "type(e)"
      ],
      "execution_count": 0,
      "outputs": [
        {
          "output_type": "execute_result",
          "data": {
            "text/plain": [
              "float"
            ]
          },
          "metadata": {
            "tags": []
          },
          "execution_count": 8
        }
      ]
    },
    {
      "cell_type": "markdown",
      "metadata": {
        "id": "dKbwxYJYVpaL",
        "colab_type": "text"
      },
      "source": [
        "#**Functions**\n",
        "\n",
        "A function is a block of code which performs a specific task. A major **purpose** of wrapping a chunk of code into a **function is to reuse the code**when needed"
      ]
    },
    {
      "cell_type": "code",
      "metadata": {
        "id": "v8gD4ckIWKRe",
        "colab_type": "code",
        "outputId": "8bc1ecc9-d465-4de9-ea0e-09a787c7934d",
        "colab": {
          "base_uri": "https://localhost:8080/",
          "height": 34
        }
      },
      "source": [
        "\n",
        "def fun(x):\n",
        "  return x*x\n",
        "fun(5)\n"
      ],
      "execution_count": 0,
      "outputs": [
        {
          "output_type": "execute_result",
          "data": {
            "text/plain": [
              "25"
            ]
          },
          "metadata": {
            "tags": []
          },
          "execution_count": 9
        }
      ]
    },
    {
      "cell_type": "markdown",
      "metadata": {
        "id": "SAYU9qr2W_Mq",
        "colab_type": "text"
      },
      "source": [
        "Here we have defined **fun()** . This function takes **x** as input and returns the square of **x**.\n",
        "\n",
        "we simply type the function name followed by the argument inside a pair of parenthesis. you can **notice** that **input or output are not required to define a function**\n",
        "\n",
        "Python codes are structured with **indentation**. Each logical line of python code belongs to certain group."
      ]
    },
    {
      "cell_type": "markdown",
      "metadata": {
        "id": "AfMCLweaYWFg",
        "colab_type": "text"
      },
      "source": [
        "another example defining a function to perform log operation."
      ]
    },
    {
      "cell_type": "code",
      "metadata": {
        "id": "HO0gr6KqYNLo",
        "colab_type": "code",
        "outputId": "6e41f1be-bf94-489e-ff50-6343783f7111",
        "colab": {
          "base_uri": "https://localhost:8080/",
          "height": 34
        }
      },
      "source": [
        "from math import log\n",
        "def log_fun(x,base=2):\n",
        "  return log(x,base)\n",
        "\n",
        "print(log_fun(5,2))\n"
      ],
      "execution_count": 0,
      "outputs": [
        {
          "output_type": "stream",
          "text": [
            "2.321928094887362\n"
          ],
          "name": "stdout"
        }
      ]
    },
    {
      "cell_type": "markdown",
      "metadata": {
        "id": "gXSBp1z6ZOr1",
        "colab_type": "text"
      },
      "source": [
        "#**Control flows**\n",
        "\n",
        "1. if/else\n",
        "2. for loop\n",
        "3. while loop\n",
        "4. Break/Continue"
      ]
    },
    {
      "cell_type": "markdown",
      "metadata": {
        "id": "v9GR-Eq0ZiOx",
        "colab_type": "text"
      },
      "source": [
        "##if/else\n",
        "\n",
        "let's define a function to return the absolute value of input."
      ]
    },
    {
      "cell_type": "code",
      "metadata": {
        "id": "Tmp2se8DZtJ9",
        "colab_type": "code",
        "colab": {}
      },
      "source": [
        "def fun2(x):\n",
        "  if x>=0:\n",
        "    return x\n",
        "  else:\n",
        "    return -x\n"
      ],
      "execution_count": 0,
      "outputs": []
    },
    {
      "cell_type": "code",
      "metadata": {
        "id": "4_X_YvfVZ3lB",
        "colab_type": "code",
        "outputId": "c5de470e-2e1a-4bfc-a065-d5f13f6e29e3",
        "colab": {
          "base_uri": "https://localhost:8080/",
          "height": 34
        }
      },
      "source": [
        "fun2(2.5)"
      ],
      "execution_count": 0,
      "outputs": [
        {
          "output_type": "execute_result",
          "data": {
            "text/plain": [
              "2.5"
            ]
          },
          "metadata": {
            "tags": []
          },
          "execution_count": 12
        }
      ]
    },
    {
      "cell_type": "markdown",
      "metadata": {
        "id": "SnGAn5Z4Z_O-",
        "colab_type": "text"
      },
      "source": [
        "we can also put **if** after **else**. But in python, we use **elif** as a shortcut."
      ]
    },
    {
      "cell_type": "code",
      "metadata": {
        "id": "dCAw_kQ7aNmZ",
        "colab_type": "code",
        "colab": {}
      },
      "source": [
        "def fun3(x):\n",
        "  if x==0:\n",
        "    print('zero')\n",
        "  elif x>0:\n",
        "    print('positive')\n",
        "  else:\n",
        "    print('negative')"
      ],
      "execution_count": 0,
      "outputs": []
    },
    {
      "cell_type": "code",
      "metadata": {
        "id": "QoYAQXaBahr9",
        "colab_type": "code",
        "outputId": "0c84c2c5-f00b-4b59-909b-d55bf79421d3",
        "colab": {
          "base_uri": "https://localhost:8080/",
          "height": 34
        }
      },
      "source": [
        "fun3(0)"
      ],
      "execution_count": 0,
      "outputs": [
        {
          "output_type": "stream",
          "text": [
            "zero\n"
          ],
          "name": "stdout"
        }
      ]
    },
    {
      "cell_type": "code",
      "metadata": {
        "id": "4ACjuNJ3ajpV",
        "colab_type": "code",
        "outputId": "0fde3511-883e-4326-89e4-f7d86084644f",
        "colab": {
          "base_uri": "https://localhost:8080/",
          "height": 34
        }
      },
      "source": [
        "fun3(1)"
      ],
      "execution_count": 0,
      "outputs": [
        {
          "output_type": "stream",
          "text": [
            "positive\n"
          ],
          "name": "stdout"
        }
      ]
    },
    {
      "cell_type": "code",
      "metadata": {
        "id": "HnvkHSZTangZ",
        "colab_type": "code",
        "outputId": "adedf8ac-4524-402b-dde0-c421eade2a4f",
        "colab": {
          "base_uri": "https://localhost:8080/",
          "height": 34
        }
      },
      "source": [
        "fun3(-1)"
      ],
      "execution_count": 0,
      "outputs": [
        {
          "output_type": "stream",
          "text": [
            "negative\n"
          ],
          "name": "stdout"
        }
      ]
    },
    {
      "cell_type": "markdown",
      "metadata": {
        "id": "tB3TuLrHarvX",
        "colab_type": "text"
      },
      "source": [
        "##for loop\n",
        "\n",
        "we use range to define the the set of values to be displayed. \n",
        "\n",
        "**range()** can take three arguments i.e range(start,stop,step). \n",
        "\n",
        "usually **range** is used to iterate sequence type.\n"
      ]
    },
    {
      "cell_type": "code",
      "metadata": {
        "id": "NF8aH8Z1bJ9v",
        "colab_type": "code",
        "outputId": "503becb3-d30c-44c1-e4b2-99916c989b26",
        "colab": {
          "base_uri": "https://localhost:8080/",
          "height": 69
        }
      },
      "source": [
        "for i in range(1,4):\n",
        "  print(i)"
      ],
      "execution_count": 0,
      "outputs": [
        {
          "output_type": "stream",
          "text": [
            "1\n",
            "2\n",
            "3\n"
          ],
          "name": "stdout"
        }
      ]
    },
    {
      "cell_type": "code",
      "metadata": {
        "id": "13hRUMbJbsca",
        "colab_type": "code",
        "outputId": "acd713cc-5a6b-4971-db82-d2b0c8cb8dff",
        "colab": {
          "base_uri": "https://localhost:8080/",
          "height": 34
        }
      },
      "source": [
        "type(range(1,4))"
      ],
      "execution_count": 0,
      "outputs": [
        {
          "output_type": "execute_result",
          "data": {
            "text/plain": [
              "range"
            ]
          },
          "metadata": {
            "tags": []
          },
          "execution_count": 18
        }
      ]
    },
    {
      "cell_type": "markdown",
      "metadata": {
        "id": "y2qANaYQcRDq",
        "colab_type": "text"
      },
      "source": [
        "##While loop"
      ]
    },
    {
      "cell_type": "code",
      "metadata": {
        "id": "SX1Px7dncU39",
        "colab_type": "code",
        "outputId": "7519a1b1-5a4b-4b50-9780-064c0d184f69",
        "colab": {
          "base_uri": "https://localhost:8080/",
          "height": 104
        }
      },
      "source": [
        "i=1\n",
        "while i<=5:\n",
        "  print(i)\n",
        "  i+=1"
      ],
      "execution_count": 0,
      "outputs": [
        {
          "output_type": "stream",
          "text": [
            "1\n",
            "2\n",
            "3\n",
            "4\n",
            "5\n"
          ],
          "name": "stdout"
        }
      ]
    },
    {
      "cell_type": "markdown",
      "metadata": {
        "id": "uzFqZ3wjh768",
        "colab_type": "text"
      },
      "source": [
        "**i+=1** to add 1 to **i**, "
      ]
    },
    {
      "cell_type": "markdown",
      "metadata": {
        "id": "vLEWjcb5iIU3",
        "colab_type": "text"
      },
      "source": [
        "##Break/continue\n",
        "\n",
        "Break/continue helps if we want to break the for/while loop earlier, or to skip a specific iteration.\n",
        "The difference between **break** and **continue** is that calling \n",
        "\n",
        "\n",
        "\n",
        "*   **break** would exit the innermost \n",
        "loop (when there are nested loops, only the innermost loop is affected)\n",
        "*   **continue** would just skip the current iteration and continue the loop if not finished.\n",
        "\n",
        "\n",
        "\n",
        "\n",
        "\n"
      ]
    },
    {
      "cell_type": "code",
      "metadata": {
        "id": "rVhq9iNVj6ep",
        "colab_type": "code",
        "outputId": "c1fefe09-9730-46f3-f46f-bd19d78e256d",
        "colab": {
          "base_uri": "https://localhost:8080/",
          "height": 34
        }
      },
      "source": [
        "for i in range(1,4):\n",
        "  print(i)\n",
        "\n",
        "  if i==1:\n",
        "    break\n"
      ],
      "execution_count": 0,
      "outputs": [
        {
          "output_type": "stream",
          "text": [
            "1\n"
          ],
          "name": "stdout"
        }
      ]
    },
    {
      "cell_type": "code",
      "metadata": {
        "id": "jxsWHNoVkExf",
        "colab_type": "code",
        "outputId": "8800e2f7-8552-4ab5-c920-29766d75c563",
        "colab": {
          "base_uri": "https://localhost:8080/",
          "height": 34
        }
      },
      "source": [
        "for i in range(1,4):\n",
        "  if i==2:\n",
        "    continue\n",
        "print(i)"
      ],
      "execution_count": 0,
      "outputs": [
        {
          "output_type": "stream",
          "text": [
            "3\n"
          ],
          "name": "stdout"
        }
      ]
    },
    {
      "cell_type": "markdown",
      "metadata": {
        "id": "8cOd8713k309",
        "colab_type": "text"
      },
      "source": [
        "# **Built-in Data Structures**"
      ]
    },
    {
      "cell_type": "markdown",
      "metadata": {
        "id": "obq8CQwOl9oQ",
        "colab_type": "text"
      },
      "source": [
        "##List\n",
        "A vector is a sequence of elements with the same type. In python, we can use **[]** to create a list, which is also a sequence of elements. But the elements in a list don't need to have the same type.\n",
        "we use the function **length()**; and to get the number of elements in  a list in python"
      ]
    },
    {
      "cell_type": "code",
      "metadata": {
        "id": "TsZCYnrrl_VM",
        "colab_type": "code",
        "colab": {}
      },
      "source": [
        "x=[1,2,5,6]\n",
        "y=['hello','world','!']"
      ],
      "execution_count": 0,
      "outputs": []
    },
    {
      "cell_type": "code",
      "metadata": {
        "id": "2ogTzwmJmIOG",
        "colab_type": "code",
        "outputId": "52ec3466-17ec-4902-9625-69a38ffe7fdf",
        "colab": {
          "base_uri": "https://localhost:8080/",
          "height": 52
        }
      },
      "source": [
        "print(x)\n",
        "\n",
        "print(y)"
      ],
      "execution_count": 0,
      "outputs": [
        {
          "output_type": "stream",
          "text": [
            "[1, 2, 5, 6]\n",
            "['hello', 'world', '!']\n"
          ],
          "name": "stdout"
        }
      ]
    },
    {
      "cell_type": "code",
      "metadata": {
        "id": "0wAAEAhGmMUm",
        "colab_type": "code",
        "outputId": "77b421c7-f0ee-42d2-e8dc-a66a0f728c3c",
        "colab": {
          "base_uri": "https://localhost:8080/",
          "height": 34
        }
      },
      "source": [
        "len(x)"
      ],
      "execution_count": 0,
      "outputs": [
        {
          "output_type": "execute_result",
          "data": {
            "text/plain": [
              "4"
            ]
          },
          "metadata": {
            "tags": []
          },
          "execution_count": 24
        }
      ]
    },
    {
      "cell_type": "code",
      "metadata": {
        "id": "m8F0LMehmQZ0",
        "colab_type": "code",
        "outputId": "2254da15-b58c-41fc-fef7-dee82106ff32",
        "colab": {
          "base_uri": "https://localhost:8080/",
          "height": 34
        }
      },
      "source": [
        "z=[1,'hello']\n",
        "\n",
        "print(z)"
      ],
      "execution_count": 0,
      "outputs": [
        {
          "output_type": "stream",
          "text": [
            "[1, 'hello']\n"
          ],
          "name": "stdout"
        }
      ]
    },
    {
      "cell_type": "markdown",
      "metadata": {
        "id": "c3yF_T6_mdr6",
        "colab_type": "text"
      },
      "source": [
        "To **access the specific element** from a vector or list, we could use []. sequence types in python are indexed beginning with the zero subscript."
      ]
    },
    {
      "cell_type": "code",
      "metadata": {
        "id": "HhYaE4Gum4-f",
        "colab_type": "code",
        "outputId": "0ef523ad-e403-4a9f-fc43-6aae7084877d",
        "colab": {
          "base_uri": "https://localhost:8080/",
          "height": 34
        }
      },
      "source": [
        "x=[1,2,5,6]\n",
        "\n",
        "x[1]"
      ],
      "execution_count": 0,
      "outputs": [
        {
          "output_type": "execute_result",
          "data": {
            "text/plain": [
              "2"
            ]
          },
          "metadata": {
            "tags": []
          },
          "execution_count": 26
        }
      ]
    },
    {
      "cell_type": "code",
      "metadata": {
        "id": "iGWiJ8VZm-EF",
        "colab_type": "code",
        "outputId": "fe827a21-2e35-4ffb-cae3-698358b986eb",
        "colab": {
          "base_uri": "https://localhost:8080/",
          "height": 34
        }
      },
      "source": [
        "x[0]"
      ],
      "execution_count": 0,
      "outputs": [
        {
          "output_type": "execute_result",
          "data": {
            "text/plain": [
              "1"
            ]
          },
          "metadata": {
            "tags": []
          },
          "execution_count": 27
        }
      ]
    },
    {
      "cell_type": "markdown",
      "metadata": {
        "id": "TTisk3hbnPNK",
        "colab_type": "text"
      },
      "source": [
        "In python, negative index number means indexing from the end of the list. Thus, **x[-1]** points to the last element and **x[-2]** points to the second last element of the list."
      ]
    },
    {
      "cell_type": "code",
      "metadata": {
        "id": "P4tkRztDnFjy",
        "colab_type": "code",
        "outputId": "896f0975-6ff7-4c04-a39e-9d6742dedf6a",
        "colab": {
          "base_uri": "https://localhost:8080/",
          "height": 34
        }
      },
      "source": [
        "x=[1,2,5,6]\n",
        "\n",
        "x[-1]"
      ],
      "execution_count": 0,
      "outputs": [
        {
          "output_type": "execute_result",
          "data": {
            "text/plain": [
              "6"
            ]
          },
          "metadata": {
            "tags": []
          },
          "execution_count": 28
        }
      ]
    },
    {
      "cell_type": "code",
      "metadata": {
        "id": "PplA5aamnnJP",
        "colab_type": "code",
        "outputId": "4f1535b0-2a6f-4849-8fe5-c472d59b805b",
        "colab": {
          "base_uri": "https://localhost:8080/",
          "height": 34
        }
      },
      "source": [
        "x[-2]"
      ],
      "execution_count": 0,
      "outputs": [
        {
          "output_type": "execute_result",
          "data": {
            "text/plain": [
              "5"
            ]
          },
          "metadata": {
            "tags": []
          },
          "execution_count": 29
        }
      ]
    },
    {
      "cell_type": "markdown",
      "metadata": {
        "id": "UOS1gbMznLFU",
        "colab_type": "text"
      },
      "source": [
        "There is one interesting fact that we can add a **None** to a list in python"
      ]
    },
    {
      "cell_type": "code",
      "metadata": {
        "id": "p64mpU_roNs4",
        "colab_type": "code",
        "outputId": "00b0892d-9fb8-4ce7-8320-77c96bb458a0",
        "colab": {
          "base_uri": "https://localhost:8080/",
          "height": 52
        }
      },
      "source": [
        "x=[1,None]\n",
        "print(x)\n",
        "\n",
        "print(len(x))"
      ],
      "execution_count": 0,
      "outputs": [
        {
          "output_type": "stream",
          "text": [
            "[1, None]\n",
            "2\n"
          ],
          "name": "stdout"
        }
      ]
    },
    {
      "cell_type": "markdown",
      "metadata": {
        "id": "ql_B58txoW9C",
        "colab_type": "text"
      },
      "source": [
        "Sometimes we want to create a vector/list with the replicated elements.\n",
        "\n",
        "for example, a vector/list with all elements equal to 0."
      ]
    },
    {
      "cell_type": "code",
      "metadata": {
        "id": "jbE15FA3onXv",
        "colab_type": "code",
        "outputId": "4e428734-300c-4546-8ee0-a6feae6679ac",
        "colab": {
          "base_uri": "https://localhost:8080/",
          "height": 52
        }
      },
      "source": [
        "x=[0]*10\n",
        "\n",
        "print(x)\n",
        "\n",
        "y=[0,1]*5\n",
        "\n",
        "print(y)"
      ],
      "execution_count": 0,
      "outputs": [
        {
          "output_type": "stream",
          "text": [
            "[0, 0, 0, 0, 0, 0, 0, 0, 0, 0]\n",
            "[0, 1, 0, 1, 0, 1, 0, 1, 0, 1]\n"
          ],
          "name": "stdout"
        }
      ]
    },
    {
      "cell_type": "markdown",
      "metadata": {
        "id": "YX0YMLsIvcJH",
        "colab_type": "text"
      },
      "source": [
        "when we use * operator to make replicates of a list, there is one caveat-if the element inside the list is mutable then the replicated elements point to the same memory adress. as a consequence, if one element is mutated other elements are also affected"
      ]
    },
    {
      "cell_type": "code",
      "metadata": {
        "id": "A61cAaCiwqAQ",
        "colab_type": "code",
        "outputId": "f636f3da-9107-4ece-d98f-d4d17ac9334b",
        "colab": {
          "base_uri": "https://localhost:8080/",
          "height": 52
        }
      },
      "source": [
        "x=[0] #x is a list which is mutable\n",
        "\n",
        "y=[x]*5 #each element in y points to x\n",
        "\n",
        "print(y)\n",
        "\n",
        "y[2]=2 #we point y[2] to 2 but x is not mutated\n",
        "\n",
        "print(y)"
      ],
      "execution_count": 0,
      "outputs": [
        {
          "output_type": "stream",
          "text": [
            "[[0], [0], [0], [0], [0]]\n",
            "[[0], [0], 2, [0], [0]]\n"
          ],
          "name": "stdout"
        }
      ]
    },
    {
      "cell_type": "code",
      "metadata": {
        "id": "_NFUnXQ7xHC9",
        "colab_type": "code",
        "outputId": "5afc42f6-d5e6-4587-f111-669724e71bd4",
        "colab": {
          "base_uri": "https://localhost:8080/",
          "height": 34
        }
      },
      "source": [
        "y[1][0]=-1\n",
        "\n",
        "print(y)"
      ],
      "execution_count": 0,
      "outputs": [
        {
          "output_type": "stream",
          "text": [
            "[[-1], [-1], 2, [-1], [-1]]\n"
          ],
          "name": "stdout"
        }
      ]
    },
    {
      "cell_type": "markdown",
      "metadata": {
        "id": "k_v-eGzNyKwn",
        "colab_type": "text"
      },
      "source": [
        "#Slicing\n",
        "\n",
        "Beside accessing a specific element from a vector/list, we may also need to do slicing, i.e., to select a subset of the vector/list.\n",
        "\n",
        "There are two basic approaches of slicing\n",
        "\n",
        "1. Integer based\n",
        "2. Condition based"
      ]
    },
    {
      "cell_type": "markdown",
      "metadata": {
        "id": "S438SGUWzIYZ",
        "colab_type": "text"
      },
      "source": [
        "###1. Integer based"
      ]
    },
    {
      "cell_type": "code",
      "metadata": {
        "id": "2TaBwJ6eyyQe",
        "colab_type": "code",
        "outputId": "34e0dd77-a704-434b-8976-f270a148f2c5",
        "colab": {
          "base_uri": "https://localhost:8080/",
          "height": 34
        }
      },
      "source": [
        "x=[1,2,3,4,5,6]\n",
        "\n",
        "x[1:4]"
      ],
      "execution_count": 0,
      "outputs": [
        {
          "output_type": "execute_result",
          "data": {
            "text/plain": [
              "[2, 3, 4]"
            ]
          },
          "metadata": {
            "tags": []
          },
          "execution_count": 34
        }
      ]
    },
    {
      "cell_type": "code",
      "metadata": {
        "id": "mgdnD4cJy6GS",
        "colab_type": "code",
        "outputId": "f0c4733a-f801-4385-898d-55ac119201be",
        "colab": {
          "base_uri": "https://localhost:8080/",
          "height": 34
        }
      },
      "source": [
        "x[0:5:2] # x[start:end:step]"
      ],
      "execution_count": 0,
      "outputs": [
        {
          "output_type": "execute_result",
          "data": {
            "text/plain": [
              "[1, 3, 5]"
            ]
          },
          "metadata": {
            "tags": []
          },
          "execution_count": 35
        }
      ]
    },
    {
      "cell_type": "markdown",
      "metadata": {
        "id": "ktkJa0b_40UC",
        "colab_type": "text"
      },
      "source": [
        "###2. Condition Based\n",
        "\n",
        "Condition-based slicing means to select a subset of the elements which satisfy certain condiotions.\n",
        "\n",
        "let's create a list of sqaures of another list"
      ]
    },
    {
      "cell_type": "code",
      "metadata": {
        "id": "7-24WNkl5RUX",
        "colab_type": "code",
        "outputId": "39a977df-3583-477d-f95b-a1b994497e57",
        "colab": {
          "base_uri": "https://localhost:8080/",
          "height": 34
        }
      },
      "source": [
        "x=[1,2,3,4,5,6]\n",
        "\n",
        "[e for e in x if e%2==1] # % is the modulo operator in python"
      ],
      "execution_count": 0,
      "outputs": [
        {
          "output_type": "execute_result",
          "data": {
            "text/plain": [
              "[1, 3, 5]"
            ]
          },
          "metadata": {
            "tags": []
          },
          "execution_count": 36
        }
      ]
    },
    {
      "cell_type": "markdown",
      "metadata": {
        "id": "iR-I-MdF5o8R",
        "colab_type": "text"
      },
      "source": [
        "it is also common to use **if/else** with list comprehension to acheive more complex operations.\n",
        "\n",
        "for example, given a list x, let's create a new list y so that non-negative elements in x are squared and the negative elemetns are replaced by 0's"
      ]
    },
    {
      "cell_type": "code",
      "metadata": {
        "id": "crFd27z_6QlC",
        "colab_type": "code",
        "outputId": "556357db-c8e5-4e6c-82e5-0a4215445023",
        "colab": {
          "base_uri": "https://localhost:8080/",
          "height": 34
        }
      },
      "source": [
        "x=[1,-1,0,2,5,-3]\n",
        "\n",
        "[e**2 if e>=0 else 0 for e in x]"
      ],
      "execution_count": 0,
      "outputs": [
        {
          "output_type": "execute_result",
          "data": {
            "text/plain": [
              "[1, 0, 0, 4, 25, 0]"
            ]
          },
          "metadata": {
            "tags": []
          },
          "execution_count": 37
        }
      ]
    },
    {
      "cell_type": "markdown",
      "metadata": {
        "id": "amN2jPOI9Uwi",
        "colab_type": "text"
      },
      "source": [
        "#**Mutable and Immutable list** "
      ]
    },
    {
      "cell_type": "markdown",
      "metadata": {
        "id": "11D9UTr6-DI9",
        "colab_type": "text"
      },
      "source": [
        "##Mutable List"
      ]
    },
    {
      "cell_type": "markdown",
      "metadata": {
        "id": "s0ITdpQr7brU",
        "colab_type": "text"
      },
      "source": [
        "As list structure in python is **mutable**, there are many things we can do with list!"
      ]
    },
    {
      "cell_type": "code",
      "metadata": {
        "id": "7dQkEGVk7jmK",
        "colab_type": "code",
        "outputId": "2db7cfad-df95-4d1d-ac01-2986e9abfde5",
        "colab": {
          "base_uri": "https://localhost:8080/",
          "height": 34
        }
      },
      "source": [
        "x=[1,2,3]\n",
        "\n",
        "x.append(4)\n",
        "\n",
        "print(x)"
      ],
      "execution_count": 0,
      "outputs": [
        {
          "output_type": "stream",
          "text": [
            "[1, 2, 3, 4]\n"
          ],
          "name": "stdout"
        }
      ]
    },
    {
      "cell_type": "code",
      "metadata": {
        "id": "TJfx-4Ts7w9M",
        "colab_type": "code",
        "outputId": "6abd30e2-31d8-45a0-89cc-3f41d8216347",
        "colab": {
          "base_uri": "https://localhost:8080/",
          "height": 34
        }
      },
      "source": [
        "y=[5,6]\n",
        "x.extend(y) #extend list y to x\n",
        "x"
      ],
      "execution_count": 0,
      "outputs": [
        {
          "output_type": "execute_result",
          "data": {
            "text/plain": [
              "[1, 2, 3, 4, 5, 6]"
            ]
          },
          "metadata": {
            "tags": []
          },
          "execution_count": 39
        }
      ]
    },
    {
      "cell_type": "code",
      "metadata": {
        "id": "WnVHd4CX8T1x",
        "colab_type": "code",
        "outputId": "340cf20c-4222-4618-ae7e-990f7dede4b0",
        "colab": {
          "base_uri": "https://localhost:8080/",
          "height": 34
        }
      },
      "source": [
        "last=x.pop() #pop the last element from x\n",
        "\n",
        "last"
      ],
      "execution_count": 0,
      "outputs": [
        {
          "output_type": "execute_result",
          "data": {
            "text/plain": [
              "6"
            ]
          },
          "metadata": {
            "tags": []
          },
          "execution_count": 40
        }
      ]
    },
    {
      "cell_type": "markdown",
      "metadata": {
        "id": "b0tnmSFd-KX6",
        "colab_type": "text"
      },
      "source": [
        "##*Immutable List*\n",
        "\n",
        "Is there are any immutable data structure in python ? yes, for example tuple is immutable, which contains a sequence of elements."
      ]
    },
    {
      "cell_type": "code",
      "metadata": {
        "id": "bBGpKQCl-s_a",
        "colab_type": "code",
        "outputId": "a8338597-c9ef-4079-d883-5d1177edffe0",
        "colab": {
          "base_uri": "https://localhost:8080/",
          "height": 34
        }
      },
      "source": [
        "x=(1,2,3,) #use () to create a tuple in python, it is adviced to always put a comma in end\n",
        "\n",
        "type(x)"
      ],
      "execution_count": 0,
      "outputs": [
        {
          "output_type": "execute_result",
          "data": {
            "text/plain": [
              "tuple"
            ]
          },
          "metadata": {
            "tags": []
          },
          "execution_count": 41
        }
      ]
    },
    {
      "cell_type": "code",
      "metadata": {
        "id": "pcxxWe5L-QtE",
        "colab_type": "code",
        "outputId": "2d4550ce-14ce-4ad2-8624-7fc4dd843678",
        "colab": {
          "base_uri": "https://localhost:8080/",
          "height": 34
        }
      },
      "source": [
        "len(x)"
      ],
      "execution_count": 0,
      "outputs": [
        {
          "output_type": "execute_result",
          "data": {
            "text/plain": [
              "3"
            ]
          },
          "metadata": {
            "tags": []
          },
          "execution_count": 42
        }
      ]
    },
    {
      "cell_type": "code",
      "metadata": {
        "id": "4im3Ovpl_P4b",
        "colab_type": "code",
        "outputId": "2e8fc5f0-bdeb-465a-d53b-f0727a4ab0e7",
        "colab": {
          "base_uri": "https://localhost:8080/",
          "height": 34
        }
      },
      "source": [
        "x[0]"
      ],
      "execution_count": 0,
      "outputs": [
        {
          "output_type": "execute_result",
          "data": {
            "text/plain": [
              "1"
            ]
          },
          "metadata": {
            "tags": []
          },
          "execution_count": 43
        }
      ]
    },
    {
      "cell_type": "markdown",
      "metadata": {
        "id": "Fu6onxAa5imn",
        "colab_type": "text"
      },
      "source": [
        "**Inference from the Mutable and Immutable list**\n",
        "\n",
        "A mutable object can be changed after it is created, but an immutable object can't.\n",
        "\n",
        "\n",
        "---\n",
        "\n",
        "\n",
        "\n",
        "if we change the value of an element in a vector \n",
        "without changing the type of the element, the vector is mutable. \n",
        "\n",
        "\n",
        "\n",
        "---\n",
        "if we change the value of an element to another type, the behavior of vector is immutable.\n",
        "\n",
        "\n",
        "\n",
        "---\n",
        "\n",
        "\n",
        "\n"
      ]
    },
    {
      "cell_type": "markdown",
      "metadata": {
        "id": "UeIdvahd6gCt",
        "colab_type": "text"
      },
      "source": [
        "a variable itself is a reference or pointer to an object (usually stored in the machine's memory).\n",
        "\n",
        "**To check the mutability of a variable, we can trace the memory address.**"
      ]
    },
    {
      "cell_type": "code",
      "metadata": {
        "id": "eAk-Wxfr7EoB",
        "colab_type": "code",
        "outputId": "eb503176-ba50-453b-f36d-e016ab27b37d",
        "colab": {
          "base_uri": "https://localhost:8080/",
          "height": 34
        }
      },
      "source": [
        "x=list(range(1,1001)) #list() convert a range object to a list\n",
        "\n",
        "x[0]=1.0 #from integer to float\n",
        "\n",
        "print(hex(id(x)))"
      ],
      "execution_count": 0,
      "outputs": [
        {
          "output_type": "stream",
          "text": [
            "0x7f38541dfe88\n"
          ],
          "name": "stdout"
        }
      ]
    },
    {
      "cell_type": "markdown",
      "metadata": {
        "id": "jeyeMtgRA7Xt",
        "colab_type": "text"
      },
      "source": [
        "#**Array**\n",
        "\n",
        "Array is one of the most important data structures in mathematical and scientific programing.\n",
        "\n",
        "we can use list as array in python, but lots of linear algebra operations are not supported for the list type. hence we can use a python package **numpy** "
      ]
    },
    {
      "cell_type": "code",
      "metadata": {
        "id": "M0FyQM_dBi1h",
        "colab_type": "code",
        "outputId": "1eb6f960-eb6e-4317-f825-9433b36ba424",
        "colab": {
          "base_uri": "https://localhost:8080/",
          "height": 86
        }
      },
      "source": [
        "import numpy as np\n",
        "\n",
        "array1=np.reshape(list(range(1,13)),(4,3)) #convert a list to a 2d np.array\n",
        "\n",
        "array1"
      ],
      "execution_count": 0,
      "outputs": [
        {
          "output_type": "execute_result",
          "data": {
            "text/plain": [
              "array([[ 1,  2,  3],\n",
              "       [ 4,  5,  6],\n",
              "       [ 7,  8,  9],\n",
              "       [10, 11, 12]])"
            ]
          },
          "metadata": {
            "tags": []
          },
          "execution_count": 48
        }
      ]
    },
    {
      "cell_type": "code",
      "metadata": {
        "id": "k7j9o2hPB1fF",
        "colab_type": "code",
        "outputId": "068f9181-60ed-4008-fd40-d9a6cfb8d749",
        "colab": {
          "base_uri": "https://localhost:8080/",
          "height": 34
        }
      },
      "source": [
        "type(array1)"
      ],
      "execution_count": 0,
      "outputs": [
        {
          "output_type": "execute_result",
          "data": {
            "text/plain": [
              "numpy.ndarray"
            ]
          },
          "metadata": {
            "tags": []
          },
          "execution_count": 49
        }
      ]
    },
    {
      "cell_type": "code",
      "metadata": {
        "id": "zlFe6tQfB9vm",
        "colab_type": "code",
        "outputId": "a81b283c-447b-45bf-e620-18ae5046689e",
        "colab": {
          "base_uri": "https://localhost:8080/",
          "height": 69
        }
      },
      "source": [
        "array2=np.reshape(list(range(1,7)),(3,2))\n",
        "\n",
        "array2"
      ],
      "execution_count": 0,
      "outputs": [
        {
          "output_type": "execute_result",
          "data": {
            "text/plain": [
              "array([[1, 2],\n",
              "       [3, 4],\n",
              "       [5, 6]])"
            ]
          },
          "metadata": {
            "tags": []
          },
          "execution_count": 50
        }
      ]
    },
    {
      "cell_type": "code",
      "metadata": {
        "id": "a5yHeS_4CHt1",
        "colab_type": "code",
        "outputId": "46121cb8-57a6-4721-aa5d-e33201c62b36",
        "colab": {
          "base_uri": "https://localhost:8080/",
          "height": 86
        }
      },
      "source": [
        "array3=np.dot(array1,array2) #matrix multiplication using np.dot()\n",
        "\n",
        "array3"
      ],
      "execution_count": 0,
      "outputs": [
        {
          "output_type": "execute_result",
          "data": {
            "text/plain": [
              "array([[ 22,  28],\n",
              "       [ 49,  64],\n",
              "       [ 76, 100],\n",
              "       [103, 136]])"
            ]
          },
          "metadata": {
            "tags": []
          },
          "execution_count": 51
        }
      ]
    },
    {
      "cell_type": "code",
      "metadata": {
        "id": "zvr4FmpYCU_I",
        "colab_type": "code",
        "outputId": "d2a5b392-e73d-4240-b5ea-c02d37953ae8",
        "colab": {
          "base_uri": "https://localhost:8080/",
          "height": 34
        }
      },
      "source": [
        "array3.shape #get the shape(dimension) of array3"
      ],
      "execution_count": 0,
      "outputs": [
        {
          "output_type": "execute_result",
          "data": {
            "text/plain": [
              "(4, 2)"
            ]
          },
          "metadata": {
            "tags": []
          },
          "execution_count": 52
        }
      ]
    },
    {
      "cell_type": "code",
      "metadata": {
        "id": "6KeDMQBsCw3x",
        "colab_type": "code",
        "outputId": "05a62e39-11f5-4bf2-877b-48897955a268",
        "colab": {
          "base_uri": "https://localhost:8080/",
          "height": 69
        }
      },
      "source": [
        "array2=np.reshape(list(range(1,7)),(2,3)).T #use .T to transpose an array\n",
        "\n",
        "array2"
      ],
      "execution_count": 0,
      "outputs": [
        {
          "output_type": "execute_result",
          "data": {
            "text/plain": [
              "array([[1, 4],\n",
              "       [2, 5],\n",
              "       [3, 6]])"
            ]
          },
          "metadata": {
            "tags": []
          },
          "execution_count": 54
        }
      ]
    },
    {
      "cell_type": "markdown",
      "metadata": {
        "id": "FSENd9WlHcCe",
        "colab_type": "text"
      },
      "source": [
        "#**Dictionary**\n",
        "\n",
        "Python comes with a variety of built-in data structures, capable of storing different types of data. A python dictionary is one such data structure that can store data in the form of key-value pairs. The values in Python dictionary can be accessed using the keys."
      ]
    },
    {
      "cell_type": "code",
      "metadata": {
        "id": "Iyz-j11DIRRQ",
        "colab_type": "code",
        "outputId": "219c5856-9ba0-4c56-b488-9f0b52f7317c",
        "colab": {
          "base_uri": "https://localhost:8080/",
          "height": 34
        }
      },
      "source": [
        "x={'a':1,'b':2}\n",
        "\n",
        "x"
      ],
      "execution_count": 0,
      "outputs": [
        {
          "output_type": "execute_result",
          "data": {
            "text/plain": [
              "{'a': 1, 'b': 2}"
            ]
          },
          "metadata": {
            "tags": []
          },
          "execution_count": 63
        }
      ]
    },
    {
      "cell_type": "code",
      "metadata": {
        "id": "ULw5SbqYIYXI",
        "colab_type": "code",
        "outputId": "dbcf40ab-00aa-4e75-b3ba-f7db75b0dc99",
        "colab": {
          "base_uri": "https://localhost:8080/",
          "height": 34
        }
      },
      "source": [
        "x['b']"
      ],
      "execution_count": 0,
      "outputs": [
        {
          "output_type": "execute_result",
          "data": {
            "text/plain": [
              "2"
            ]
          },
          "metadata": {
            "tags": []
          },
          "execution_count": 59
        }
      ]
    },
    {
      "cell_type": "code",
      "metadata": {
        "id": "shwqdkB8IbV2",
        "colab_type": "code",
        "outputId": "26f0916b-45e6-45ec-81de-ff30574fe88a",
        "colab": {
          "base_uri": "https://localhost:8080/",
          "height": 34
        }
      },
      "source": [
        "len(x) #number of key:value pairs"
      ],
      "execution_count": 0,
      "outputs": [
        {
          "output_type": "execute_result",
          "data": {
            "text/plain": [
              "2"
            ]
          },
          "metadata": {
            "tags": []
          },
          "execution_count": 60
        }
      ]
    },
    {
      "cell_type": "code",
      "metadata": {
        "id": "VlgeuZzLIrlJ",
        "colab_type": "code",
        "outputId": "2b5e9385-ea5a-453f-b743-e2a710edd442",
        "colab": {
          "base_uri": "https://localhost:8080/",
          "height": 34
        }
      },
      "source": [
        "x.pop('a') #remove the key 'a' and we get its value 1\n"
      ],
      "execution_count": 0,
      "outputs": [
        {
          "output_type": "execute_result",
          "data": {
            "text/plain": [
              "1"
            ]
          },
          "metadata": {
            "tags": []
          },
          "execution_count": 64
        }
      ]
    },
    {
      "cell_type": "code",
      "metadata": {
        "id": "WEWWAFFZI47V",
        "colab_type": "code",
        "outputId": "ab823d87-9b8a-4624-ae64-2b5f2108a230",
        "colab": {
          "base_uri": "https://localhost:8080/",
          "height": 34
        }
      },
      "source": [
        "x"
      ],
      "execution_count": 0,
      "outputs": [
        {
          "output_type": "execute_result",
          "data": {
            "text/plain": [
              "{'b': 2}"
            ]
          },
          "metadata": {
            "tags": []
          },
          "execution_count": 65
        }
      ]
    },
    {
      "cell_type": "markdown",
      "metadata": {
        "id": "TLenYuwLD1KO",
        "colab_type": "text"
      },
      "source": [
        "#**data.frame**\n",
        "\n",
        "preliminary let us understand **why data.frame ?** in other words why can't we just use vector, list, array/matrix and dictionary for all data manipulation tasks.\n",
        "\n",
        "data.frame is must have feature for most of ETL (Extraction, transformation and load) operations. But data.frame provides a very intuitive way for us to understand the structured dataset.\n",
        "\n",
        "a data.frame is usually flat with 2 dimensions, i.e row and column. the row dimension is across multiple observations and the column dimensions is across multiple attributes/features."
      ]
    },
    {
      "cell_type": "code",
      "metadata": {
        "id": "aWwr7QIlFb7c",
        "colab_type": "code",
        "outputId": "055221ea-5bb9-4ef6-c5d2-65a21164a69e",
        "colab": {
          "base_uri": "https://localhost:8080/",
          "height": 143
        }
      },
      "source": [
        "import pandas as pd\n",
        "\n",
        "employee_df=pd.DataFrame({'name':['A','B','C'],'department':[\"Engineering\",\"operations\",\"sales\"]})\n",
        "\n",
        "employee_df"
      ],
      "execution_count": 0,
      "outputs": [
        {
          "output_type": "execute_result",
          "data": {
            "text/html": [
              "<div>\n",
              "<style scoped>\n",
              "    .dataframe tbody tr th:only-of-type {\n",
              "        vertical-align: middle;\n",
              "    }\n",
              "\n",
              "    .dataframe tbody tr th {\n",
              "        vertical-align: top;\n",
              "    }\n",
              "\n",
              "    .dataframe thead th {\n",
              "        text-align: right;\n",
              "    }\n",
              "</style>\n",
              "<table border=\"1\" class=\"dataframe\">\n",
              "  <thead>\n",
              "    <tr style=\"text-align: right;\">\n",
              "      <th></th>\n",
              "      <th>name</th>\n",
              "      <th>department</th>\n",
              "    </tr>\n",
              "  </thead>\n",
              "  <tbody>\n",
              "    <tr>\n",
              "      <th>0</th>\n",
              "      <td>A</td>\n",
              "      <td>Engineering</td>\n",
              "    </tr>\n",
              "    <tr>\n",
              "      <th>1</th>\n",
              "      <td>B</td>\n",
              "      <td>operations</td>\n",
              "    </tr>\n",
              "    <tr>\n",
              "      <th>2</th>\n",
              "      <td>C</td>\n",
              "      <td>sales</td>\n",
              "    </tr>\n",
              "  </tbody>\n",
              "</table>\n",
              "</div>"
            ],
            "text/plain": [
              "  name   department\n",
              "0    A  Engineering\n",
              "1    B   operations\n",
              "2    C        sales"
            ]
          },
          "metadata": {
            "tags": []
          },
          "execution_count": 57
        }
      ]
    }
  ]
}