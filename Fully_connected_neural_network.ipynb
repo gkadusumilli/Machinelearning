{
  "nbformat": 4,
  "nbformat_minor": 0,
  "metadata": {
    "colab": {
      "name": "Fully_connected_neural_network.ipynb",
      "provenance": [],
      "collapsed_sections": [],
      "include_colab_link": true
    },
    "kernelspec": {
      "name": "python3",
      "display_name": "Python 3"
    }
  },
  "cells": [
    {
      "cell_type": "markdown",
      "metadata": {
        "id": "view-in-github",
        "colab_type": "text"
      },
      "source": [
        "<a href=\"https://colab.research.google.com/github/gkadusumilli/Machinelearning/blob/master/Fully_connected_neural_network.ipynb\" target=\"_parent\"><img src=\"https://colab.research.google.com/assets/colab-badge.svg\" alt=\"Open In Colab\"/></a>"
      ]
    },
    {
      "cell_type": "markdown",
      "metadata": {
        "id": "wFZ53zDb-qni",
        "colab_type": "text"
      },
      "source": [
        "#Implementing Fully Connected Neural Network\n",
        "\n",
        "###Loading Required Packages"
      ]
    },
    {
      "cell_type": "code",
      "metadata": {
        "id": "ne_dFBFH-fle",
        "colab_type": "code",
        "outputId": "8179486f-c1e2-43e8-9012-a456f4007a55",
        "colab": {
          "base_uri": "https://localhost:8080/",
          "height": 70
        }
      },
      "source": [
        "from keras.datasets import mnist\n",
        "from keras.models import Sequential\n",
        "from keras.layers.core import Dense,Activation\n",
        "from keras.utils import np_utils\n",
        "\n",
        "(X_train,Y_train),(X_test,Y_test)=mnist.load_data()"
      ],
      "execution_count": 1,
      "outputs": [
        {
          "output_type": "stream",
          "text": [
            "Using TensorFlow backend.\n"
          ],
          "name": "stderr"
        },
        {
          "output_type": "stream",
          "text": [
            "Downloading data from https://s3.amazonaws.com/img-datasets/mnist.npz\n",
            "11493376/11490434 [==============================] - 1s 0us/step\n"
          ],
          "name": "stdout"
        }
      ]
    },
    {
      "cell_type": "markdown",
      "metadata": {
        "id": "9tXecPBd_VYP",
        "colab_type": "text"
      },
      "source": [
        "###Pre processing"
      ]
    },
    {
      "cell_type": "code",
      "metadata": {
        "id": "lVUsDPHq_Xwh",
        "colab_type": "code",
        "outputId": "31c72f9a-0a31-4693-caa1-2fdf1fe6ae5c",
        "colab": {
          "base_uri": "https://localhost:8080/",
          "height": 503
        }
      },
      "source": [
        "import matplotlib.pyplot as plt\n",
        "n=10 #How many digits we will display\n",
        "plt.figure(figsize=(20,4))\n",
        "\n",
        "for i in range(n):\n",
        "  #display original\n",
        "  ax=plt.subplot(2,n,i+1)\n",
        "  plt.imshow(X_test[i].reshape(28,28))\n",
        "  plt.gray()\n",
        "  ax.get_xaxis().set_visible(False)\n",
        "  ax.get_yaxis().set_visible(False)\n",
        "  plt.show()\n",
        "  plt.close()\n"
      ],
      "execution_count": 2,
      "outputs": [
        {
          "output_type": "display_data",
          "data": {
            "image/png": "[encoded data removed]",
            "text/plain": [
              "<Figure size 1440x288 with 1 Axes>"
            ]
          },
          "metadata": {
            "tags": []
          }
        },
        {
          "output_type": "display_data",
          "data": {
            "image/png": "[encoded data removed]",
            "text/plain": [
              "<Figure size 432x288 with 1 Axes>"
            ]
          },
          "metadata": {
            "tags": []
          }
        },
        {
          "output_type": "display_data",
          "data": {
            "image/png": "[encoded data removed]",
            "text/plain": [
              "<Figure size 432x288 with 1 Axes>"
            ]
          },
          "metadata": {
            "tags": []
          }
        },
        {
          "output_type": "display_data",
          "data": {
            "image/png": "[encoded data removed]",
            "text/plain": [
              "<Figure size 432x288 with 1 Axes>"
            ]
          },
          "metadata": {
            "tags": []
          }
        },
        {
          "output_type": "display_data",
          "data": {
            "image/png": "[encoded data removed]",
            "text/plain": [
              "<Figure size 432x288 with 1 Axes>"
            ]
          },
          "metadata": {
            "tags": []
          }
        },
        {
          "output_type": "display_data",
          "data": {
            "image/png": "[encoded data removed]",
            "text/plain": [
              "<Figure size 432x288 with 1 Axes>"
            ]
          },
          "metadata": {
            "tags": []
          }
        },
        {
          "output_type": "display_data",
          "data": {
            "image/png": "[encoded data removed]",
            "text/plain": [
              "<Figure size 432x288 with 1 Axes>"
            ]
          },
          "metadata": {
            "tags": []
          }
        },
        {
          "output_type": "display_data",
          "data": {
            "image/png": "[encoded data removed]",
            "text/plain": [
              "<Figure size 432x288 with 1 Axes>"
            ]
          },
          "metadata": {
            "tags": []
          }
        },
        {
          "output_type": "display_data",
          "data": {
            "image/png": "[encoded data removed]",
            "text/plain": [
              "<Figure size 432x288 with 1 Axes>"
            ]
          },
          "metadata": {
            "tags": []
          }
        },
        {
          "output_type": "display_data",
          "data": {
            "image/png": "[encoded data removed]",
            "text/plain": [
              "<Figure size 432x288 with 1 Axes>"
            ]
          },
          "metadata": {
            "tags": []
          }
        }
      ]
    },
    {
      "cell_type": "code",
      "metadata": {
        "id": "AAQsh5BSAV35",
        "colab_type": "code",
        "outputId": "636f1ffd-7364-4b90-c2a4-74018714017d",
        "colab": {
          "base_uri": "https://localhost:8080/",
          "height": 88
        }
      },
      "source": [
        "print(\"Previous X_train shape:{} \\nPrevious Y_train shape:{}\".format(X_train.shape,Y_train.shape))\n",
        "\n",
        "X_train=X_train.reshape(60000,784)\n",
        "X_test=X_test.reshape(10000,784)\n",
        "X_train=X_train.astype('float32')\n",
        "X_test=X_test.astype('float32')\n",
        "X_train/=255\n",
        "X_test/=255\n",
        "classes=10\n",
        "Y_train=np_utils.to_categorical(Y_train,classes)\n",
        "Y_test=np_utils.to_categorical(Y_test,classes)\n",
        "\n",
        "print(\"New X_train shape:{} \\nNew Y_train shape:{}\".format(X_train.shape,Y_train.shape))\n"
      ],
      "execution_count": 3,
      "outputs": [
        {
          "output_type": "stream",
          "text": [
            "Previous X_train shape:(60000, 28, 28) \n",
            "Previous Y_train shape:(60000,)\n",
            "New X_train shape:(60000, 784) \n",
            "New Y_train shape:(60000, 10)\n"
          ],
          "name": "stdout"
        }
      ]
    },
    {
      "cell_type": "markdown",
      "metadata": {
        "id": "Cvx-jtmRCYVR",
        "colab_type": "text"
      },
      "source": [
        "###Setting up Parameters"
      ]
    },
    {
      "cell_type": "code",
      "metadata": {
        "id": "lzqB5HjgCbyM",
        "colab_type": "code",
        "colab": {}
      },
      "source": [
        "input_size=784\n",
        "batch_size=200\n",
        "hidden1=400\n",
        "hidden2=20\n",
        "epochs=2"
      ],
      "execution_count": 0,
      "outputs": []
    },
    {
      "cell_type": "markdown",
      "metadata": {
        "id": "8pJFfd1lCnt8",
        "colab_type": "text"
      },
      "source": [
        "###Building the FCN model"
      ]
    },
    {
      "cell_type": "code",
      "metadata": {
        "id": "dtw_60V8CqJo",
        "colab_type": "code",
        "outputId": "a3a744d7-c80c-416f-a8a3-4108106058e9",
        "colab": {
          "base_uri": "https://localhost:8080/",
          "height": 464
        }
      },
      "source": [
        "#Build the model\n",
        "\n",
        "model=Sequential()\n",
        "model.add(Dense(hidden1,input_dim=input_size,activation='relu'))\n",
        "\n",
        "model.add(Dense(hidden2,activation='relu'))\n",
        "model.add(Dense(classes,activation='softmax'))\n",
        "\n",
        "#compilation\n",
        "model.compile(loss='categorical_crossentropy',metrics=['accuracy'],optimizer='sgd')\n",
        "model.summary()"
      ],
      "execution_count": 5,
      "outputs": [
        {
          "output_type": "stream",
          "text": [
            "WARNING:tensorflow:From /usr/local/lib/python3.6/dist-packages/keras/backend/tensorflow_backend.py:66: The name tf.get_default_graph is deprecated. Please use tf.compat.v1.get_default_graph instead.\n",
            "\n",
            "WARNING:tensorflow:From /usr/local/lib/python3.6/dist-packages/keras/backend/tensorflow_backend.py:541: The name tf.placeholder is deprecated. Please use tf.compat.v1.placeholder instead.\n",
            "\n",
            "WARNING:tensorflow:From /usr/local/lib/python3.6/dist-packages/keras/backend/tensorflow_backend.py:4432: The name tf.random_uniform is deprecated. Please use tf.random.uniform instead.\n",
            "\n",
            "WARNING:tensorflow:From /usr/local/lib/python3.6/dist-packages/keras/optimizers.py:793: The name tf.train.Optimizer is deprecated. Please use tf.compat.v1.train.Optimizer instead.\n",
            "\n",
            "WARNING:tensorflow:From /usr/local/lib/python3.6/dist-packages/keras/backend/tensorflow_backend.py:3576: The name tf.log is deprecated. Please use tf.math.log instead.\n",
            "\n",
            "Model: \"sequential_1\"\n",
            "_________________________________________________________________\n",
            "Layer (type)                 Output Shape              Param #   \n",
            "=================================================================\n",
            "dense_1 (Dense)              (None, 400)               314000    \n",
            "_________________________________________________________________\n",
            "dense_2 (Dense)              (None, 20)                8020      \n",
            "_________________________________________________________________\n",
            "dense_3 (Dense)              (None, 10)                210       \n",
            "=================================================================\n",
            "Total params: 322,230\n",
            "Trainable params: 322,230\n",
            "Non-trainable params: 0\n",
            "_________________________________________________________________\n"
          ],
          "name": "stdout"
        }
      ]
    },
    {
      "cell_type": "markdown",
      "metadata": {
        "id": "X4YfrArGDjZJ",
        "colab_type": "text"
      },
      "source": [
        "###Training the model"
      ]
    },
    {
      "cell_type": "code",
      "metadata": {
        "id": "epWG7IVWDmZ3",
        "colab_type": "code",
        "outputId": "53db08dd-a035-4423-930c-2a3e82dd16a3",
        "colab": {
          "base_uri": "https://localhost:8080/",
          "height": 748
        }
      },
      "source": [
        "#fitting on Data\n",
        "\n",
        "model.fit(X_train,Y_train,batch_size=batch_size,epochs=10,verbose=2)"
      ],
      "execution_count": 6,
      "outputs": [
        {
          "output_type": "stream",
          "text": [
            "WARNING:tensorflow:From /usr/local/lib/python3.6/dist-packages/tensorflow_core/python/ops/math_grad.py:1424: where (from tensorflow.python.ops.array_ops) is deprecated and will be removed in a future version.\n",
            "Instructions for updating:\n",
            "Use tf.where in 2.0, which has the same broadcast rule as np.where\n",
            "WARNING:tensorflow:From /usr/local/lib/python3.6/dist-packages/keras/backend/tensorflow_backend.py:1033: The name tf.assign_add is deprecated. Please use tf.compat.v1.assign_add instead.\n",
            "\n",
            "WARNING:tensorflow:From /usr/local/lib/python3.6/dist-packages/keras/backend/tensorflow_backend.py:1020: The name tf.assign is deprecated. Please use tf.compat.v1.assign instead.\n",
            "\n",
            "WARNING:tensorflow:From /usr/local/lib/python3.6/dist-packages/keras/backend/tensorflow_backend.py:3005: The name tf.Session is deprecated. Please use tf.compat.v1.Session instead.\n",
            "\n",
            "Epoch 1/10\n",
            "WARNING:tensorflow:From /usr/local/lib/python3.6/dist-packages/keras/backend/tensorflow_backend.py:190: The name tf.get_default_session is deprecated. Please use tf.compat.v1.get_default_session instead.\n",
            "\n",
            "WARNING:tensorflow:From /usr/local/lib/python3.6/dist-packages/keras/backend/tensorflow_backend.py:197: The name tf.ConfigProto is deprecated. Please use tf.compat.v1.ConfigProto instead.\n",
            "\n",
            "WARNING:tensorflow:From /usr/local/lib/python3.6/dist-packages/keras/backend/tensorflow_backend.py:207: The name tf.global_variables is deprecated. Please use tf.compat.v1.global_variables instead.\n",
            "\n",
            "WARNING:tensorflow:From /usr/local/lib/python3.6/dist-packages/keras/backend/tensorflow_backend.py:216: The name tf.is_variable_initialized is deprecated. Please use tf.compat.v1.is_variable_initialized instead.\n",
            "\n",
            "WARNING:tensorflow:From /usr/local/lib/python3.6/dist-packages/keras/backend/tensorflow_backend.py:223: The name tf.variables_initializer is deprecated. Please use tf.compat.v1.variables_initializer instead.\n",
            "\n",
            " - 3s - loss: 1.6008 - acc: 0.5220\n",
            "Epoch 2/10\n",
            " - 3s - loss: 0.7461 - acc: 0.8247\n",
            "Epoch 3/10\n",
            " - 3s - loss: 0.5056 - acc: 0.8686\n",
            "Epoch 4/10\n",
            " - 3s - loss: 0.4192 - acc: 0.8865\n",
            "Epoch 5/10\n",
            " - 3s - loss: 0.3735 - acc: 0.8972\n",
            "Epoch 6/10\n",
            " - 3s - loss: 0.3446 - acc: 0.9039\n",
            "Epoch 7/10\n",
            " - 3s - loss: 0.3230 - acc: 0.9093\n",
            "Epoch 8/10\n",
            " - 3s - loss: 0.3060 - acc: 0.9135\n",
            "Epoch 9/10\n",
            " - 3s - loss: 0.2918 - acc: 0.9177\n",
            "Epoch 10/10\n",
            " - 3s - loss: 0.2793 - acc: 0.9214\n"
          ],
          "name": "stdout"
        },
        {
          "output_type": "execute_result",
          "data": {
            "text/plain": [
              "<keras.callbacks.History at 0x7fa2c90e6048>"
            ]
          },
          "metadata": {
            "tags": []
          },
          "execution_count": 6
        }
      ]
    },
    {
      "cell_type": "markdown",
      "metadata": {
        "id": "eEBSCYazIH3-",
        "colab_type": "text"
      },
      "source": [
        "###Testing the model"
      ]
    },
    {
      "cell_type": "code",
      "metadata": {
        "id": "7R_jfdsdIK5v",
        "colab_type": "code",
        "colab": {
          "base_uri": "https://localhost:8080/",
          "height": 196
        },
        "outputId": "2779536a-03cf-4075-b9ec-c076e115a543"
      },
      "source": [
        "score=model.evaluate(X_test,Y_test,verbose=1)\n",
        "print('\\n''Test accuracy:',score[1])\n",
        "mask=range(10,20)\n",
        "X_valid=X_test[mask]\n",
        "y_pred=model.predict_classes(X_valid)\n",
        "print(y_pred)\n",
        "\n",
        "plt.figure(figsize=(20,4))\n",
        "for i in range(n):\n",
        "  ax=plt.subplot(2,n,i+1)\n",
        "  plt.imshow(X_valid[i].reshape(28,28))\n",
        "  plt.gray()\n",
        "  ax.get_xaxis().set_visible(False)\n",
        "  ax.get_yaxis().set_visible(False)\n",
        "plt.show()\n",
        "plt.close()"
      ],
      "execution_count": 7,
      "outputs": [
        {
          "output_type": "stream",
          "text": [
            "10000/10000 [==============================] - 0s 49us/step\n",
            "\n",
            "Test accuracy: 0.9277\n",
            "[0 6 9 0 1 5 9 7 3 4]\n"
          ],
          "name": "stdout"
        },
        {
          "output_type": "display_data",
          "data": {
            "image/png": "[encoded data removed]",
            "text/plain": [
              "<Figure size 1440x288 with 10 Axes>"
            ]
          },
          "metadata": {
            "tags": []
          }
        }
      ]
    }
  ]
}