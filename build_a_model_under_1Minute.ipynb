{
  "nbformat": 4,
  "nbformat_minor": 0,
  "metadata": {
    "colab": {
      "name": "build_a_model_under_1Minute.ipynb",
      "provenance": [],
      "collapsed_sections": [],
      "include_colab_link": true
    },
    "kernelspec": {
      "name": "python3",
      "display_name": "Python 3"
    }
  },
  "cells": [
    {
      "cell_type": "markdown",
      "metadata": {
        "id": "view-in-github",
        "colab_type": "text"
      },
      "source": [
        "<a href=\"https://colab.research.google.com/github/gkadusumilli/Machinelearning/blob/master/build_a_model_under_1Minute.ipynb\" target=\"_parent\"><img src=\"https://colab.research.google.com/assets/colab-badge.svg\" alt=\"Open In Colab\"/></a>"
      ]
    },
    {
      "cell_type": "markdown",
      "metadata": {
        "id": "tlmn-vRtTdvL",
        "colab_type": "text"
      },
      "source": [
        "##Sequential Model\n",
        "\n",
        "Gopalakrishna Adusumilli\n",
        "gk1291@outlook.com\n",
        "\n",
        "![alt text](https://3qeqpr26caki16dnhd19sv6by6v-wpengine.netdna-ssl.com/wp-content/uploads/2016/07/5-Step-Life-Cycle-for-Neural-Network-Models-in-Keras.png)"
      ]
    },
    {
      "cell_type": "code",
      "metadata": {
        "id": "KLycihdcTBV2",
        "colab_type": "code",
        "colab": {}
      },
      "source": [
        "from keras.models import Sequential\n",
        "import keras\n",
        "model=Sequential()"
      ],
      "execution_count": 0,
      "outputs": []
    },
    {
      "cell_type": "markdown",
      "metadata": {
        "id": "7lYN9g6STtPm",
        "colab_type": "text"
      },
      "source": [
        "Stacking layers is as easy as **.add()**"
      ]
    },
    {
      "cell_type": "code",
      "metadata": {
        "id": "9WluRXsNT1fP",
        "colab_type": "code",
        "colab": {}
      },
      "source": [
        "from keras.layers import Dense\n",
        "model.add(Dense(units=64, activation='relu',input_dim=100))\n",
        "model.add(Dense(units=10,activation='softmax'))"
      ],
      "execution_count": 0,
      "outputs": []
    },
    {
      "cell_type": "markdown",
      "metadata": {
        "id": "TRyQZR8lUNia",
        "colab_type": "text"
      },
      "source": [
        "Once Model looks good, configure its learning process with **.compile**"
      ]
    },
    {
      "cell_type": "code",
      "metadata": {
        "id": "l8KMJeHvUV1q",
        "colab_type": "code",
        "colab": {}
      },
      "source": [
        "model.compile(loss='categorical_crossentropy',optimizer='sgd',metrics=['accuracy'])"
      ],
      "execution_count": 0,
      "outputs": []
    },
    {
      "cell_type": "markdown",
      "metadata": {
        "id": "JS6WEsxIVCWY",
        "colab_type": "text"
      },
      "source": [
        "**categorical_crossentropy loss:** targets should be in categorical format(e.g. if you have 10 classes, the target for each sample should be a 10 dimensional vector that is all-zeros for a 1 at the index corrosponding to the class of the sample.\n",
        "\n",
        "**Stochastic gradient descent Optimizer**: A gradient Descent algorithm in which batch size is one. In other words, SGD relies on a single example chosen uniformly at random from a dataset to calculate an estimate of the gradient at each step.\n",
        "\n",
        "**Accuracy**\n",
        "In Multiclass Classification\n",
        "\n",
        "**Accuracy= Correct Predictions/Total Number of Examples.**\n",
        "\n",
        "In Binary Classification, accuracy has the following defination:\n",
        "\n",
        "**Accuracy**= True Positives+True Negatives **/** Total Number of Examples\n",
        "\n",
        "**tf.metrics**: determines how often a model's prediction match labels.\n",
        "\n"
      ]
    },
    {
      "cell_type": "code",
      "metadata": {
        "id": "bqPn41enaDqH",
        "colab_type": "code",
        "colab": {}
      },
      "source": [
        "model.compile(loss=keras.losses.categorical_crossentropy,optimizer=keras.optimizers.SGD(lr=0.01,momentum=0.9,nesterov=True))"
      ],
      "execution_count": 0,
      "outputs": []
    },
    {
      "cell_type": "markdown",
      "metadata": {
        "id": "hcAD1rOYbgLn",
        "colab_type": "text"
      },
      "source": [
        "You can now iterate on your training data in batches:"
      ]
    },
    {
      "cell_type": "code",
      "metadata": {
        "id": "qq1E4mkpbnQN",
        "colab_type": "code",
        "colab": {}
      },
      "source": [
        "#X_Train and y_train are numPy arrays --just in the Scikit-Learn API\n",
        "model.fit(x_train,y_train,epochs-5,batch_size=32)"
      ],
      "execution_count": 0,
      "outputs": []
    },
    {
      "cell_type": "markdown",
      "metadata": {
        "id": "gli4RFbwcG3k",
        "colab_type": "text"
      },
      "source": [
        "Alternatively, you can feed batches to your model manually:"
      ]
    },
    {
      "cell_type": "code",
      "metadata": {
        "id": "5333PylPcPxS",
        "colab_type": "code",
        "colab": {}
      },
      "source": [
        "model.train_on_batch(x_batch,y_batch)"
      ],
      "execution_count": 0,
      "outputs": []
    },
    {
      "cell_type": "markdown",
      "metadata": {
        "id": "6o7Yq_7Ncccv",
        "colab_type": "text"
      },
      "source": [
        "Evaluate your performance in one line"
      ]
    },
    {
      "cell_type": "code",
      "metadata": {
        "id": "xh04yrNxcXK9",
        "colab_type": "code",
        "colab": {}
      },
      "source": [
        "loss_and_metrics=model.evaluate(x_test,y_test,batch_size=128)"
      ],
      "execution_count": 0,
      "outputs": []
    },
    {
      "cell_type": "markdown",
      "metadata": {
        "id": "LWmUHAbYcn4Y",
        "colab_type": "text"
      },
      "source": [
        "Or generate predictions on new data"
      ]
    },
    {
      "cell_type": "code",
      "metadata": {
        "id": "ZvWoUxu_cyML",
        "colab_type": "code",
        "colab": {}
      },
      "source": [
        "classes=model.predict(X_test,batch_size=128)"
      ],
      "execution_count": 0,
      "outputs": []
    }
  ]
}