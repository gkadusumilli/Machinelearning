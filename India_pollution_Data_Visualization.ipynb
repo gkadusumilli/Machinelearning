{
  "nbformat": 4,
  "nbformat_minor": 0,
  "metadata": {
    "colab": {
      "name": "India_pollution_Data_Visualization.ipynb",
      "provenance": [],
      "include_colab_link": true
    },
    "kernelspec": {
      "name": "python3",
      "display_name": "Python 3"
    }
  },
  "cells": [
    {
      "cell_type": "markdown",
      "metadata": {
        "id": "view-in-github",
        "colab_type": "text"
      },
      "source": [
        "<a href=\"https://colab.research.google.com/github/gkadusumilli/Machinelearning/blob/master/India_pollution_Data_Visualization.ipynb\" target=\"_parent\"><img src=\"https://colab.research.google.com/assets/colab-badge.svg\" alt=\"Open In Colab\"/></a>"
      ]
    },
    {
      "cell_type": "code",
      "metadata": {
        "id": "XW6XC6sV_kLs",
        "colab_type": "code",
        "colab": {}
      },
      "source": [
        "import pandas as pd\n",
        "import numpy as np\n",
        "import matplotlib.pyplot as plt\n",
        "import seaborn as sns"
      ],
      "execution_count": 0,
      "outputs": []
    },
    {
      "cell_type": "code",
      "metadata": {
        "id": "bQ7nMPYPAAIp",
        "colab_type": "code",
        "colab": {
          "resources": {
            "http://localhost:8080/nbextensions/google.colab/files.js": {
              "data": "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",
              "ok": true,
              "headers": [
                [
                  "content-type",
                  "application/javascript"
                ]
              ],
              "status": 200,
              "status_text": ""
            }
          },
          "base_uri": "https://localhost:8080/",
          "height": 75
        },
        "outputId": "8579ba34-85ef-4905-9c7c-3038381b4d87"
      },
      "source": [
        "from google.colab import files\n",
        "uploaded=files.upload()"
      ],
      "execution_count": 4,
      "outputs": [
        {
          "output_type": "display_data",
          "data": {
            "text/html": [
              "\n",
              "     <input type=\"file\" id=\"files-4b3b671c-2fe1-462f-8b27-6214978cd5a7\" name=\"files[]\" multiple disabled />\n",
              "     <output id=\"result-4b3b671c-2fe1-462f-8b27-6214978cd5a7\">\n",
              "      Upload widget is only available when the cell has been executed in the\n",
              "      current browser session. Please rerun this cell to enable.\n",
              "      </output>\n",
              "      <script src=\"/nbextensions/google.colab/files.js\"></script> "
            ],
            "text/plain": [
              "<IPython.core.display.HTML object>"
            ]
          },
          "metadata": {
            "tags": []
          }
        },
        {
          "output_type": "stream",
          "text": [
            "Saving All_Cities.xlsx to All_Cities.xlsx\n"
          ],
          "name": "stdout"
        }
      ]
    },
    {
      "cell_type": "code",
      "metadata": {
        "id": "tVJ4mhPQAcuI",
        "colab_type": "code",
        "colab": {}
      },
      "source": [
        "data=pd.read_excel('All_Cities.xlsx',sheet_name=\"Sheet1\")"
      ],
      "execution_count": 0,
      "outputs": []
    },
    {
      "cell_type": "code",
      "metadata": {
        "id": "5XfG6vaNA6gA",
        "colab_type": "code",
        "colab": {
          "base_uri": "https://localhost:8080/",
          "height": 352
        },
        "outputId": "686ff444-4212-4e6b-cd6f-723595940aa5"
      },
      "source": [
        "data.head(10)"
      ],
      "execution_count": 9,
      "outputs": [
        {
          "output_type": "execute_result",
          "data": {
            "text/html": [
              "<div>\n",
              "<style scoped>\n",
              "    .dataframe tbody tr th:only-of-type {\n",
              "        vertical-align: middle;\n",
              "    }\n",
              "\n",
              "    .dataframe tbody tr th {\n",
              "        vertical-align: top;\n",
              "    }\n",
              "\n",
              "    .dataframe thead th {\n",
              "        text-align: right;\n",
              "    }\n",
              "</style>\n",
              "<table border=\"1\" class=\"dataframe\">\n",
              "  <thead>\n",
              "    <tr style=\"text-align: right;\">\n",
              "      <th></th>\n",
              "      <th>year</th>\n",
              "      <th>month</th>\n",
              "      <th>day</th>\n",
              "      <th>SO2</th>\n",
              "      <th>NO2</th>\n",
              "      <th>PM10</th>\n",
              "      <th>Stn Code</th>\n",
              "      <th>State</th>\n",
              "      <th>City</th>\n",
              "    </tr>\n",
              "  </thead>\n",
              "  <tbody>\n",
              "    <tr>\n",
              "      <th>0</th>\n",
              "      <td>2015</td>\n",
              "      <td>1</td>\n",
              "      <td>1</td>\n",
              "      <td>9.0</td>\n",
              "      <td>18.0</td>\n",
              "      <td>46.0</td>\n",
              "      <td>233</td>\n",
              "      <td>Andhra Pradesh</td>\n",
              "      <td>Visakhapatnam</td>\n",
              "    </tr>\n",
              "    <tr>\n",
              "      <th>1</th>\n",
              "      <td>2015</td>\n",
              "      <td>1</td>\n",
              "      <td>4</td>\n",
              "      <td>8.0</td>\n",
              "      <td>18.0</td>\n",
              "      <td>27.0</td>\n",
              "      <td>233</td>\n",
              "      <td>Andhra Pradesh</td>\n",
              "      <td>Visakhapatnam</td>\n",
              "    </tr>\n",
              "    <tr>\n",
              "      <th>2</th>\n",
              "      <td>2015</td>\n",
              "      <td>1</td>\n",
              "      <td>7</td>\n",
              "      <td>9.0</td>\n",
              "      <td>15.0</td>\n",
              "      <td>29.0</td>\n",
              "      <td>233</td>\n",
              "      <td>Andhra Pradesh</td>\n",
              "      <td>Visakhapatnam</td>\n",
              "    </tr>\n",
              "    <tr>\n",
              "      <th>3</th>\n",
              "      <td>2015</td>\n",
              "      <td>1</td>\n",
              "      <td>10</td>\n",
              "      <td>7.0</td>\n",
              "      <td>17.0</td>\n",
              "      <td>78.0</td>\n",
              "      <td>233</td>\n",
              "      <td>Andhra Pradesh</td>\n",
              "      <td>Visakhapatnam</td>\n",
              "    </tr>\n",
              "    <tr>\n",
              "      <th>4</th>\n",
              "      <td>2015</td>\n",
              "      <td>1</td>\n",
              "      <td>13</td>\n",
              "      <td>9.0</td>\n",
              "      <td>23.0</td>\n",
              "      <td>35.0</td>\n",
              "      <td>233</td>\n",
              "      <td>Andhra Pradesh</td>\n",
              "      <td>Visakhapatnam</td>\n",
              "    </tr>\n",
              "    <tr>\n",
              "      <th>5</th>\n",
              "      <td>2015</td>\n",
              "      <td>1</td>\n",
              "      <td>16</td>\n",
              "      <td>9.0</td>\n",
              "      <td>15.0</td>\n",
              "      <td>30.0</td>\n",
              "      <td>233</td>\n",
              "      <td>Andhra Pradesh</td>\n",
              "      <td>Visakhapatnam</td>\n",
              "    </tr>\n",
              "    <tr>\n",
              "      <th>6</th>\n",
              "      <td>2015</td>\n",
              "      <td>1</td>\n",
              "      <td>19</td>\n",
              "      <td>9.0</td>\n",
              "      <td>18.0</td>\n",
              "      <td>76.0</td>\n",
              "      <td>233</td>\n",
              "      <td>Andhra Pradesh</td>\n",
              "      <td>Visakhapatnam</td>\n",
              "    </tr>\n",
              "    <tr>\n",
              "      <th>7</th>\n",
              "      <td>2015</td>\n",
              "      <td>1</td>\n",
              "      <td>22</td>\n",
              "      <td>8.0</td>\n",
              "      <td>12.0</td>\n",
              "      <td>42.0</td>\n",
              "      <td>233</td>\n",
              "      <td>Andhra Pradesh</td>\n",
              "      <td>Visakhapatnam</td>\n",
              "    </tr>\n",
              "    <tr>\n",
              "      <th>8</th>\n",
              "      <td>2015</td>\n",
              "      <td>1</td>\n",
              "      <td>25</td>\n",
              "      <td>9.0</td>\n",
              "      <td>18.0</td>\n",
              "      <td>39.0</td>\n",
              "      <td>233</td>\n",
              "      <td>Andhra Pradesh</td>\n",
              "      <td>Visakhapatnam</td>\n",
              "    </tr>\n",
              "    <tr>\n",
              "      <th>9</th>\n",
              "      <td>2015</td>\n",
              "      <td>2</td>\n",
              "      <td>1</td>\n",
              "      <td>6.0</td>\n",
              "      <td>11.0</td>\n",
              "      <td>39.0</td>\n",
              "      <td>233</td>\n",
              "      <td>Andhra Pradesh</td>\n",
              "      <td>Visakhapatnam</td>\n",
              "    </tr>\n",
              "  </tbody>\n",
              "</table>\n",
              "</div>"
            ],
            "text/plain": [
              "   year  month  day  SO2   NO2  PM10  Stn Code           State           City\n",
              "0  2015      1    1  9.0  18.0  46.0       233  Andhra Pradesh  Visakhapatnam\n",
              "1  2015      1    4  8.0  18.0  27.0       233  Andhra Pradesh  Visakhapatnam\n",
              "2  2015      1    7  9.0  15.0  29.0       233  Andhra Pradesh  Visakhapatnam\n",
              "3  2015      1   10  7.0  17.0  78.0       233  Andhra Pradesh  Visakhapatnam\n",
              "4  2015      1   13  9.0  23.0  35.0       233  Andhra Pradesh  Visakhapatnam\n",
              "5  2015      1   16  9.0  15.0  30.0       233  Andhra Pradesh  Visakhapatnam\n",
              "6  2015      1   19  9.0  18.0  76.0       233  Andhra Pradesh  Visakhapatnam\n",
              "7  2015      1   22  8.0  12.0  42.0       233  Andhra Pradesh  Visakhapatnam\n",
              "8  2015      1   25  9.0  18.0  39.0       233  Andhra Pradesh  Visakhapatnam\n",
              "9  2015      2    1  6.0  11.0  39.0       233  Andhra Pradesh  Visakhapatnam"
            ]
          },
          "metadata": {
            "tags": []
          },
          "execution_count": 9
        }
      ]
    },
    {
      "cell_type": "code",
      "metadata": {
        "id": "PsIFUu4zCCTC",
        "colab_type": "code",
        "colab": {
          "base_uri": "https://localhost:8080/",
          "height": 291
        },
        "outputId": "3b70e5e0-492b-4f19-fe3c-f84233912ac3"
      },
      "source": [
        "data.describe()"
      ],
      "execution_count": 11,
      "outputs": [
        {
          "output_type": "execute_result",
          "data": {
            "text/html": [
              "<div>\n",
              "<style scoped>\n",
              "    .dataframe tbody tr th:only-of-type {\n",
              "        vertical-align: middle;\n",
              "    }\n",
              "\n",
              "    .dataframe tbody tr th {\n",
              "        vertical-align: top;\n",
              "    }\n",
              "\n",
              "    .dataframe thead th {\n",
              "        text-align: right;\n",
              "    }\n",
              "</style>\n",
              "<table border=\"1\" class=\"dataframe\">\n",
              "  <thead>\n",
              "    <tr style=\"text-align: right;\">\n",
              "      <th></th>\n",
              "      <th>year</th>\n",
              "      <th>month</th>\n",
              "      <th>day</th>\n",
              "      <th>SO2</th>\n",
              "      <th>NO2</th>\n",
              "      <th>PM10</th>\n",
              "      <th>Stn Code</th>\n",
              "    </tr>\n",
              "  </thead>\n",
              "  <tbody>\n",
              "    <tr>\n",
              "      <th>count</th>\n",
              "      <td>213083.000000</td>\n",
              "      <td>213083.000000</td>\n",
              "      <td>213083.000000</td>\n",
              "      <td>213083.000000</td>\n",
              "      <td>213083.000000</td>\n",
              "      <td>213083.000000</td>\n",
              "      <td>213083.000000</td>\n",
              "    </tr>\n",
              "    <tr>\n",
              "      <th>mean</th>\n",
              "      <td>2013.161787</td>\n",
              "      <td>6.493831</td>\n",
              "      <td>15.642848</td>\n",
              "      <td>9.371937</td>\n",
              "      <td>23.931919</td>\n",
              "      <td>105.794332</td>\n",
              "      <td>434.213133</td>\n",
              "    </tr>\n",
              "    <tr>\n",
              "      <th>std</th>\n",
              "      <td>1.413248</td>\n",
              "      <td>3.447950</td>\n",
              "      <td>8.733599</td>\n",
              "      <td>11.053701</td>\n",
              "      <td>18.441429</td>\n",
              "      <td>72.050260</td>\n",
              "      <td>213.693708</td>\n",
              "    </tr>\n",
              "    <tr>\n",
              "      <th>min</th>\n",
              "      <td>2011.000000</td>\n",
              "      <td>1.000000</td>\n",
              "      <td>1.000000</td>\n",
              "      <td>0.000000</td>\n",
              "      <td>0.000000</td>\n",
              "      <td>0.000000</td>\n",
              "      <td>1.000000</td>\n",
              "    </tr>\n",
              "    <tr>\n",
              "      <th>25%</th>\n",
              "      <td>2012.000000</td>\n",
              "      <td>3.000000</td>\n",
              "      <td>8.000000</td>\n",
              "      <td>4.000000</td>\n",
              "      <td>13.000000</td>\n",
              "      <td>55.000000</td>\n",
              "      <td>287.000000</td>\n",
              "    </tr>\n",
              "    <tr>\n",
              "      <th>50%</th>\n",
              "      <td>2013.000000</td>\n",
              "      <td>6.000000</td>\n",
              "      <td>16.000000</td>\n",
              "      <td>7.000000</td>\n",
              "      <td>20.000000</td>\n",
              "      <td>88.000000</td>\n",
              "      <td>450.000000</td>\n",
              "    </tr>\n",
              "    <tr>\n",
              "      <th>75%</th>\n",
              "      <td>2014.000000</td>\n",
              "      <td>10.000000</td>\n",
              "      <td>23.000000</td>\n",
              "      <td>12.000000</td>\n",
              "      <td>30.000000</td>\n",
              "      <td>138.000000</td>\n",
              "      <td>609.000000</td>\n",
              "    </tr>\n",
              "    <tr>\n",
              "      <th>max</th>\n",
              "      <td>2015.000000</td>\n",
              "      <td>12.000000</td>\n",
              "      <td>31.000000</td>\n",
              "      <td>909.000000</td>\n",
              "      <td>876.000000</td>\n",
              "      <td>1288.000000</td>\n",
              "      <td>992.000000</td>\n",
              "    </tr>\n",
              "  </tbody>\n",
              "</table>\n",
              "</div>"
            ],
            "text/plain": [
              "                year          month  ...           PM10       Stn Code\n",
              "count  213083.000000  213083.000000  ...  213083.000000  213083.000000\n",
              "mean     2013.161787       6.493831  ...     105.794332     434.213133\n",
              "std         1.413248       3.447950  ...      72.050260     213.693708\n",
              "min      2011.000000       1.000000  ...       0.000000       1.000000\n",
              "25%      2012.000000       3.000000  ...      55.000000     287.000000\n",
              "50%      2013.000000       6.000000  ...      88.000000     450.000000\n",
              "75%      2014.000000      10.000000  ...     138.000000     609.000000\n",
              "max      2015.000000      12.000000  ...    1288.000000     992.000000\n",
              "\n",
              "[8 rows x 7 columns]"
            ]
          },
          "metadata": {
            "tags": []
          },
          "execution_count": 11
        }
      ]
    },
    {
      "cell_type": "code",
      "metadata": {
        "id": "2zR92X_ECI0D",
        "colab_type": "code",
        "colab": {
          "base_uri": "https://localhost:8080/",
          "height": 266
        },
        "outputId": "3da8ff48-82f4-43a2-cd74-16f2b2227fbd"
      },
      "source": [
        "data.info()"
      ],
      "execution_count": 13,
      "outputs": [
        {
          "output_type": "stream",
          "text": [
            "<class 'pandas.core.frame.DataFrame'>\n",
            "RangeIndex: 213083 entries, 0 to 213082\n",
            "Data columns (total 9 columns):\n",
            "year        213083 non-null int64\n",
            "month       213083 non-null int64\n",
            "day         213083 non-null int64\n",
            "SO2         213083 non-null float64\n",
            "NO2         213083 non-null float64\n",
            "PM10        213083 non-null float64\n",
            "Stn Code    213083 non-null int64\n",
            "State       213083 non-null object\n",
            "City        213083 non-null object\n",
            "dtypes: float64(3), int64(4), object(2)\n",
            "memory usage: 14.6+ MB\n"
          ],
          "name": "stdout"
        }
      ]
    },
    {
      "cell_type": "code",
      "metadata": {
        "id": "xVZQSUoZCjQJ",
        "colab_type": "code",
        "colab": {
          "base_uri": "https://localhost:8080/",
          "height": 531
        },
        "outputId": "bceff75a-087f-459e-a147-0637c912484f"
      },
      "source": [
        "plt.figure(figsize=(15,8))\n",
        "custom_palette=sns.color_palette(\"Paired\",9)\n",
        "\n",
        "sns.lineplot(x=\"year\", y=\"SO2\",data=data,label=\"SO2\",palette=custom_palette)\n",
        "sns.lineplot(x=\"year\", y=\"NO2\",data=data,label=\"NO2\",palette=custom_palette)\n",
        "sns.lineplot(x=\"year\", y=\"PM10\",data=data,label=\"PM10\",palette=custom_palette)\n",
        "\n",
        "plt.legend()\n",
        "\n",
        "#plt.style.use(\"dark_background\")\n",
        "plt.title(\"Pollution over time\")\n",
        "plt.ylabel(\"Pollution\")\n",
        "plt.xlabel(\"Time\")"
      ],
      "execution_count": 19,
      "outputs": [
        {
          "output_type": "execute_result",
          "data": {
            "text/plain": [
              "Text(0.5, 0, 'Time')"
            ]
          },
          "metadata": {
            "tags": []
          },
          "execution_count": 19
        },
        {
          "output_type": "display_data",
          "data": {
            "image/png": "[encoded data removed]",
            "text/plain": [
              "<Figure size 1080x576 with 1 Axes>"
            ]
          },
          "metadata": {
            "tags": []
          }
        }
      ]
    },
    {
      "cell_type": "code",
      "metadata": {
        "id": "5SZRIR_REX4Z",
        "colab_type": "code",
        "colab": {}
      },
      "source": [
        "by_states=data.groupby(\"State\")\n",
        "\n",
        "data_bystates=by_states.mean()"
      ],
      "execution_count": 0,
      "outputs": []
    },
    {
      "cell_type": "code",
      "metadata": {
        "id": "v6uMTgQSErc5",
        "colab_type": "code",
        "colab": {}
      },
      "source": [
        "data_bystates.reset_index(level=0,inplace=True)"
      ],
      "execution_count": 0,
      "outputs": []
    },
    {
      "cell_type": "code",
      "metadata": {
        "id": "GGLsfjb_E1XV",
        "colab_type": "code",
        "colab": {
          "base_uri": "https://localhost:8080/",
          "height": 990
        },
        "outputId": "90551b8e-2a48-40ad-b8a1-e1195960bc10"
      },
      "source": [
        "data_bystates"
      ],
      "execution_count": 24,
      "outputs": [
        {
          "output_type": "execute_result",
          "data": {
            "text/html": [
              "<div>\n",
              "<style scoped>\n",
              "    .dataframe tbody tr th:only-of-type {\n",
              "        vertical-align: middle;\n",
              "    }\n",
              "\n",
              "    .dataframe tbody tr th {\n",
              "        vertical-align: top;\n",
              "    }\n",
              "\n",
              "    .dataframe thead th {\n",
              "        text-align: right;\n",
              "    }\n",
              "</style>\n",
              "<table border=\"1\" class=\"dataframe\">\n",
              "  <thead>\n",
              "    <tr style=\"text-align: right;\">\n",
              "      <th></th>\n",
              "      <th>State</th>\n",
              "      <th>year</th>\n",
              "      <th>month</th>\n",
              "      <th>day</th>\n",
              "      <th>SO2</th>\n",
              "      <th>NO2</th>\n",
              "      <th>PM10</th>\n",
              "      <th>Stn Code</th>\n",
              "    </tr>\n",
              "  </thead>\n",
              "  <tbody>\n",
              "    <tr>\n",
              "      <th>0</th>\n",
              "      <td>Andhra Pradesh</td>\n",
              "      <td>2013.172166</td>\n",
              "      <td>6.503177</td>\n",
              "      <td>14.804869</td>\n",
              "      <td>6.971645</td>\n",
              "      <td>18.092307</td>\n",
              "      <td>75.794058</td>\n",
              "      <td>512.932864</td>\n",
              "    </tr>\n",
              "    <tr>\n",
              "      <th>1</th>\n",
              "      <td>Arunachal Pradesh</td>\n",
              "      <td>2014.666667</td>\n",
              "      <td>7.755556</td>\n",
              "      <td>16.577778</td>\n",
              "      <td>2.366667</td>\n",
              "      <td>4.011111</td>\n",
              "      <td>75.777778</td>\n",
              "      <td>787.500000</td>\n",
              "    </tr>\n",
              "    <tr>\n",
              "      <th>2</th>\n",
              "      <td>Assam</td>\n",
              "      <td>2013.500587</td>\n",
              "      <td>6.546448</td>\n",
              "      <td>15.440552</td>\n",
              "      <td>6.699702</td>\n",
              "      <td>14.402577</td>\n",
              "      <td>95.272863</td>\n",
              "      <td>533.669405</td>\n",
              "    </tr>\n",
              "    <tr>\n",
              "      <th>3</th>\n",
              "      <td>Bihar</td>\n",
              "      <td>2011.782468</td>\n",
              "      <td>6.623377</td>\n",
              "      <td>15.081169</td>\n",
              "      <td>4.649351</td>\n",
              "      <td>33.042208</td>\n",
              "      <td>160.360390</td>\n",
              "      <td>241.233766</td>\n",
              "    </tr>\n",
              "    <tr>\n",
              "      <th>4</th>\n",
              "      <td>Chandigarh</td>\n",
              "      <td>2013.066667</td>\n",
              "      <td>6.499713</td>\n",
              "      <td>15.583046</td>\n",
              "      <td>1.729483</td>\n",
              "      <td>18.823420</td>\n",
              "      <td>96.200575</td>\n",
              "      <td>306.063506</td>\n",
              "    </tr>\n",
              "    <tr>\n",
              "      <th>5</th>\n",
              "      <td>Chhattisgarh</td>\n",
              "      <td>2012.913580</td>\n",
              "      <td>6.520793</td>\n",
              "      <td>15.633853</td>\n",
              "      <td>9.952956</td>\n",
              "      <td>21.937112</td>\n",
              "      <td>97.062479</td>\n",
              "      <td>266.059129</td>\n",
              "    </tr>\n",
              "    <tr>\n",
              "      <th>6</th>\n",
              "      <td>Dadra and Nagar Haveli</td>\n",
              "      <td>2012.148837</td>\n",
              "      <td>7.325581</td>\n",
              "      <td>16.130233</td>\n",
              "      <td>9.260000</td>\n",
              "      <td>21.153488</td>\n",
              "      <td>18.511628</td>\n",
              "      <td>558.000000</td>\n",
              "    </tr>\n",
              "    <tr>\n",
              "      <th>7</th>\n",
              "      <td>Daman and Diu</td>\n",
              "      <td>2012.090909</td>\n",
              "      <td>7.181818</td>\n",
              "      <td>15.679654</td>\n",
              "      <td>8.862771</td>\n",
              "      <td>20.805628</td>\n",
              "      <td>16.861472</td>\n",
              "      <td>560.000000</td>\n",
              "    </tr>\n",
              "    <tr>\n",
              "      <th>8</th>\n",
              "      <td>Delhi</td>\n",
              "      <td>2013.165101</td>\n",
              "      <td>6.518786</td>\n",
              "      <td>15.115968</td>\n",
              "      <td>5.464234</td>\n",
              "      <td>67.286850</td>\n",
              "      <td>219.292269</td>\n",
              "      <td>174.798410</td>\n",
              "    </tr>\n",
              "    <tr>\n",
              "      <th>9</th>\n",
              "      <td>Goa</td>\n",
              "      <td>2013.362442</td>\n",
              "      <td>6.465583</td>\n",
              "      <td>15.589886</td>\n",
              "      <td>6.163065</td>\n",
              "      <td>11.743373</td>\n",
              "      <td>63.055469</td>\n",
              "      <td>588.421252</td>\n",
              "    </tr>\n",
              "    <tr>\n",
              "      <th>10</th>\n",
              "      <td>Gujarat</td>\n",
              "      <td>2012.824426</td>\n",
              "      <td>5.771437</td>\n",
              "      <td>15.735205</td>\n",
              "      <td>14.221257</td>\n",
              "      <td>22.089072</td>\n",
              "      <td>88.035904</td>\n",
              "      <td>209.373188</td>\n",
              "    </tr>\n",
              "    <tr>\n",
              "      <th>11</th>\n",
              "      <td>Haryana</td>\n",
              "      <td>2012.312718</td>\n",
              "      <td>6.380662</td>\n",
              "      <td>15.658537</td>\n",
              "      <td>12.531359</td>\n",
              "      <td>30.010453</td>\n",
              "      <td>153.401873</td>\n",
              "      <td>335.968641</td>\n",
              "    </tr>\n",
              "    <tr>\n",
              "      <th>12</th>\n",
              "      <td>Himachal Pradesh</td>\n",
              "      <td>2013.078900</td>\n",
              "      <td>6.544656</td>\n",
              "      <td>15.926468</td>\n",
              "      <td>1.966142</td>\n",
              "      <td>12.205225</td>\n",
              "      <td>86.817432</td>\n",
              "      <td>408.949976</td>\n",
              "    </tr>\n",
              "    <tr>\n",
              "      <th>13</th>\n",
              "      <td>Jammu &amp; Kashmir</td>\n",
              "      <td>2013.399381</td>\n",
              "      <td>6.590299</td>\n",
              "      <td>15.286894</td>\n",
              "      <td>7.073271</td>\n",
              "      <td>11.471620</td>\n",
              "      <td>117.235294</td>\n",
              "      <td>385.668731</td>\n",
              "    </tr>\n",
              "    <tr>\n",
              "      <th>14</th>\n",
              "      <td>Jharkhand</td>\n",
              "      <td>2012.602451</td>\n",
              "      <td>6.210264</td>\n",
              "      <td>15.641900</td>\n",
              "      <td>20.260483</td>\n",
              "      <td>38.550937</td>\n",
              "      <td>167.201802</td>\n",
              "      <td>340.690923</td>\n",
              "    </tr>\n",
              "    <tr>\n",
              "      <th>15</th>\n",
              "      <td>Karnataka</td>\n",
              "      <td>2013.335281</td>\n",
              "      <td>6.598664</td>\n",
              "      <td>15.914223</td>\n",
              "      <td>8.295147</td>\n",
              "      <td>18.831183</td>\n",
              "      <td>84.369420</td>\n",
              "      <td>450.689137</td>\n",
              "    </tr>\n",
              "    <tr>\n",
              "      <th>16</th>\n",
              "      <td>Kerala</td>\n",
              "      <td>2013.022964</td>\n",
              "      <td>6.480044</td>\n",
              "      <td>16.038738</td>\n",
              "      <td>4.024923</td>\n",
              "      <td>12.848808</td>\n",
              "      <td>49.959892</td>\n",
              "      <td>399.447395</td>\n",
              "    </tr>\n",
              "    <tr>\n",
              "      <th>17</th>\n",
              "      <td>Madhya Pradesh</td>\n",
              "      <td>2013.283291</td>\n",
              "      <td>6.287372</td>\n",
              "      <td>15.436224</td>\n",
              "      <td>10.518781</td>\n",
              "      <td>18.530673</td>\n",
              "      <td>117.436179</td>\n",
              "      <td>348.682653</td>\n",
              "    </tr>\n",
              "    <tr>\n",
              "      <th>18</th>\n",
              "      <td>Maharashtra</td>\n",
              "      <td>2013.021030</td>\n",
              "      <td>6.579065</td>\n",
              "      <td>15.695435</td>\n",
              "      <td>16.818864</td>\n",
              "      <td>33.581758</td>\n",
              "      <td>104.061843</td>\n",
              "      <td>505.072664</td>\n",
              "    </tr>\n",
              "    <tr>\n",
              "      <th>19</th>\n",
              "      <td>Meghalaya</td>\n",
              "      <td>2013.114583</td>\n",
              "      <td>6.007440</td>\n",
              "      <td>15.424107</td>\n",
              "      <td>7.813616</td>\n",
              "      <td>10.324185</td>\n",
              "      <td>65.581514</td>\n",
              "      <td>491.312128</td>\n",
              "    </tr>\n",
              "    <tr>\n",
              "      <th>20</th>\n",
              "      <td>Mizoram</td>\n",
              "      <td>2013.615346</td>\n",
              "      <td>6.479748</td>\n",
              "      <td>15.608050</td>\n",
              "      <td>2.057362</td>\n",
              "      <td>6.471923</td>\n",
              "      <td>44.248637</td>\n",
              "      <td>626.869686</td>\n",
              "    </tr>\n",
              "    <tr>\n",
              "      <th>21</th>\n",
              "      <td>Nagaland</td>\n",
              "      <td>2012.971970</td>\n",
              "      <td>6.521847</td>\n",
              "      <td>15.577082</td>\n",
              "      <td>1.998351</td>\n",
              "      <td>6.064303</td>\n",
              "      <td>94.146744</td>\n",
              "      <td>496.575433</td>\n",
              "    </tr>\n",
              "    <tr>\n",
              "      <th>22</th>\n",
              "      <td>Odisha</td>\n",
              "      <td>2013.587333</td>\n",
              "      <td>6.680070</td>\n",
              "      <td>15.760139</td>\n",
              "      <td>4.501185</td>\n",
              "      <td>17.526903</td>\n",
              "      <td>87.707507</td>\n",
              "      <td>431.971063</td>\n",
              "    </tr>\n",
              "    <tr>\n",
              "      <th>23</th>\n",
              "      <td>Puducherry</td>\n",
              "      <td>2013.455201</td>\n",
              "      <td>6.511726</td>\n",
              "      <td>15.794348</td>\n",
              "      <td>8.070475</td>\n",
              "      <td>12.202646</td>\n",
              "      <td>38.930848</td>\n",
              "      <td>327.159952</td>\n",
              "    </tr>\n",
              "    <tr>\n",
              "      <th>24</th>\n",
              "      <td>Punjab</td>\n",
              "      <td>2013.170148</td>\n",
              "      <td>6.476494</td>\n",
              "      <td>15.564229</td>\n",
              "      <td>8.845303</td>\n",
              "      <td>24.387979</td>\n",
              "      <td>143.713317</td>\n",
              "      <td>414.301508</td>\n",
              "    </tr>\n",
              "    <tr>\n",
              "      <th>25</th>\n",
              "      <td>Rajasthan</td>\n",
              "      <td>2013.067368</td>\n",
              "      <td>6.565158</td>\n",
              "      <td>15.722947</td>\n",
              "      <td>7.240171</td>\n",
              "      <td>31.960512</td>\n",
              "      <td>164.308557</td>\n",
              "      <td>322.307579</td>\n",
              "    </tr>\n",
              "    <tr>\n",
              "      <th>26</th>\n",
              "      <td>Tamil Nadu</td>\n",
              "      <td>2013.239761</td>\n",
              "      <td>6.537649</td>\n",
              "      <td>15.900643</td>\n",
              "      <td>10.930670</td>\n",
              "      <td>21.431482</td>\n",
              "      <td>67.843111</td>\n",
              "      <td>405.766116</td>\n",
              "    </tr>\n",
              "    <tr>\n",
              "      <th>27</th>\n",
              "      <td>Telangana</td>\n",
              "      <td>2014.540975</td>\n",
              "      <td>6.627451</td>\n",
              "      <td>15.477878</td>\n",
              "      <td>5.376383</td>\n",
              "      <td>23.666038</td>\n",
              "      <td>85.000251</td>\n",
              "      <td>487.553042</td>\n",
              "    </tr>\n",
              "    <tr>\n",
              "      <th>28</th>\n",
              "      <td>Uttar Pradesh</td>\n",
              "      <td>2013.060241</td>\n",
              "      <td>6.503439</td>\n",
              "      <td>15.644017</td>\n",
              "      <td>10.812796</td>\n",
              "      <td>27.707272</td>\n",
              "      <td>177.485624</td>\n",
              "      <td>420.673870</td>\n",
              "    </tr>\n",
              "    <tr>\n",
              "      <th>29</th>\n",
              "      <td>Uttarakhand</td>\n",
              "      <td>2013.138614</td>\n",
              "      <td>6.317382</td>\n",
              "      <td>15.871287</td>\n",
              "      <td>13.838097</td>\n",
              "      <td>15.238326</td>\n",
              "      <td>145.953503</td>\n",
              "      <td>516.926843</td>\n",
              "    </tr>\n",
              "    <tr>\n",
              "      <th>30</th>\n",
              "      <td>West Bengal</td>\n",
              "      <td>2012.879216</td>\n",
              "      <td>6.493557</td>\n",
              "      <td>15.683137</td>\n",
              "      <td>14.067376</td>\n",
              "      <td>54.276798</td>\n",
              "      <td>115.908751</td>\n",
              "      <td>477.945882</td>\n",
              "    </tr>\n",
              "  </tbody>\n",
              "</table>\n",
              "</div>"
            ],
            "text/plain": [
              "                     State         year  ...        PM10    Stn Code\n",
              "0           Andhra Pradesh  2013.172166  ...   75.794058  512.932864\n",
              "1        Arunachal Pradesh  2014.666667  ...   75.777778  787.500000\n",
              "2                    Assam  2013.500587  ...   95.272863  533.669405\n",
              "3                    Bihar  2011.782468  ...  160.360390  241.233766\n",
              "4               Chandigarh  2013.066667  ...   96.200575  306.063506\n",
              "5             Chhattisgarh  2012.913580  ...   97.062479  266.059129\n",
              "6   Dadra and Nagar Haveli  2012.148837  ...   18.511628  558.000000\n",
              "7            Daman and Diu  2012.090909  ...   16.861472  560.000000\n",
              "8                    Delhi  2013.165101  ...  219.292269  174.798410\n",
              "9                      Goa  2013.362442  ...   63.055469  588.421252\n",
              "10                 Gujarat  2012.824426  ...   88.035904  209.373188\n",
              "11                 Haryana  2012.312718  ...  153.401873  335.968641\n",
              "12        Himachal Pradesh  2013.078900  ...   86.817432  408.949976\n",
              "13         Jammu & Kashmir  2013.399381  ...  117.235294  385.668731\n",
              "14               Jharkhand  2012.602451  ...  167.201802  340.690923\n",
              "15               Karnataka  2013.335281  ...   84.369420  450.689137\n",
              "16                  Kerala  2013.022964  ...   49.959892  399.447395\n",
              "17          Madhya Pradesh  2013.283291  ...  117.436179  348.682653\n",
              "18             Maharashtra  2013.021030  ...  104.061843  505.072664\n",
              "19               Meghalaya  2013.114583  ...   65.581514  491.312128\n",
              "20                 Mizoram  2013.615346  ...   44.248637  626.869686\n",
              "21                Nagaland  2012.971970  ...   94.146744  496.575433\n",
              "22                  Odisha  2013.587333  ...   87.707507  431.971063\n",
              "23              Puducherry  2013.455201  ...   38.930848  327.159952\n",
              "24                  Punjab  2013.170148  ...  143.713317  414.301508\n",
              "25               Rajasthan  2013.067368  ...  164.308557  322.307579\n",
              "26              Tamil Nadu  2013.239761  ...   67.843111  405.766116\n",
              "27               Telangana  2014.540975  ...   85.000251  487.553042\n",
              "28           Uttar Pradesh  2013.060241  ...  177.485624  420.673870\n",
              "29             Uttarakhand  2013.138614  ...  145.953503  516.926843\n",
              "30             West Bengal  2012.879216  ...  115.908751  477.945882\n",
              "\n",
              "[31 rows x 8 columns]"
            ]
          },
          "metadata": {
            "tags": []
          },
          "execution_count": 24
        }
      ]
    },
    {
      "cell_type": "code",
      "metadata": {
        "id": "t2qmWx5xE_oE",
        "colab_type": "code",
        "colab": {}
      },
      "source": [
        "temp=data_bystates.filter([\"State\",\"NO2\",\"SO2\",\"PM10\"],axis=1)\n",
        "\n",
        "tidy=temp.melt(id_vars='State').rename(columns=str.title)"
      ],
      "execution_count": 0,
      "outputs": []
    },
    {
      "cell_type": "code",
      "metadata": {
        "id": "S-ma_KsmF9C3",
        "colab_type": "code",
        "colab": {
          "base_uri": "https://localhost:8080/",
          "height": 1000
        },
        "outputId": "aed9f960-3fd6-45e9-a542-74258c294952"
      },
      "source": [
        "plt.figure(figsize=(15,30))\n",
        "sns.barplot(y=\"State\",x=\"Value\",hue='Variable',data=tidy)"
      ],
      "execution_count": 27,
      "outputs": [
        {
          "output_type": "execute_result",
          "data": {
            "text/plain": [
              "<matplotlib.axes._subplots.AxesSubplot at 0x7f08cdbb6198>"
            ]
          },
          "metadata": {
            "tags": []
          },
          "execution_count": 27
        },
        {
          "output_type": "display_data",
          "data": {
            "image/png": "[encoded data removed]",
            "text/plain": [
              "<Figure size 1080x2160 with 1 Axes>"
            ]
          },
          "metadata": {
            "tags": []
          }
        }
      ]
    },
    {
      "cell_type": "code",
      "metadata": {
        "id": "mZACEI1wGex9",
        "colab_type": "code",
        "colab": {
          "base_uri": "https://localhost:8080/",
          "height": 297
        },
        "outputId": "4803972a-3e67-42f2-c750-ad0c2af98808"
      },
      "source": [
        "sns.barplot(x=\"SO2\",y=\"State\",data=data_bystates.sort_values(\"SO2\").tail(10),palette=\"Reds\")"
      ],
      "execution_count": 29,
      "outputs": [
        {
          "output_type": "execute_result",
          "data": {
            "text/plain": [
              "<matplotlib.axes._subplots.AxesSubplot at 0x7f08cd875208>"
            ]
          },
          "metadata": {
            "tags": []
          },
          "execution_count": 29
        },
        {
          "output_type": "display_data",
          "data": {
            "image/png": "[encoded data removed]",
            "text/plain": [
              "<Figure size 432x288 with 1 Axes>"
            ]
          },
          "metadata": {
            "tags": []
          }
        }
      ]
    },
    {
      "cell_type": "code",
      "metadata": {
        "id": "tR1OEnK2G1su",
        "colab_type": "code",
        "colab": {
          "base_uri": "https://localhost:8080/",
          "height": 297
        },
        "outputId": "c31ea5f3-9bda-409b-d4d4-ffbe4211b486"
      },
      "source": [
        "sns.barplot(x=\"NO2\",y=\"State\",data=data_bystates.sort_values(\"NO2\").tail(10),palette=\"Reds\")"
      ],
      "execution_count": 30,
      "outputs": [
        {
          "output_type": "execute_result",
          "data": {
            "text/plain": [
              "<matplotlib.axes._subplots.AxesSubplot at 0x7f08cd7f5e10>"
            ]
          },
          "metadata": {
            "tags": []
          },
          "execution_count": 30
        },
        {
          "output_type": "display_data",
          "data": {
            "image/png": "[encoded data removed]",
            "text/plain": [
              "<Figure size 432x288 with 1 Axes>"
            ]
          },
          "metadata": {
            "tags": []
          }
        }
      ]
    },
    {
      "cell_type": "code",
      "metadata": {
        "id": "e5BZiPglG8CO",
        "colab_type": "code",
        "colab": {
          "base_uri": "https://localhost:8080/",
          "height": 297
        },
        "outputId": "a49a1958-b2bf-439b-bbd6-ad795f2f4649"
      },
      "source": [
        "sns.barplot(x=\"PM10\",y=\"State\",data=data_bystates.sort_values(\"PM10\").tail(10),palette=\"Reds\")"
      ],
      "execution_count": 31,
      "outputs": [
        {
          "output_type": "execute_result",
          "data": {
            "text/plain": [
              "<matplotlib.axes._subplots.AxesSubplot at 0x7f08cd7767b8>"
            ]
          },
          "metadata": {
            "tags": []
          },
          "execution_count": 31
        },
        {
          "output_type": "display_data",
          "data": {
            "image/png": "[encoded data removed]",
            "text/plain": [
              "<Figure size 432x288 with 1 Axes>"
            ]
          },
          "metadata": {
            "tags": []
          }
        }
      ]
    }
  ]
}