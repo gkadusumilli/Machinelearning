{
  "nbformat": 4,
  "nbformat_minor": 0,
  "metadata": {
    "colab": {
      "name": "Pandas_advanced.ipynb",
      "provenance": [],
      "include_colab_link": true
    },
    "kernelspec": {
      "name": "python3",
      "display_name": "Python 3"
    }
  },
  "cells": [
    {
      "cell_type": "markdown",
      "metadata": {
        "id": "view-in-github",
        "colab_type": "text"
      },
      "source": [
        "<a href=\"https://colab.research.google.com/github/gkadusumilli/Machinelearning/blob/master/Pandas_advanced.ipynb\" target=\"_parent\"><img src=\"https://colab.research.google.com/assets/colab-badge.svg\" alt=\"Open In Colab\"/></a>"
      ]
    },
    {
      "cell_type": "code",
      "metadata": {
        "id": "oduktjRkQ9oR",
        "colab_type": "code",
        "outputId": "13bb6c9f-b801-44f2-9761-c402f54a254b",
        "colab": {
          "base_uri": "https://localhost:8080/",
          "height": 153
        }
      },
      "source": [
        "%load_ext watermark\n",
        "\n",
        "%watermark -a 'Gopalakrishna' -v -d -p pandas"
      ],
      "execution_count": 48,
      "outputs": [
        {
          "output_type": "stream",
          "text": [
            "The watermark extension is already loaded. To reload it, use:\n",
            "  %reload_ext watermark\n",
            "Gopalakrishna 2019-12-04 \n",
            "\n",
            "CPython 3.6.8\n",
            "IPython 5.5.0\n",
            "\n",
            "pandas 0.25.3\n"
          ],
          "name": "stdout"
        }
      ]
    },
    {
      "cell_type": "markdown",
      "metadata": {
        "id": "jxi_tLeaR_J_",
        "colab_type": "text"
      },
      "source": [
        "#loding Some Example Data"
      ]
    },
    {
      "cell_type": "code",
      "metadata": {
        "id": "A-2stKYVSIrh",
        "colab_type": "code",
        "outputId": "f83eac4b-af6e-4bfe-adba-b906e9e40ae9",
        "colab": {
          "base_uri": "https://localhost:8080/",
          "height": 359
        }
      },
      "source": [
        "import pandas as pd\n",
        "\n",
        "df = pd.read_csv('https://raw.githubusercontent.com/rasbt/python_reference/master/Data/some_soccer_data.csv')\n",
        "df"
      ],
      "execution_count": 49,
      "outputs": [
        {
          "output_type": "execute_result",
          "data": {
            "text/html": [
              "<div>\n",
              "<style scoped>\n",
              "    .dataframe tbody tr th:only-of-type {\n",
              "        vertical-align: middle;\n",
              "    }\n",
              "\n",
              "    .dataframe tbody tr th {\n",
              "        vertical-align: top;\n",
              "    }\n",
              "\n",
              "    .dataframe thead th {\n",
              "        text-align: right;\n",
              "    }\n",
              "</style>\n",
              "<table border=\"1\" class=\"dataframe\">\n",
              "  <thead>\n",
              "    <tr style=\"text-align: right;\">\n",
              "      <th></th>\n",
              "      <th>PLAYER</th>\n",
              "      <th>SALARY</th>\n",
              "      <th>GP</th>\n",
              "      <th>G</th>\n",
              "      <th>A</th>\n",
              "      <th>SOT</th>\n",
              "      <th>PPG</th>\n",
              "      <th>P</th>\n",
              "    </tr>\n",
              "  </thead>\n",
              "  <tbody>\n",
              "    <tr>\n",
              "      <th>0</th>\n",
              "      <td>Sergio Agüero\\n Forward — Manchester City</td>\n",
              "      <td>$19.2m</td>\n",
              "      <td>16.0</td>\n",
              "      <td>14</td>\n",
              "      <td>3.0</td>\n",
              "      <td>34</td>\n",
              "      <td>13.12</td>\n",
              "      <td>209.98</td>\n",
              "    </tr>\n",
              "    <tr>\n",
              "      <th>1</th>\n",
              "      <td>Eden Hazard\\n Midfield — Chelsea</td>\n",
              "      <td>$18.9m</td>\n",
              "      <td>21.0</td>\n",
              "      <td>8</td>\n",
              "      <td>4.0</td>\n",
              "      <td>17</td>\n",
              "      <td>13.05</td>\n",
              "      <td>274.04</td>\n",
              "    </tr>\n",
              "    <tr>\n",
              "      <th>2</th>\n",
              "      <td>Alexis Sánchez\\n Forward — Arsenal</td>\n",
              "      <td>$17.6m</td>\n",
              "      <td>NaN</td>\n",
              "      <td>12</td>\n",
              "      <td>7.0</td>\n",
              "      <td>29</td>\n",
              "      <td>11.19</td>\n",
              "      <td>223.86</td>\n",
              "    </tr>\n",
              "    <tr>\n",
              "      <th>3</th>\n",
              "      <td>Yaya Touré\\n Midfield — Manchester City</td>\n",
              "      <td>$16.6m</td>\n",
              "      <td>18.0</td>\n",
              "      <td>7</td>\n",
              "      <td>1.0</td>\n",
              "      <td>19</td>\n",
              "      <td>10.99</td>\n",
              "      <td>197.91</td>\n",
              "    </tr>\n",
              "    <tr>\n",
              "      <th>4</th>\n",
              "      <td>Ángel Di María\\n Midfield — Manchester United</td>\n",
              "      <td>$15.0m</td>\n",
              "      <td>13.0</td>\n",
              "      <td>3</td>\n",
              "      <td>NaN</td>\n",
              "      <td>13</td>\n",
              "      <td>10.17</td>\n",
              "      <td>132.23</td>\n",
              "    </tr>\n",
              "    <tr>\n",
              "      <th>5</th>\n",
              "      <td>Santiago Cazorla\\n Midfield — Arsenal</td>\n",
              "      <td>$14.8m</td>\n",
              "      <td>20.0</td>\n",
              "      <td>4</td>\n",
              "      <td>NaN</td>\n",
              "      <td>20</td>\n",
              "      <td>9.97</td>\n",
              "      <td>NaN</td>\n",
              "    </tr>\n",
              "    <tr>\n",
              "      <th>6</th>\n",
              "      <td>David Silva\\n Midfield — Manchester City</td>\n",
              "      <td>$14.3m</td>\n",
              "      <td>15.0</td>\n",
              "      <td>6</td>\n",
              "      <td>2.0</td>\n",
              "      <td>11</td>\n",
              "      <td>10.35</td>\n",
              "      <td>155.26</td>\n",
              "    </tr>\n",
              "    <tr>\n",
              "      <th>7</th>\n",
              "      <td>Cesc Fàbregas\\n Midfield — Chelsea</td>\n",
              "      <td>$14.0m</td>\n",
              "      <td>20.0</td>\n",
              "      <td>2</td>\n",
              "      <td>14.0</td>\n",
              "      <td>10</td>\n",
              "      <td>10.47</td>\n",
              "      <td>209.49</td>\n",
              "    </tr>\n",
              "    <tr>\n",
              "      <th>8</th>\n",
              "      <td>Saido Berahino\\n Forward — West Brom</td>\n",
              "      <td>$13.8m</td>\n",
              "      <td>21.0</td>\n",
              "      <td>9</td>\n",
              "      <td>0.0</td>\n",
              "      <td>20</td>\n",
              "      <td>7.02</td>\n",
              "      <td>147.43</td>\n",
              "    </tr>\n",
              "    <tr>\n",
              "      <th>9</th>\n",
              "      <td>Steven Gerrard\\n Midfield — Liverpool</td>\n",
              "      <td>$13.8m</td>\n",
              "      <td>20.0</td>\n",
              "      <td>5</td>\n",
              "      <td>1.0</td>\n",
              "      <td>11</td>\n",
              "      <td>7.50</td>\n",
              "      <td>150.01</td>\n",
              "    </tr>\n",
              "  </tbody>\n",
              "</table>\n",
              "</div>"
            ],
            "text/plain": [
              "                                          PLAYER  SALARY  ...    PPG       P\n",
              "0      Sergio Agüero\\n Forward — Manchester City  $19.2m  ...  13.12  209.98\n",
              "1               Eden Hazard\\n Midfield — Chelsea  $18.9m  ...  13.05  274.04\n",
              "2             Alexis Sánchez\\n Forward — Arsenal  $17.6m  ...  11.19  223.86\n",
              "3        Yaya Touré\\n Midfield — Manchester City  $16.6m  ...  10.99  197.91\n",
              "4  Ángel Di María\\n Midfield — Manchester United  $15.0m  ...  10.17  132.23\n",
              "5          Santiago Cazorla\\n Midfield — Arsenal  $14.8m  ...   9.97     NaN\n",
              "6       David Silva\\n Midfield — Manchester City  $14.3m  ...  10.35  155.26\n",
              "7             Cesc Fàbregas\\n Midfield — Chelsea  $14.0m  ...  10.47  209.49\n",
              "8           Saido Berahino\\n Forward — West Brom  $13.8m  ...   7.02  147.43\n",
              "9          Steven Gerrard\\n Midfield — Liverpool  $13.8m  ...   7.50  150.01\n",
              "\n",
              "[10 rows x 8 columns]"
            ]
          },
          "metadata": {
            "tags": []
          },
          "execution_count": 49
        }
      ]
    },
    {
      "cell_type": "markdown",
      "metadata": {
        "id": "dgc1IBHQS0AR",
        "colab_type": "text"
      },
      "source": [
        "#Renaming Column names to lowercase"
      ]
    },
    {
      "cell_type": "code",
      "metadata": {
        "id": "LB5yUwa-S_jp",
        "colab_type": "code",
        "outputId": "44b4995e-ae03-433f-975e-927c329d2e5e",
        "colab": {
          "base_uri": "https://localhost:8080/",
          "height": 142
        }
      },
      "source": [
        "df.columns=[c.lower() for c in df.columns]\n",
        "\n",
        "df.tail(3)"
      ],
      "execution_count": 50,
      "outputs": [
        {
          "output_type": "execute_result",
          "data": {
            "text/html": [
              "<div>\n",
              "<style scoped>\n",
              "    .dataframe tbody tr th:only-of-type {\n",
              "        vertical-align: middle;\n",
              "    }\n",
              "\n",
              "    .dataframe tbody tr th {\n",
              "        vertical-align: top;\n",
              "    }\n",
              "\n",
              "    .dataframe thead th {\n",
              "        text-align: right;\n",
              "    }\n",
              "</style>\n",
              "<table border=\"1\" class=\"dataframe\">\n",
              "  <thead>\n",
              "    <tr style=\"text-align: right;\">\n",
              "      <th></th>\n",
              "      <th>player</th>\n",
              "      <th>salary</th>\n",
              "      <th>gp</th>\n",
              "      <th>g</th>\n",
              "      <th>a</th>\n",
              "      <th>sot</th>\n",
              "      <th>ppg</th>\n",
              "      <th>p</th>\n",
              "    </tr>\n",
              "  </thead>\n",
              "  <tbody>\n",
              "    <tr>\n",
              "      <th>7</th>\n",
              "      <td>Cesc Fàbregas\\n Midfield — Chelsea</td>\n",
              "      <td>$14.0m</td>\n",
              "      <td>20.0</td>\n",
              "      <td>2</td>\n",
              "      <td>14.0</td>\n",
              "      <td>10</td>\n",
              "      <td>10.47</td>\n",
              "      <td>209.49</td>\n",
              "    </tr>\n",
              "    <tr>\n",
              "      <th>8</th>\n",
              "      <td>Saido Berahino\\n Forward — West Brom</td>\n",
              "      <td>$13.8m</td>\n",
              "      <td>21.0</td>\n",
              "      <td>9</td>\n",
              "      <td>0.0</td>\n",
              "      <td>20</td>\n",
              "      <td>7.02</td>\n",
              "      <td>147.43</td>\n",
              "    </tr>\n",
              "    <tr>\n",
              "      <th>9</th>\n",
              "      <td>Steven Gerrard\\n Midfield — Liverpool</td>\n",
              "      <td>$13.8m</td>\n",
              "      <td>20.0</td>\n",
              "      <td>5</td>\n",
              "      <td>1.0</td>\n",
              "      <td>11</td>\n",
              "      <td>7.50</td>\n",
              "      <td>150.01</td>\n",
              "    </tr>\n",
              "  </tbody>\n",
              "</table>\n",
              "</div>"
            ],
            "text/plain": [
              "                                  player  salary    gp  ...  sot    ppg       p\n",
              "7     Cesc Fàbregas\\n Midfield — Chelsea  $14.0m  20.0  ...   10  10.47  209.49\n",
              "8   Saido Berahino\\n Forward — West Brom  $13.8m  21.0  ...   20   7.02  147.43\n",
              "9  Steven Gerrard\\n Midfield — Liverpool  $13.8m  20.0  ...   11   7.50  150.01\n",
              "\n",
              "[3 rows x 8 columns]"
            ]
          },
          "metadata": {
            "tags": []
          },
          "execution_count": 50
        }
      ]
    },
    {
      "cell_type": "markdown",
      "metadata": {
        "id": "8vWwTT9CTRcQ",
        "colab_type": "text"
      },
      "source": [
        "#Renaming Particular Columns"
      ]
    },
    {
      "cell_type": "code",
      "metadata": {
        "id": "pwU9NlQATWmq",
        "colab_type": "code",
        "outputId": "d264c43e-6ff6-4fd3-a198-fb58acb32a2f",
        "colab": {
          "base_uri": "https://localhost:8080/",
          "height": 142
        }
      },
      "source": [
        "df=df.rename(columns={'p':'points','gp':'games','sot':'shots on target','g':'goals','ppg':'points_per_game','a':'assists'})\n",
        "\n",
        "df.tail(3)"
      ],
      "execution_count": 51,
      "outputs": [
        {
          "output_type": "execute_result",
          "data": {
            "text/html": [
              "<div>\n",
              "<style scoped>\n",
              "    .dataframe tbody tr th:only-of-type {\n",
              "        vertical-align: middle;\n",
              "    }\n",
              "\n",
              "    .dataframe tbody tr th {\n",
              "        vertical-align: top;\n",
              "    }\n",
              "\n",
              "    .dataframe thead th {\n",
              "        text-align: right;\n",
              "    }\n",
              "</style>\n",
              "<table border=\"1\" class=\"dataframe\">\n",
              "  <thead>\n",
              "    <tr style=\"text-align: right;\">\n",
              "      <th></th>\n",
              "      <th>player</th>\n",
              "      <th>salary</th>\n",
              "      <th>games</th>\n",
              "      <th>goals</th>\n",
              "      <th>assists</th>\n",
              "      <th>shots on target</th>\n",
              "      <th>points_per_game</th>\n",
              "      <th>points</th>\n",
              "    </tr>\n",
              "  </thead>\n",
              "  <tbody>\n",
              "    <tr>\n",
              "      <th>7</th>\n",
              "      <td>Cesc Fàbregas\\n Midfield — Chelsea</td>\n",
              "      <td>$14.0m</td>\n",
              "      <td>20.0</td>\n",
              "      <td>2</td>\n",
              "      <td>14.0</td>\n",
              "      <td>10</td>\n",
              "      <td>10.47</td>\n",
              "      <td>209.49</td>\n",
              "    </tr>\n",
              "    <tr>\n",
              "      <th>8</th>\n",
              "      <td>Saido Berahino\\n Forward — West Brom</td>\n",
              "      <td>$13.8m</td>\n",
              "      <td>21.0</td>\n",
              "      <td>9</td>\n",
              "      <td>0.0</td>\n",
              "      <td>20</td>\n",
              "      <td>7.02</td>\n",
              "      <td>147.43</td>\n",
              "    </tr>\n",
              "    <tr>\n",
              "      <th>9</th>\n",
              "      <td>Steven Gerrard\\n Midfield — Liverpool</td>\n",
              "      <td>$13.8m</td>\n",
              "      <td>20.0</td>\n",
              "      <td>5</td>\n",
              "      <td>1.0</td>\n",
              "      <td>11</td>\n",
              "      <td>7.50</td>\n",
              "      <td>150.01</td>\n",
              "    </tr>\n",
              "  </tbody>\n",
              "</table>\n",
              "</div>"
            ],
            "text/plain": [
              "                                  player  salary  ...  points_per_game  points\n",
              "7     Cesc Fàbregas\\n Midfield — Chelsea  $14.0m  ...            10.47  209.49\n",
              "8   Saido Berahino\\n Forward — West Brom  $13.8m  ...             7.02  147.43\n",
              "9  Steven Gerrard\\n Midfield — Liverpool  $13.8m  ...             7.50  150.01\n",
              "\n",
              "[3 rows x 8 columns]"
            ]
          },
          "metadata": {
            "tags": []
          },
          "execution_count": 51
        }
      ]
    },
    {
      "cell_type": "markdown",
      "metadata": {
        "id": "sL6S_WoRUAhg",
        "colab_type": "text"
      },
      "source": [
        "#Changing Values in colums\n"
      ]
    },
    {
      "cell_type": "code",
      "metadata": {
        "id": "5sQaKM4IUEIc",
        "colab_type": "code",
        "outputId": "6f893957-1665-42cf-86b3-571c548f4ec1",
        "colab": {
          "base_uri": "https://localhost:8080/",
          "height": 204
        }
      },
      "source": [
        "#processing 'salary' column\n",
        "\n",
        "df['salary']=df['salary'].apply(lambda x:x.strip('$m'))\n",
        "\n",
        "df.tail()"
      ],
      "execution_count": 52,
      "outputs": [
        {
          "output_type": "execute_result",
          "data": {
            "text/html": [
              "<div>\n",
              "<style scoped>\n",
              "    .dataframe tbody tr th:only-of-type {\n",
              "        vertical-align: middle;\n",
              "    }\n",
              "\n",
              "    .dataframe tbody tr th {\n",
              "        vertical-align: top;\n",
              "    }\n",
              "\n",
              "    .dataframe thead th {\n",
              "        text-align: right;\n",
              "    }\n",
              "</style>\n",
              "<table border=\"1\" class=\"dataframe\">\n",
              "  <thead>\n",
              "    <tr style=\"text-align: right;\">\n",
              "      <th></th>\n",
              "      <th>player</th>\n",
              "      <th>salary</th>\n",
              "      <th>games</th>\n",
              "      <th>goals</th>\n",
              "      <th>assists</th>\n",
              "      <th>shots on target</th>\n",
              "      <th>points_per_game</th>\n",
              "      <th>points</th>\n",
              "    </tr>\n",
              "  </thead>\n",
              "  <tbody>\n",
              "    <tr>\n",
              "      <th>5</th>\n",
              "      <td>Santiago Cazorla\\n Midfield — Arsenal</td>\n",
              "      <td>14.8</td>\n",
              "      <td>20.0</td>\n",
              "      <td>4</td>\n",
              "      <td>NaN</td>\n",
              "      <td>20</td>\n",
              "      <td>9.97</td>\n",
              "      <td>NaN</td>\n",
              "    </tr>\n",
              "    <tr>\n",
              "      <th>6</th>\n",
              "      <td>David Silva\\n Midfield — Manchester City</td>\n",
              "      <td>14.3</td>\n",
              "      <td>15.0</td>\n",
              "      <td>6</td>\n",
              "      <td>2.0</td>\n",
              "      <td>11</td>\n",
              "      <td>10.35</td>\n",
              "      <td>155.26</td>\n",
              "    </tr>\n",
              "    <tr>\n",
              "      <th>7</th>\n",
              "      <td>Cesc Fàbregas\\n Midfield — Chelsea</td>\n",
              "      <td>14.0</td>\n",
              "      <td>20.0</td>\n",
              "      <td>2</td>\n",
              "      <td>14.0</td>\n",
              "      <td>10</td>\n",
              "      <td>10.47</td>\n",
              "      <td>209.49</td>\n",
              "    </tr>\n",
              "    <tr>\n",
              "      <th>8</th>\n",
              "      <td>Saido Berahino\\n Forward — West Brom</td>\n",
              "      <td>13.8</td>\n",
              "      <td>21.0</td>\n",
              "      <td>9</td>\n",
              "      <td>0.0</td>\n",
              "      <td>20</td>\n",
              "      <td>7.02</td>\n",
              "      <td>147.43</td>\n",
              "    </tr>\n",
              "    <tr>\n",
              "      <th>9</th>\n",
              "      <td>Steven Gerrard\\n Midfield — Liverpool</td>\n",
              "      <td>13.8</td>\n",
              "      <td>20.0</td>\n",
              "      <td>5</td>\n",
              "      <td>1.0</td>\n",
              "      <td>11</td>\n",
              "      <td>7.50</td>\n",
              "      <td>150.01</td>\n",
              "    </tr>\n",
              "  </tbody>\n",
              "</table>\n",
              "</div>"
            ],
            "text/plain": [
              "                                     player salary  ...  points_per_game  points\n",
              "5     Santiago Cazorla\\n Midfield — Arsenal   14.8  ...             9.97     NaN\n",
              "6  David Silva\\n Midfield — Manchester City   14.3  ...            10.35  155.26\n",
              "7        Cesc Fàbregas\\n Midfield — Chelsea   14.0  ...            10.47  209.49\n",
              "8      Saido Berahino\\n Forward — West Brom   13.8  ...             7.02  147.43\n",
              "9     Steven Gerrard\\n Midfield — Liverpool   13.8  ...             7.50  150.01\n",
              "\n",
              "[5 rows x 8 columns]"
            ]
          },
          "metadata": {
            "tags": []
          },
          "execution_count": 52
        }
      ]
    },
    {
      "cell_type": "markdown",
      "metadata": {
        "id": "9W4XatOTUY2Z",
        "colab_type": "text"
      },
      "source": [
        "#Adding a new Column"
      ]
    },
    {
      "cell_type": "code",
      "metadata": {
        "id": "3yDnmC1GUcVQ",
        "colab_type": "code",
        "outputId": "5a9eb24c-ee2d-4fb7-9d12-d0586922fb62",
        "colab": {
          "base_uri": "https://localhost:8080/",
          "height": 142
        }
      },
      "source": [
        "df['team']=pd.Series('',index=df.index)\n",
        "\n",
        "#or\n",
        "\n",
        "df.insert(loc=8,column='position',value='')\n",
        "df.tail(3)"
      ],
      "execution_count": 53,
      "outputs": [
        {
          "output_type": "execute_result",
          "data": {
            "text/html": [
              "<div>\n",
              "<style scoped>\n",
              "    .dataframe tbody tr th:only-of-type {\n",
              "        vertical-align: middle;\n",
              "    }\n",
              "\n",
              "    .dataframe tbody tr th {\n",
              "        vertical-align: top;\n",
              "    }\n",
              "\n",
              "    .dataframe thead th {\n",
              "        text-align: right;\n",
              "    }\n",
              "</style>\n",
              "<table border=\"1\" class=\"dataframe\">\n",
              "  <thead>\n",
              "    <tr style=\"text-align: right;\">\n",
              "      <th></th>\n",
              "      <th>player</th>\n",
              "      <th>salary</th>\n",
              "      <th>games</th>\n",
              "      <th>goals</th>\n",
              "      <th>assists</th>\n",
              "      <th>shots on target</th>\n",
              "      <th>points_per_game</th>\n",
              "      <th>points</th>\n",
              "      <th>position</th>\n",
              "      <th>team</th>\n",
              "    </tr>\n",
              "  </thead>\n",
              "  <tbody>\n",
              "    <tr>\n",
              "      <th>7</th>\n",
              "      <td>Cesc Fàbregas\\n Midfield — Chelsea</td>\n",
              "      <td>14.0</td>\n",
              "      <td>20.0</td>\n",
              "      <td>2</td>\n",
              "      <td>14.0</td>\n",
              "      <td>10</td>\n",
              "      <td>10.47</td>\n",
              "      <td>209.49</td>\n",
              "      <td></td>\n",
              "      <td></td>\n",
              "    </tr>\n",
              "    <tr>\n",
              "      <th>8</th>\n",
              "      <td>Saido Berahino\\n Forward — West Brom</td>\n",
              "      <td>13.8</td>\n",
              "      <td>21.0</td>\n",
              "      <td>9</td>\n",
              "      <td>0.0</td>\n",
              "      <td>20</td>\n",
              "      <td>7.02</td>\n",
              "      <td>147.43</td>\n",
              "      <td></td>\n",
              "      <td></td>\n",
              "    </tr>\n",
              "    <tr>\n",
              "      <th>9</th>\n",
              "      <td>Steven Gerrard\\n Midfield — Liverpool</td>\n",
              "      <td>13.8</td>\n",
              "      <td>20.0</td>\n",
              "      <td>5</td>\n",
              "      <td>1.0</td>\n",
              "      <td>11</td>\n",
              "      <td>7.50</td>\n",
              "      <td>150.01</td>\n",
              "      <td></td>\n",
              "      <td></td>\n",
              "    </tr>\n",
              "  </tbody>\n",
              "</table>\n",
              "</div>"
            ],
            "text/plain": [
              "                                  player salary  games  ...  points  position  team\n",
              "7     Cesc Fàbregas\\n Midfield — Chelsea   14.0   20.0  ...  209.49                \n",
              "8   Saido Berahino\\n Forward — West Brom   13.8   21.0  ...  147.43                \n",
              "9  Steven Gerrard\\n Midfield — Liverpool   13.8   20.0  ...  150.01                \n",
              "\n",
              "[3 rows x 10 columns]"
            ]
          },
          "metadata": {
            "tags": []
          },
          "execution_count": 53
        }
      ]
    },
    {
      "cell_type": "code",
      "metadata": {
        "id": "6bpauIA2z3HS",
        "colab_type": "code",
        "colab": {
          "base_uri": "https://localhost:8080/",
          "height": 142
        },
        "outputId": "fa8d2e74-e662-4f5e-96c8-b9e0367b2702"
      },
      "source": [
        "#processing 'player' name\n",
        "\n",
        "def process_player_col(text):\n",
        "    name, rest = text.split('\\n')\n",
        "    position, team = [x.strip() for x in rest.split(' — ')]\n",
        "    return pd.Series([name, team, position])\n",
        "\n",
        "df[['player', 'team', 'position']] = df.player.apply(process_player_col)\n",
        "\n",
        "\n",
        "df.tail(3)\n"
      ],
      "execution_count": 54,
      "outputs": [
        {
          "output_type": "execute_result",
          "data": {
            "text/html": [
              "<div>\n",
              "<style scoped>\n",
              "    .dataframe tbody tr th:only-of-type {\n",
              "        vertical-align: middle;\n",
              "    }\n",
              "\n",
              "    .dataframe tbody tr th {\n",
              "        vertical-align: top;\n",
              "    }\n",
              "\n",
              "    .dataframe thead th {\n",
              "        text-align: right;\n",
              "    }\n",
              "</style>\n",
              "<table border=\"1\" class=\"dataframe\">\n",
              "  <thead>\n",
              "    <tr style=\"text-align: right;\">\n",
              "      <th></th>\n",
              "      <th>player</th>\n",
              "      <th>salary</th>\n",
              "      <th>games</th>\n",
              "      <th>goals</th>\n",
              "      <th>assists</th>\n",
              "      <th>shots on target</th>\n",
              "      <th>points_per_game</th>\n",
              "      <th>points</th>\n",
              "      <th>position</th>\n",
              "      <th>team</th>\n",
              "    </tr>\n",
              "  </thead>\n",
              "  <tbody>\n",
              "    <tr>\n",
              "      <th>7</th>\n",
              "      <td>Cesc Fàbregas</td>\n",
              "      <td>14.0</td>\n",
              "      <td>20.0</td>\n",
              "      <td>2</td>\n",
              "      <td>14.0</td>\n",
              "      <td>10</td>\n",
              "      <td>10.47</td>\n",
              "      <td>209.49</td>\n",
              "      <td>Midfield</td>\n",
              "      <td>Chelsea</td>\n",
              "    </tr>\n",
              "    <tr>\n",
              "      <th>8</th>\n",
              "      <td>Saido Berahino</td>\n",
              "      <td>13.8</td>\n",
              "      <td>21.0</td>\n",
              "      <td>9</td>\n",
              "      <td>0.0</td>\n",
              "      <td>20</td>\n",
              "      <td>7.02</td>\n",
              "      <td>147.43</td>\n",
              "      <td>Forward</td>\n",
              "      <td>West Brom</td>\n",
              "    </tr>\n",
              "    <tr>\n",
              "      <th>9</th>\n",
              "      <td>Steven Gerrard</td>\n",
              "      <td>13.8</td>\n",
              "      <td>20.0</td>\n",
              "      <td>5</td>\n",
              "      <td>1.0</td>\n",
              "      <td>11</td>\n",
              "      <td>7.50</td>\n",
              "      <td>150.01</td>\n",
              "      <td>Midfield</td>\n",
              "      <td>Liverpool</td>\n",
              "    </tr>\n",
              "  </tbody>\n",
              "</table>\n",
              "</div>"
            ],
            "text/plain": [
              "           player salary  games  ...  points  position       team\n",
              "7   Cesc Fàbregas   14.0   20.0  ...  209.49  Midfield    Chelsea\n",
              "8  Saido Berahino   13.8   21.0  ...  147.43   Forward  West Brom\n",
              "9  Steven Gerrard   13.8   20.0  ...  150.01  Midfield  Liverpool\n",
              "\n",
              "[3 rows x 10 columns]"
            ]
          },
          "metadata": {
            "tags": []
          },
          "execution_count": 54
        }
      ]
    },
    {
      "cell_type": "markdown",
      "metadata": {
        "id": "_-FxwLHQ0-Ib",
        "colab_type": "text"
      },
      "source": [
        "#Applying Functions to multiple columns"
      ]
    },
    {
      "cell_type": "code",
      "metadata": {
        "id": "ouAJhb7x06gS",
        "colab_type": "code",
        "colab": {
          "base_uri": "https://localhost:8080/",
          "height": 204
        },
        "outputId": "c9571df3-1746-435d-e5c7-98d6eab0843e"
      },
      "source": [
        "cols=['player', 'position', 'team']\n",
        "df[cols]=df[cols].applymap(lambda x:x.lower())\n",
        "df.head()"
      ],
      "execution_count": 55,
      "outputs": [
        {
          "output_type": "execute_result",
          "data": {
            "text/html": [
              "<div>\n",
              "<style scoped>\n",
              "    .dataframe tbody tr th:only-of-type {\n",
              "        vertical-align: middle;\n",
              "    }\n",
              "\n",
              "    .dataframe tbody tr th {\n",
              "        vertical-align: top;\n",
              "    }\n",
              "\n",
              "    .dataframe thead th {\n",
              "        text-align: right;\n",
              "    }\n",
              "</style>\n",
              "<table border=\"1\" class=\"dataframe\">\n",
              "  <thead>\n",
              "    <tr style=\"text-align: right;\">\n",
              "      <th></th>\n",
              "      <th>player</th>\n",
              "      <th>salary</th>\n",
              "      <th>games</th>\n",
              "      <th>goals</th>\n",
              "      <th>assists</th>\n",
              "      <th>shots on target</th>\n",
              "      <th>points_per_game</th>\n",
              "      <th>points</th>\n",
              "      <th>position</th>\n",
              "      <th>team</th>\n",
              "    </tr>\n",
              "  </thead>\n",
              "  <tbody>\n",
              "    <tr>\n",
              "      <th>0</th>\n",
              "      <td>sergio agüero</td>\n",
              "      <td>19.2</td>\n",
              "      <td>16.0</td>\n",
              "      <td>14</td>\n",
              "      <td>3.0</td>\n",
              "      <td>34</td>\n",
              "      <td>13.12</td>\n",
              "      <td>209.98</td>\n",
              "      <td>forward</td>\n",
              "      <td>manchester city</td>\n",
              "    </tr>\n",
              "    <tr>\n",
              "      <th>1</th>\n",
              "      <td>eden hazard</td>\n",
              "      <td>18.9</td>\n",
              "      <td>21.0</td>\n",
              "      <td>8</td>\n",
              "      <td>4.0</td>\n",
              "      <td>17</td>\n",
              "      <td>13.05</td>\n",
              "      <td>274.04</td>\n",
              "      <td>midfield</td>\n",
              "      <td>chelsea</td>\n",
              "    </tr>\n",
              "    <tr>\n",
              "      <th>2</th>\n",
              "      <td>alexis sánchez</td>\n",
              "      <td>17.6</td>\n",
              "      <td>NaN</td>\n",
              "      <td>12</td>\n",
              "      <td>7.0</td>\n",
              "      <td>29</td>\n",
              "      <td>11.19</td>\n",
              "      <td>223.86</td>\n",
              "      <td>forward</td>\n",
              "      <td>arsenal</td>\n",
              "    </tr>\n",
              "    <tr>\n",
              "      <th>3</th>\n",
              "      <td>yaya touré</td>\n",
              "      <td>16.6</td>\n",
              "      <td>18.0</td>\n",
              "      <td>7</td>\n",
              "      <td>1.0</td>\n",
              "      <td>19</td>\n",
              "      <td>10.99</td>\n",
              "      <td>197.91</td>\n",
              "      <td>midfield</td>\n",
              "      <td>manchester city</td>\n",
              "    </tr>\n",
              "    <tr>\n",
              "      <th>4</th>\n",
              "      <td>ángel di maría</td>\n",
              "      <td>15.0</td>\n",
              "      <td>13.0</td>\n",
              "      <td>3</td>\n",
              "      <td>NaN</td>\n",
              "      <td>13</td>\n",
              "      <td>10.17</td>\n",
              "      <td>132.23</td>\n",
              "      <td>midfield</td>\n",
              "      <td>manchester united</td>\n",
              "    </tr>\n",
              "  </tbody>\n",
              "</table>\n",
              "</div>"
            ],
            "text/plain": [
              "           player salary  games  ...  points  position               team\n",
              "0   sergio agüero   19.2   16.0  ...  209.98   forward    manchester city\n",
              "1     eden hazard   18.9   21.0  ...  274.04  midfield            chelsea\n",
              "2  alexis sánchez   17.6    NaN  ...  223.86   forward            arsenal\n",
              "3      yaya touré   16.6   18.0  ...  197.91  midfield    manchester city\n",
              "4  ángel di maría   15.0   13.0  ...  132.23  midfield  manchester united\n",
              "\n",
              "[5 rows x 10 columns]"
            ]
          },
          "metadata": {
            "tags": []
          },
          "execution_count": 55
        }
      ]
    },
    {
      "cell_type": "markdown",
      "metadata": {
        "id": "RN-0AqOp1j_f",
        "colab_type": "text"
      },
      "source": [
        "#Missing values aka NaNs"
      ]
    },
    {
      "cell_type": "markdown",
      "metadata": {
        "id": "Pl8Tjz5X1pVm",
        "colab_type": "text"
      },
      "source": [
        "##Counting Rows with NaNs"
      ]
    },
    {
      "cell_type": "code",
      "metadata": {
        "id": "PIFBWq7y1vf0",
        "colab_type": "code",
        "colab": {
          "base_uri": "https://localhost:8080/",
          "height": 34
        },
        "outputId": "29093c03-22ed-42f5-9fad-f7617515944c"
      },
      "source": [
        "nans=df.shape[0]-df.dropna().shape[0]\n",
        "\n",
        "print('%d rows have missing values' % nans)"
      ],
      "execution_count": 56,
      "outputs": [
        {
          "output_type": "stream",
          "text": [
            "3 rows have missing values\n"
          ],
          "name": "stdout"
        }
      ]
    },
    {
      "cell_type": "markdown",
      "metadata": {
        "id": "GMHlv4DO2Iec",
        "colab_type": "text"
      },
      "source": [
        "##Selecting NaN Rows"
      ]
    },
    {
      "cell_type": "code",
      "metadata": {
        "id": "PhKRMYW22Fff",
        "colab_type": "code",
        "colab": {
          "base_uri": "https://localhost:8080/",
          "height": 111
        },
        "outputId": "d4ecd068-3d86-40be-b871-8615e8560e5b"
      },
      "source": [
        "#selecting all rows that have NaNs in the 'assists' column\n",
        "df[df['assists'].isnull()]\n"
      ],
      "execution_count": 57,
      "outputs": [
        {
          "output_type": "execute_result",
          "data": {
            "text/html": [
              "<div>\n",
              "<style scoped>\n",
              "    .dataframe tbody tr th:only-of-type {\n",
              "        vertical-align: middle;\n",
              "    }\n",
              "\n",
              "    .dataframe tbody tr th {\n",
              "        vertical-align: top;\n",
              "    }\n",
              "\n",
              "    .dataframe thead th {\n",
              "        text-align: right;\n",
              "    }\n",
              "</style>\n",
              "<table border=\"1\" class=\"dataframe\">\n",
              "  <thead>\n",
              "    <tr style=\"text-align: right;\">\n",
              "      <th></th>\n",
              "      <th>player</th>\n",
              "      <th>salary</th>\n",
              "      <th>games</th>\n",
              "      <th>goals</th>\n",
              "      <th>assists</th>\n",
              "      <th>shots on target</th>\n",
              "      <th>points_per_game</th>\n",
              "      <th>points</th>\n",
              "      <th>position</th>\n",
              "      <th>team</th>\n",
              "    </tr>\n",
              "  </thead>\n",
              "  <tbody>\n",
              "    <tr>\n",
              "      <th>4</th>\n",
              "      <td>ángel di maría</td>\n",
              "      <td>15.0</td>\n",
              "      <td>13.0</td>\n",
              "      <td>3</td>\n",
              "      <td>NaN</td>\n",
              "      <td>13</td>\n",
              "      <td>10.17</td>\n",
              "      <td>132.23</td>\n",
              "      <td>midfield</td>\n",
              "      <td>manchester united</td>\n",
              "    </tr>\n",
              "    <tr>\n",
              "      <th>5</th>\n",
              "      <td>santiago cazorla</td>\n",
              "      <td>14.8</td>\n",
              "      <td>20.0</td>\n",
              "      <td>4</td>\n",
              "      <td>NaN</td>\n",
              "      <td>20</td>\n",
              "      <td>9.97</td>\n",
              "      <td>NaN</td>\n",
              "      <td>midfield</td>\n",
              "      <td>arsenal</td>\n",
              "    </tr>\n",
              "  </tbody>\n",
              "</table>\n",
              "</div>"
            ],
            "text/plain": [
              "             player salary  games  ...  points  position               team\n",
              "4    ángel di maría   15.0   13.0  ...  132.23  midfield  manchester united\n",
              "5  santiago cazorla   14.8   20.0  ...     NaN  midfield            arsenal\n",
              "\n",
              "[2 rows x 10 columns]"
            ]
          },
          "metadata": {
            "tags": []
          },
          "execution_count": 57
        }
      ]
    },
    {
      "cell_type": "markdown",
      "metadata": {
        "id": "Br2sVfGA2b89",
        "colab_type": "text"
      },
      "source": [
        "##Selecting non-NaN Rows"
      ]
    },
    {
      "cell_type": "code",
      "metadata": {
        "id": "eqTXxC5L2h_B",
        "colab_type": "code",
        "colab": {
          "base_uri": "https://localhost:8080/",
          "height": 297
        },
        "outputId": "c7fd09de-eeee-4076-a420-744983e2c182"
      },
      "source": [
        "df[df['assists'].notnull()]"
      ],
      "execution_count": 58,
      "outputs": [
        {
          "output_type": "execute_result",
          "data": {
            "text/html": [
              "<div>\n",
              "<style scoped>\n",
              "    .dataframe tbody tr th:only-of-type {\n",
              "        vertical-align: middle;\n",
              "    }\n",
              "\n",
              "    .dataframe tbody tr th {\n",
              "        vertical-align: top;\n",
              "    }\n",
              "\n",
              "    .dataframe thead th {\n",
              "        text-align: right;\n",
              "    }\n",
              "</style>\n",
              "<table border=\"1\" class=\"dataframe\">\n",
              "  <thead>\n",
              "    <tr style=\"text-align: right;\">\n",
              "      <th></th>\n",
              "      <th>player</th>\n",
              "      <th>salary</th>\n",
              "      <th>games</th>\n",
              "      <th>goals</th>\n",
              "      <th>assists</th>\n",
              "      <th>shots on target</th>\n",
              "      <th>points_per_game</th>\n",
              "      <th>points</th>\n",
              "      <th>position</th>\n",
              "      <th>team</th>\n",
              "    </tr>\n",
              "  </thead>\n",
              "  <tbody>\n",
              "    <tr>\n",
              "      <th>0</th>\n",
              "      <td>sergio agüero</td>\n",
              "      <td>19.2</td>\n",
              "      <td>16.0</td>\n",
              "      <td>14</td>\n",
              "      <td>3.0</td>\n",
              "      <td>34</td>\n",
              "      <td>13.12</td>\n",
              "      <td>209.98</td>\n",
              "      <td>forward</td>\n",
              "      <td>manchester city</td>\n",
              "    </tr>\n",
              "    <tr>\n",
              "      <th>1</th>\n",
              "      <td>eden hazard</td>\n",
              "      <td>18.9</td>\n",
              "      <td>21.0</td>\n",
              "      <td>8</td>\n",
              "      <td>4.0</td>\n",
              "      <td>17</td>\n",
              "      <td>13.05</td>\n",
              "      <td>274.04</td>\n",
              "      <td>midfield</td>\n",
              "      <td>chelsea</td>\n",
              "    </tr>\n",
              "    <tr>\n",
              "      <th>2</th>\n",
              "      <td>alexis sánchez</td>\n",
              "      <td>17.6</td>\n",
              "      <td>NaN</td>\n",
              "      <td>12</td>\n",
              "      <td>7.0</td>\n",
              "      <td>29</td>\n",
              "      <td>11.19</td>\n",
              "      <td>223.86</td>\n",
              "      <td>forward</td>\n",
              "      <td>arsenal</td>\n",
              "    </tr>\n",
              "    <tr>\n",
              "      <th>3</th>\n",
              "      <td>yaya touré</td>\n",
              "      <td>16.6</td>\n",
              "      <td>18.0</td>\n",
              "      <td>7</td>\n",
              "      <td>1.0</td>\n",
              "      <td>19</td>\n",
              "      <td>10.99</td>\n",
              "      <td>197.91</td>\n",
              "      <td>midfield</td>\n",
              "      <td>manchester city</td>\n",
              "    </tr>\n",
              "    <tr>\n",
              "      <th>6</th>\n",
              "      <td>david silva</td>\n",
              "      <td>14.3</td>\n",
              "      <td>15.0</td>\n",
              "      <td>6</td>\n",
              "      <td>2.0</td>\n",
              "      <td>11</td>\n",
              "      <td>10.35</td>\n",
              "      <td>155.26</td>\n",
              "      <td>midfield</td>\n",
              "      <td>manchester city</td>\n",
              "    </tr>\n",
              "    <tr>\n",
              "      <th>7</th>\n",
              "      <td>cesc fàbregas</td>\n",
              "      <td>14.0</td>\n",
              "      <td>20.0</td>\n",
              "      <td>2</td>\n",
              "      <td>14.0</td>\n",
              "      <td>10</td>\n",
              "      <td>10.47</td>\n",
              "      <td>209.49</td>\n",
              "      <td>midfield</td>\n",
              "      <td>chelsea</td>\n",
              "    </tr>\n",
              "    <tr>\n",
              "      <th>8</th>\n",
              "      <td>saido berahino</td>\n",
              "      <td>13.8</td>\n",
              "      <td>21.0</td>\n",
              "      <td>9</td>\n",
              "      <td>0.0</td>\n",
              "      <td>20</td>\n",
              "      <td>7.02</td>\n",
              "      <td>147.43</td>\n",
              "      <td>forward</td>\n",
              "      <td>west brom</td>\n",
              "    </tr>\n",
              "    <tr>\n",
              "      <th>9</th>\n",
              "      <td>steven gerrard</td>\n",
              "      <td>13.8</td>\n",
              "      <td>20.0</td>\n",
              "      <td>5</td>\n",
              "      <td>1.0</td>\n",
              "      <td>11</td>\n",
              "      <td>7.50</td>\n",
              "      <td>150.01</td>\n",
              "      <td>midfield</td>\n",
              "      <td>liverpool</td>\n",
              "    </tr>\n",
              "  </tbody>\n",
              "</table>\n",
              "</div>"
            ],
            "text/plain": [
              "           player salary  games  ...  points  position             team\n",
              "0   sergio agüero   19.2   16.0  ...  209.98   forward  manchester city\n",
              "1     eden hazard   18.9   21.0  ...  274.04  midfield          chelsea\n",
              "2  alexis sánchez   17.6    NaN  ...  223.86   forward          arsenal\n",
              "3      yaya touré   16.6   18.0  ...  197.91  midfield  manchester city\n",
              "6     david silva   14.3   15.0  ...  155.26  midfield  manchester city\n",
              "7   cesc fàbregas   14.0   20.0  ...  209.49  midfield          chelsea\n",
              "8  saido berahino   13.8   21.0  ...  147.43   forward        west brom\n",
              "9  steven gerrard   13.8   20.0  ...  150.01  midfield        liverpool\n",
              "\n",
              "[8 rows x 10 columns]"
            ]
          },
          "metadata": {
            "tags": []
          },
          "execution_count": 58
        }
      ]
    },
    {
      "cell_type": "markdown",
      "metadata": {
        "id": "jJbiR08H2tvE",
        "colab_type": "text"
      },
      "source": [
        "##Filling NaN Rows"
      ]
    },
    {
      "cell_type": "code",
      "metadata": {
        "id": "9LVRtWj92ytr",
        "colab_type": "code",
        "colab": {
          "base_uri": "https://localhost:8080/",
          "height": 359
        },
        "outputId": "56ac4c72-7676-4f45-a3b3-fba3ee7e2981"
      },
      "source": [
        "#filling NaN cells with default value 0\n",
        "\n",
        "df.fillna(value=0,inplace=True)\n",
        "df\n"
      ],
      "execution_count": 59,
      "outputs": [
        {
          "output_type": "execute_result",
          "data": {
            "text/html": [
              "<div>\n",
              "<style scoped>\n",
              "    .dataframe tbody tr th:only-of-type {\n",
              "        vertical-align: middle;\n",
              "    }\n",
              "\n",
              "    .dataframe tbody tr th {\n",
              "        vertical-align: top;\n",
              "    }\n",
              "\n",
              "    .dataframe thead th {\n",
              "        text-align: right;\n",
              "    }\n",
              "</style>\n",
              "<table border=\"1\" class=\"dataframe\">\n",
              "  <thead>\n",
              "    <tr style=\"text-align: right;\">\n",
              "      <th></th>\n",
              "      <th>player</th>\n",
              "      <th>salary</th>\n",
              "      <th>games</th>\n",
              "      <th>goals</th>\n",
              "      <th>assists</th>\n",
              "      <th>shots on target</th>\n",
              "      <th>points_per_game</th>\n",
              "      <th>points</th>\n",
              "      <th>position</th>\n",
              "      <th>team</th>\n",
              "    </tr>\n",
              "  </thead>\n",
              "  <tbody>\n",
              "    <tr>\n",
              "      <th>0</th>\n",
              "      <td>sergio agüero</td>\n",
              "      <td>19.2</td>\n",
              "      <td>16.0</td>\n",
              "      <td>14</td>\n",
              "      <td>3.0</td>\n",
              "      <td>34</td>\n",
              "      <td>13.12</td>\n",
              "      <td>209.98</td>\n",
              "      <td>forward</td>\n",
              "      <td>manchester city</td>\n",
              "    </tr>\n",
              "    <tr>\n",
              "      <th>1</th>\n",
              "      <td>eden hazard</td>\n",
              "      <td>18.9</td>\n",
              "      <td>21.0</td>\n",
              "      <td>8</td>\n",
              "      <td>4.0</td>\n",
              "      <td>17</td>\n",
              "      <td>13.05</td>\n",
              "      <td>274.04</td>\n",
              "      <td>midfield</td>\n",
              "      <td>chelsea</td>\n",
              "    </tr>\n",
              "    <tr>\n",
              "      <th>2</th>\n",
              "      <td>alexis sánchez</td>\n",
              "      <td>17.6</td>\n",
              "      <td>0.0</td>\n",
              "      <td>12</td>\n",
              "      <td>7.0</td>\n",
              "      <td>29</td>\n",
              "      <td>11.19</td>\n",
              "      <td>223.86</td>\n",
              "      <td>forward</td>\n",
              "      <td>arsenal</td>\n",
              "    </tr>\n",
              "    <tr>\n",
              "      <th>3</th>\n",
              "      <td>yaya touré</td>\n",
              "      <td>16.6</td>\n",
              "      <td>18.0</td>\n",
              "      <td>7</td>\n",
              "      <td>1.0</td>\n",
              "      <td>19</td>\n",
              "      <td>10.99</td>\n",
              "      <td>197.91</td>\n",
              "      <td>midfield</td>\n",
              "      <td>manchester city</td>\n",
              "    </tr>\n",
              "    <tr>\n",
              "      <th>4</th>\n",
              "      <td>ángel di maría</td>\n",
              "      <td>15.0</td>\n",
              "      <td>13.0</td>\n",
              "      <td>3</td>\n",
              "      <td>0.0</td>\n",
              "      <td>13</td>\n",
              "      <td>10.17</td>\n",
              "      <td>132.23</td>\n",
              "      <td>midfield</td>\n",
              "      <td>manchester united</td>\n",
              "    </tr>\n",
              "    <tr>\n",
              "      <th>5</th>\n",
              "      <td>santiago cazorla</td>\n",
              "      <td>14.8</td>\n",
              "      <td>20.0</td>\n",
              "      <td>4</td>\n",
              "      <td>0.0</td>\n",
              "      <td>20</td>\n",
              "      <td>9.97</td>\n",
              "      <td>0.00</td>\n",
              "      <td>midfield</td>\n",
              "      <td>arsenal</td>\n",
              "    </tr>\n",
              "    <tr>\n",
              "      <th>6</th>\n",
              "      <td>david silva</td>\n",
              "      <td>14.3</td>\n",
              "      <td>15.0</td>\n",
              "      <td>6</td>\n",
              "      <td>2.0</td>\n",
              "      <td>11</td>\n",
              "      <td>10.35</td>\n",
              "      <td>155.26</td>\n",
              "      <td>midfield</td>\n",
              "      <td>manchester city</td>\n",
              "    </tr>\n",
              "    <tr>\n",
              "      <th>7</th>\n",
              "      <td>cesc fàbregas</td>\n",
              "      <td>14.0</td>\n",
              "      <td>20.0</td>\n",
              "      <td>2</td>\n",
              "      <td>14.0</td>\n",
              "      <td>10</td>\n",
              "      <td>10.47</td>\n",
              "      <td>209.49</td>\n",
              "      <td>midfield</td>\n",
              "      <td>chelsea</td>\n",
              "    </tr>\n",
              "    <tr>\n",
              "      <th>8</th>\n",
              "      <td>saido berahino</td>\n",
              "      <td>13.8</td>\n",
              "      <td>21.0</td>\n",
              "      <td>9</td>\n",
              "      <td>0.0</td>\n",
              "      <td>20</td>\n",
              "      <td>7.02</td>\n",
              "      <td>147.43</td>\n",
              "      <td>forward</td>\n",
              "      <td>west brom</td>\n",
              "    </tr>\n",
              "    <tr>\n",
              "      <th>9</th>\n",
              "      <td>steven gerrard</td>\n",
              "      <td>13.8</td>\n",
              "      <td>20.0</td>\n",
              "      <td>5</td>\n",
              "      <td>1.0</td>\n",
              "      <td>11</td>\n",
              "      <td>7.50</td>\n",
              "      <td>150.01</td>\n",
              "      <td>midfield</td>\n",
              "      <td>liverpool</td>\n",
              "    </tr>\n",
              "  </tbody>\n",
              "</table>\n",
              "</div>"
            ],
            "text/plain": [
              "             player salary  games  ...  points  position               team\n",
              "0     sergio agüero   19.2   16.0  ...  209.98   forward    manchester city\n",
              "1       eden hazard   18.9   21.0  ...  274.04  midfield            chelsea\n",
              "2    alexis sánchez   17.6    0.0  ...  223.86   forward            arsenal\n",
              "3        yaya touré   16.6   18.0  ...  197.91  midfield    manchester city\n",
              "4    ángel di maría   15.0   13.0  ...  132.23  midfield  manchester united\n",
              "5  santiago cazorla   14.8   20.0  ...    0.00  midfield            arsenal\n",
              "6       david silva   14.3   15.0  ...  155.26  midfield    manchester city\n",
              "7     cesc fàbregas   14.0   20.0  ...  209.49  midfield            chelsea\n",
              "8    saido berahino   13.8   21.0  ...  147.43   forward          west brom\n",
              "9    steven gerrard   13.8   20.0  ...  150.01  midfield          liverpool\n",
              "\n",
              "[10 rows x 10 columns]"
            ]
          },
          "metadata": {
            "tags": []
          },
          "execution_count": 59
        }
      ]
    },
    {
      "cell_type": "markdown",
      "metadata": {
        "id": "88LfRC1T3RON",
        "colab_type": "text"
      },
      "source": [
        "#Appending Rows to a Dataframe"
      ]
    },
    {
      "cell_type": "code",
      "metadata": {
        "id": "7wcKFa6_3UrP",
        "colab_type": "code",
        "colab": {
          "base_uri": "https://localhost:8080/",
          "height": 142
        },
        "outputId": "324316b1-dbb2-49d1-dd49-bf3b0c48f023"
      },
      "source": [
        "import numpy as np\n",
        "df=df.append(pd.Series([np.nan]*len(df.columns), index=df.columns),ignore_index=True)\n",
        "\n",
        "df.tail(3)"
      ],
      "execution_count": 60,
      "outputs": [
        {
          "output_type": "execute_result",
          "data": {
            "text/html": [
              "<div>\n",
              "<style scoped>\n",
              "    .dataframe tbody tr th:only-of-type {\n",
              "        vertical-align: middle;\n",
              "    }\n",
              "\n",
              "    .dataframe tbody tr th {\n",
              "        vertical-align: top;\n",
              "    }\n",
              "\n",
              "    .dataframe thead th {\n",
              "        text-align: right;\n",
              "    }\n",
              "</style>\n",
              "<table border=\"1\" class=\"dataframe\">\n",
              "  <thead>\n",
              "    <tr style=\"text-align: right;\">\n",
              "      <th></th>\n",
              "      <th>player</th>\n",
              "      <th>salary</th>\n",
              "      <th>games</th>\n",
              "      <th>goals</th>\n",
              "      <th>assists</th>\n",
              "      <th>shots on target</th>\n",
              "      <th>points_per_game</th>\n",
              "      <th>points</th>\n",
              "      <th>position</th>\n",
              "      <th>team</th>\n",
              "    </tr>\n",
              "  </thead>\n",
              "  <tbody>\n",
              "    <tr>\n",
              "      <th>8</th>\n",
              "      <td>saido berahino</td>\n",
              "      <td>13.8</td>\n",
              "      <td>21.0</td>\n",
              "      <td>9.0</td>\n",
              "      <td>0.0</td>\n",
              "      <td>20.0</td>\n",
              "      <td>7.02</td>\n",
              "      <td>147.43</td>\n",
              "      <td>forward</td>\n",
              "      <td>west brom</td>\n",
              "    </tr>\n",
              "    <tr>\n",
              "      <th>9</th>\n",
              "      <td>steven gerrard</td>\n",
              "      <td>13.8</td>\n",
              "      <td>20.0</td>\n",
              "      <td>5.0</td>\n",
              "      <td>1.0</td>\n",
              "      <td>11.0</td>\n",
              "      <td>7.50</td>\n",
              "      <td>150.01</td>\n",
              "      <td>midfield</td>\n",
              "      <td>liverpool</td>\n",
              "    </tr>\n",
              "    <tr>\n",
              "      <th>10</th>\n",
              "      <td>NaN</td>\n",
              "      <td>NaN</td>\n",
              "      <td>NaN</td>\n",
              "      <td>NaN</td>\n",
              "      <td>NaN</td>\n",
              "      <td>NaN</td>\n",
              "      <td>NaN</td>\n",
              "      <td>NaN</td>\n",
              "      <td>NaN</td>\n",
              "      <td>NaN</td>\n",
              "    </tr>\n",
              "  </tbody>\n",
              "</table>\n",
              "</div>"
            ],
            "text/plain": [
              "            player salary  games  ...  points  position       team\n",
              "8   saido berahino   13.8   21.0  ...  147.43   forward  west brom\n",
              "9   steven gerrard   13.8   20.0  ...  150.01  midfield  liverpool\n",
              "10             NaN    NaN    NaN  ...     NaN       NaN        NaN\n",
              "\n",
              "[3 rows x 10 columns]"
            ]
          },
          "metadata": {
            "tags": []
          },
          "execution_count": 60
        }
      ]
    },
    {
      "cell_type": "code",
      "metadata": {
        "id": "hasKTUTV33I1",
        "colab_type": "code",
        "colab": {
          "base_uri": "https://localhost:8080/",
          "height": 142
        },
        "outputId": "64c4b58b-da49-4e15-fa63-34e00d7e8d55"
      },
      "source": [
        "#filling cells with the data\n",
        "\n",
        "df.loc[df.index[-1],'player']='new player'\n",
        "df.loc[df.index[-1],'salary']=12.3\n",
        "df.tail(3)"
      ],
      "execution_count": 61,
      "outputs": [
        {
          "output_type": "execute_result",
          "data": {
            "text/html": [
              "<div>\n",
              "<style scoped>\n",
              "    .dataframe tbody tr th:only-of-type {\n",
              "        vertical-align: middle;\n",
              "    }\n",
              "\n",
              "    .dataframe tbody tr th {\n",
              "        vertical-align: top;\n",
              "    }\n",
              "\n",
              "    .dataframe thead th {\n",
              "        text-align: right;\n",
              "    }\n",
              "</style>\n",
              "<table border=\"1\" class=\"dataframe\">\n",
              "  <thead>\n",
              "    <tr style=\"text-align: right;\">\n",
              "      <th></th>\n",
              "      <th>player</th>\n",
              "      <th>salary</th>\n",
              "      <th>games</th>\n",
              "      <th>goals</th>\n",
              "      <th>assists</th>\n",
              "      <th>shots on target</th>\n",
              "      <th>points_per_game</th>\n",
              "      <th>points</th>\n",
              "      <th>position</th>\n",
              "      <th>team</th>\n",
              "    </tr>\n",
              "  </thead>\n",
              "  <tbody>\n",
              "    <tr>\n",
              "      <th>8</th>\n",
              "      <td>saido berahino</td>\n",
              "      <td>13.8</td>\n",
              "      <td>21.0</td>\n",
              "      <td>9.0</td>\n",
              "      <td>0.0</td>\n",
              "      <td>20.0</td>\n",
              "      <td>7.02</td>\n",
              "      <td>147.43</td>\n",
              "      <td>forward</td>\n",
              "      <td>west brom</td>\n",
              "    </tr>\n",
              "    <tr>\n",
              "      <th>9</th>\n",
              "      <td>steven gerrard</td>\n",
              "      <td>13.8</td>\n",
              "      <td>20.0</td>\n",
              "      <td>5.0</td>\n",
              "      <td>1.0</td>\n",
              "      <td>11.0</td>\n",
              "      <td>7.50</td>\n",
              "      <td>150.01</td>\n",
              "      <td>midfield</td>\n",
              "      <td>liverpool</td>\n",
              "    </tr>\n",
              "    <tr>\n",
              "      <th>10</th>\n",
              "      <td>new player</td>\n",
              "      <td>12.3</td>\n",
              "      <td>NaN</td>\n",
              "      <td>NaN</td>\n",
              "      <td>NaN</td>\n",
              "      <td>NaN</td>\n",
              "      <td>NaN</td>\n",
              "      <td>NaN</td>\n",
              "      <td>NaN</td>\n",
              "      <td>NaN</td>\n",
              "    </tr>\n",
              "  </tbody>\n",
              "</table>\n",
              "</div>"
            ],
            "text/plain": [
              "            player salary  games  ...  points  position       team\n",
              "8   saido berahino   13.8   21.0  ...  147.43   forward  west brom\n",
              "9   steven gerrard   13.8   20.0  ...  150.01  midfield  liverpool\n",
              "10      new player   12.3    NaN  ...     NaN       NaN        NaN\n",
              "\n",
              "[3 rows x 10 columns]"
            ]
          },
          "metadata": {
            "tags": []
          },
          "execution_count": 61
        }
      ]
    },
    {
      "cell_type": "markdown",
      "metadata": {
        "id": "IxPSnVgf4LR-",
        "colab_type": "text"
      },
      "source": [
        "#Sorting and Reindexing Data Frames\n"
      ]
    },
    {
      "cell_type": "code",
      "metadata": {
        "id": "hE-EZcgq4RG2",
        "colab_type": "code",
        "colab": {
          "base_uri": "https://localhost:8080/",
          "height": 204
        },
        "outputId": "0bd1c257-8de5-4a10-b0bb-7fde96201ad0"
      },
      "source": [
        "#sorting the Dataframe by a certain column (from highest to lowest)\n",
        "df.sort_values('goals', ascending=False, inplace=True)\n",
        "df.head()\n"
      ],
      "execution_count": 62,
      "outputs": [
        {
          "output_type": "execute_result",
          "data": {
            "text/html": [
              "<div>\n",
              "<style scoped>\n",
              "    .dataframe tbody tr th:only-of-type {\n",
              "        vertical-align: middle;\n",
              "    }\n",
              "\n",
              "    .dataframe tbody tr th {\n",
              "        vertical-align: top;\n",
              "    }\n",
              "\n",
              "    .dataframe thead th {\n",
              "        text-align: right;\n",
              "    }\n",
              "</style>\n",
              "<table border=\"1\" class=\"dataframe\">\n",
              "  <thead>\n",
              "    <tr style=\"text-align: right;\">\n",
              "      <th></th>\n",
              "      <th>player</th>\n",
              "      <th>salary</th>\n",
              "      <th>games</th>\n",
              "      <th>goals</th>\n",
              "      <th>assists</th>\n",
              "      <th>shots on target</th>\n",
              "      <th>points_per_game</th>\n",
              "      <th>points</th>\n",
              "      <th>position</th>\n",
              "      <th>team</th>\n",
              "    </tr>\n",
              "  </thead>\n",
              "  <tbody>\n",
              "    <tr>\n",
              "      <th>0</th>\n",
              "      <td>sergio agüero</td>\n",
              "      <td>19.2</td>\n",
              "      <td>16.0</td>\n",
              "      <td>14.0</td>\n",
              "      <td>3.0</td>\n",
              "      <td>34.0</td>\n",
              "      <td>13.12</td>\n",
              "      <td>209.98</td>\n",
              "      <td>forward</td>\n",
              "      <td>manchester city</td>\n",
              "    </tr>\n",
              "    <tr>\n",
              "      <th>2</th>\n",
              "      <td>alexis sánchez</td>\n",
              "      <td>17.6</td>\n",
              "      <td>0.0</td>\n",
              "      <td>12.0</td>\n",
              "      <td>7.0</td>\n",
              "      <td>29.0</td>\n",
              "      <td>11.19</td>\n",
              "      <td>223.86</td>\n",
              "      <td>forward</td>\n",
              "      <td>arsenal</td>\n",
              "    </tr>\n",
              "    <tr>\n",
              "      <th>8</th>\n",
              "      <td>saido berahino</td>\n",
              "      <td>13.8</td>\n",
              "      <td>21.0</td>\n",
              "      <td>9.0</td>\n",
              "      <td>0.0</td>\n",
              "      <td>20.0</td>\n",
              "      <td>7.02</td>\n",
              "      <td>147.43</td>\n",
              "      <td>forward</td>\n",
              "      <td>west brom</td>\n",
              "    </tr>\n",
              "    <tr>\n",
              "      <th>1</th>\n",
              "      <td>eden hazard</td>\n",
              "      <td>18.9</td>\n",
              "      <td>21.0</td>\n",
              "      <td>8.0</td>\n",
              "      <td>4.0</td>\n",
              "      <td>17.0</td>\n",
              "      <td>13.05</td>\n",
              "      <td>274.04</td>\n",
              "      <td>midfield</td>\n",
              "      <td>chelsea</td>\n",
              "    </tr>\n",
              "    <tr>\n",
              "      <th>3</th>\n",
              "      <td>yaya touré</td>\n",
              "      <td>16.6</td>\n",
              "      <td>18.0</td>\n",
              "      <td>7.0</td>\n",
              "      <td>1.0</td>\n",
              "      <td>19.0</td>\n",
              "      <td>10.99</td>\n",
              "      <td>197.91</td>\n",
              "      <td>midfield</td>\n",
              "      <td>manchester city</td>\n",
              "    </tr>\n",
              "  </tbody>\n",
              "</table>\n",
              "</div>"
            ],
            "text/plain": [
              "           player salary  games  ...  points  position             team\n",
              "0   sergio agüero   19.2   16.0  ...  209.98   forward  manchester city\n",
              "2  alexis sánchez   17.6    0.0  ...  223.86   forward          arsenal\n",
              "8  saido berahino   13.8   21.0  ...  147.43   forward        west brom\n",
              "1     eden hazard   18.9   21.0  ...  274.04  midfield          chelsea\n",
              "3      yaya touré   16.6   18.0  ...  197.91  midfield  manchester city\n",
              "\n",
              "[5 rows x 10 columns]"
            ]
          },
          "metadata": {
            "tags": []
          },
          "execution_count": 62
        }
      ]
    },
    {
      "cell_type": "code",
      "metadata": {
        "id": "mlt45HA85Kye",
        "colab_type": "code",
        "colab": {
          "base_uri": "https://localhost:8080/",
          "height": 204
        },
        "outputId": "c4d61310-76b6-4451-e4b3-af3eb6f8b0db"
      },
      "source": [
        "#optional reindexing of the Dataframe after sorting\n",
        "\n",
        "df.index=range(1,len(df.index)+1)\n",
        "df.head()"
      ],
      "execution_count": 63,
      "outputs": [
        {
          "output_type": "execute_result",
          "data": {
            "text/html": [
              "<div>\n",
              "<style scoped>\n",
              "    .dataframe tbody tr th:only-of-type {\n",
              "        vertical-align: middle;\n",
              "    }\n",
              "\n",
              "    .dataframe tbody tr th {\n",
              "        vertical-align: top;\n",
              "    }\n",
              "\n",
              "    .dataframe thead th {\n",
              "        text-align: right;\n",
              "    }\n",
              "</style>\n",
              "<table border=\"1\" class=\"dataframe\">\n",
              "  <thead>\n",
              "    <tr style=\"text-align: right;\">\n",
              "      <th></th>\n",
              "      <th>player</th>\n",
              "      <th>salary</th>\n",
              "      <th>games</th>\n",
              "      <th>goals</th>\n",
              "      <th>assists</th>\n",
              "      <th>shots on target</th>\n",
              "      <th>points_per_game</th>\n",
              "      <th>points</th>\n",
              "      <th>position</th>\n",
              "      <th>team</th>\n",
              "    </tr>\n",
              "  </thead>\n",
              "  <tbody>\n",
              "    <tr>\n",
              "      <th>1</th>\n",
              "      <td>sergio agüero</td>\n",
              "      <td>19.2</td>\n",
              "      <td>16.0</td>\n",
              "      <td>14.0</td>\n",
              "      <td>3.0</td>\n",
              "      <td>34.0</td>\n",
              "      <td>13.12</td>\n",
              "      <td>209.98</td>\n",
              "      <td>forward</td>\n",
              "      <td>manchester city</td>\n",
              "    </tr>\n",
              "    <tr>\n",
              "      <th>2</th>\n",
              "      <td>alexis sánchez</td>\n",
              "      <td>17.6</td>\n",
              "      <td>0.0</td>\n",
              "      <td>12.0</td>\n",
              "      <td>7.0</td>\n",
              "      <td>29.0</td>\n",
              "      <td>11.19</td>\n",
              "      <td>223.86</td>\n",
              "      <td>forward</td>\n",
              "      <td>arsenal</td>\n",
              "    </tr>\n",
              "    <tr>\n",
              "      <th>3</th>\n",
              "      <td>saido berahino</td>\n",
              "      <td>13.8</td>\n",
              "      <td>21.0</td>\n",
              "      <td>9.0</td>\n",
              "      <td>0.0</td>\n",
              "      <td>20.0</td>\n",
              "      <td>7.02</td>\n",
              "      <td>147.43</td>\n",
              "      <td>forward</td>\n",
              "      <td>west brom</td>\n",
              "    </tr>\n",
              "    <tr>\n",
              "      <th>4</th>\n",
              "      <td>eden hazard</td>\n",
              "      <td>18.9</td>\n",
              "      <td>21.0</td>\n",
              "      <td>8.0</td>\n",
              "      <td>4.0</td>\n",
              "      <td>17.0</td>\n",
              "      <td>13.05</td>\n",
              "      <td>274.04</td>\n",
              "      <td>midfield</td>\n",
              "      <td>chelsea</td>\n",
              "    </tr>\n",
              "    <tr>\n",
              "      <th>5</th>\n",
              "      <td>yaya touré</td>\n",
              "      <td>16.6</td>\n",
              "      <td>18.0</td>\n",
              "      <td>7.0</td>\n",
              "      <td>1.0</td>\n",
              "      <td>19.0</td>\n",
              "      <td>10.99</td>\n",
              "      <td>197.91</td>\n",
              "      <td>midfield</td>\n",
              "      <td>manchester city</td>\n",
              "    </tr>\n",
              "  </tbody>\n",
              "</table>\n",
              "</div>"
            ],
            "text/plain": [
              "           player salary  games  ...  points  position             team\n",
              "1   sergio agüero   19.2   16.0  ...  209.98   forward  manchester city\n",
              "2  alexis sánchez   17.6    0.0  ...  223.86   forward          arsenal\n",
              "3  saido berahino   13.8   21.0  ...  147.43   forward        west brom\n",
              "4     eden hazard   18.9   21.0  ...  274.04  midfield          chelsea\n",
              "5      yaya touré   16.6   18.0  ...  197.91  midfield  manchester city\n",
              "\n",
              "[5 rows x 10 columns]"
            ]
          },
          "metadata": {
            "tags": []
          },
          "execution_count": 63
        }
      ]
    },
    {
      "cell_type": "markdown",
      "metadata": {
        "id": "3J6L32bw5bML",
        "colab_type": "text"
      },
      "source": [
        "#Updating Columns"
      ]
    },
    {
      "cell_type": "code",
      "metadata": {
        "id": "57z8jKJh5mwk",
        "colab_type": "code",
        "colab": {
          "base_uri": "https://localhost:8080/",
          "height": 142
        },
        "outputId": "1fe7f642-b41f-4b59-f4fd-bb7a6fdaa0c8"
      },
      "source": [
        "#creating a dummy Dataframe with changes in the 'salary' column\n",
        "\n",
        "df_2=df.copy()\n",
        "df_2.loc[0:2,'salary']=[20.0,15.0]\n",
        "df_2.head(3)"
      ],
      "execution_count": 64,
      "outputs": [
        {
          "output_type": "execute_result",
          "data": {
            "text/html": [
              "<div>\n",
              "<style scoped>\n",
              "    .dataframe tbody tr th:only-of-type {\n",
              "        vertical-align: middle;\n",
              "    }\n",
              "\n",
              "    .dataframe tbody tr th {\n",
              "        vertical-align: top;\n",
              "    }\n",
              "\n",
              "    .dataframe thead th {\n",
              "        text-align: right;\n",
              "    }\n",
              "</style>\n",
              "<table border=\"1\" class=\"dataframe\">\n",
              "  <thead>\n",
              "    <tr style=\"text-align: right;\">\n",
              "      <th></th>\n",
              "      <th>player</th>\n",
              "      <th>salary</th>\n",
              "      <th>games</th>\n",
              "      <th>goals</th>\n",
              "      <th>assists</th>\n",
              "      <th>shots on target</th>\n",
              "      <th>points_per_game</th>\n",
              "      <th>points</th>\n",
              "      <th>position</th>\n",
              "      <th>team</th>\n",
              "    </tr>\n",
              "  </thead>\n",
              "  <tbody>\n",
              "    <tr>\n",
              "      <th>1</th>\n",
              "      <td>sergio agüero</td>\n",
              "      <td>20</td>\n",
              "      <td>16.0</td>\n",
              "      <td>14.0</td>\n",
              "      <td>3.0</td>\n",
              "      <td>34.0</td>\n",
              "      <td>13.12</td>\n",
              "      <td>209.98</td>\n",
              "      <td>forward</td>\n",
              "      <td>manchester city</td>\n",
              "    </tr>\n",
              "    <tr>\n",
              "      <th>2</th>\n",
              "      <td>alexis sánchez</td>\n",
              "      <td>15</td>\n",
              "      <td>0.0</td>\n",
              "      <td>12.0</td>\n",
              "      <td>7.0</td>\n",
              "      <td>29.0</td>\n",
              "      <td>11.19</td>\n",
              "      <td>223.86</td>\n",
              "      <td>forward</td>\n",
              "      <td>arsenal</td>\n",
              "    </tr>\n",
              "    <tr>\n",
              "      <th>3</th>\n",
              "      <td>saido berahino</td>\n",
              "      <td>13.8</td>\n",
              "      <td>21.0</td>\n",
              "      <td>9.0</td>\n",
              "      <td>0.0</td>\n",
              "      <td>20.0</td>\n",
              "      <td>7.02</td>\n",
              "      <td>147.43</td>\n",
              "      <td>forward</td>\n",
              "      <td>west brom</td>\n",
              "    </tr>\n",
              "  </tbody>\n",
              "</table>\n",
              "</div>"
            ],
            "text/plain": [
              "           player salary  games  ...  points  position             team\n",
              "1   sergio agüero     20   16.0  ...  209.98   forward  manchester city\n",
              "2  alexis sánchez     15    0.0  ...  223.86   forward          arsenal\n",
              "3  saido berahino   13.8   21.0  ...  147.43   forward        west brom\n",
              "\n",
              "[3 rows x 10 columns]"
            ]
          },
          "metadata": {
            "tags": []
          },
          "execution_count": 64
        }
      ]
    },
    {
      "cell_type": "code",
      "metadata": {
        "id": "IEBzv2Zh6n06",
        "colab_type": "code",
        "colab": {
          "base_uri": "https://localhost:8080/",
          "height": 173
        },
        "outputId": "61c7025e-36ca-446e-8496-3563146c5c77"
      },
      "source": [
        "#temporarily use the 'player' columns as indices to apply the update functions\n",
        "\n",
        "df.set_index('player',inplace=True)\n",
        "df_2.set_index('player',inplace=True)\n",
        "df.head(3)"
      ],
      "execution_count": 65,
      "outputs": [
        {
          "output_type": "execute_result",
          "data": {
            "text/html": [
              "<div>\n",
              "<style scoped>\n",
              "    .dataframe tbody tr th:only-of-type {\n",
              "        vertical-align: middle;\n",
              "    }\n",
              "\n",
              "    .dataframe tbody tr th {\n",
              "        vertical-align: top;\n",
              "    }\n",
              "\n",
              "    .dataframe thead th {\n",
              "        text-align: right;\n",
              "    }\n",
              "</style>\n",
              "<table border=\"1\" class=\"dataframe\">\n",
              "  <thead>\n",
              "    <tr style=\"text-align: right;\">\n",
              "      <th></th>\n",
              "      <th>salary</th>\n",
              "      <th>games</th>\n",
              "      <th>goals</th>\n",
              "      <th>assists</th>\n",
              "      <th>shots on target</th>\n",
              "      <th>points_per_game</th>\n",
              "      <th>points</th>\n",
              "      <th>position</th>\n",
              "      <th>team</th>\n",
              "    </tr>\n",
              "    <tr>\n",
              "      <th>player</th>\n",
              "      <th></th>\n",
              "      <th></th>\n",
              "      <th></th>\n",
              "      <th></th>\n",
              "      <th></th>\n",
              "      <th></th>\n",
              "      <th></th>\n",
              "      <th></th>\n",
              "      <th></th>\n",
              "    </tr>\n",
              "  </thead>\n",
              "  <tbody>\n",
              "    <tr>\n",
              "      <th>sergio agüero</th>\n",
              "      <td>19.2</td>\n",
              "      <td>16.0</td>\n",
              "      <td>14.0</td>\n",
              "      <td>3.0</td>\n",
              "      <td>34.0</td>\n",
              "      <td>13.12</td>\n",
              "      <td>209.98</td>\n",
              "      <td>forward</td>\n",
              "      <td>manchester city</td>\n",
              "    </tr>\n",
              "    <tr>\n",
              "      <th>alexis sánchez</th>\n",
              "      <td>17.6</td>\n",
              "      <td>0.0</td>\n",
              "      <td>12.0</td>\n",
              "      <td>7.0</td>\n",
              "      <td>29.0</td>\n",
              "      <td>11.19</td>\n",
              "      <td>223.86</td>\n",
              "      <td>forward</td>\n",
              "      <td>arsenal</td>\n",
              "    </tr>\n",
              "    <tr>\n",
              "      <th>saido berahino</th>\n",
              "      <td>13.8</td>\n",
              "      <td>21.0</td>\n",
              "      <td>9.0</td>\n",
              "      <td>0.0</td>\n",
              "      <td>20.0</td>\n",
              "      <td>7.02</td>\n",
              "      <td>147.43</td>\n",
              "      <td>forward</td>\n",
              "      <td>west brom</td>\n",
              "    </tr>\n",
              "  </tbody>\n",
              "</table>\n",
              "</div>"
            ],
            "text/plain": [
              "               salary  games  goals  ...  points  position             team\n",
              "player                               ...                                   \n",
              "sergio agüero    19.2   16.0   14.0  ...  209.98   forward  manchester city\n",
              "alexis sánchez   17.6    0.0   12.0  ...  223.86   forward          arsenal\n",
              "saido berahino   13.8   21.0    9.0  ...  147.43   forward        west brom\n",
              "\n",
              "[3 rows x 9 columns]"
            ]
          },
          "metadata": {
            "tags": []
          },
          "execution_count": 65
        }
      ]
    },
    {
      "cell_type": "code",
      "metadata": {
        "id": "8TlRpNGa7FVd",
        "colab_type": "code",
        "colab": {
          "base_uri": "https://localhost:8080/",
          "height": 173
        },
        "outputId": "e69f355c-6de1-4e98-e425-31d4238e7637"
      },
      "source": [
        "#update the 'salary' column\n",
        "df.update(other=df_2['salary'],overwrite=True)\n",
        "df.head(3)"
      ],
      "execution_count": 66,
      "outputs": [
        {
          "output_type": "execute_result",
          "data": {
            "text/html": [
              "<div>\n",
              "<style scoped>\n",
              "    .dataframe tbody tr th:only-of-type {\n",
              "        vertical-align: middle;\n",
              "    }\n",
              "\n",
              "    .dataframe tbody tr th {\n",
              "        vertical-align: top;\n",
              "    }\n",
              "\n",
              "    .dataframe thead th {\n",
              "        text-align: right;\n",
              "    }\n",
              "</style>\n",
              "<table border=\"1\" class=\"dataframe\">\n",
              "  <thead>\n",
              "    <tr style=\"text-align: right;\">\n",
              "      <th></th>\n",
              "      <th>salary</th>\n",
              "      <th>games</th>\n",
              "      <th>goals</th>\n",
              "      <th>assists</th>\n",
              "      <th>shots on target</th>\n",
              "      <th>points_per_game</th>\n",
              "      <th>points</th>\n",
              "      <th>position</th>\n",
              "      <th>team</th>\n",
              "    </tr>\n",
              "    <tr>\n",
              "      <th>player</th>\n",
              "      <th></th>\n",
              "      <th></th>\n",
              "      <th></th>\n",
              "      <th></th>\n",
              "      <th></th>\n",
              "      <th></th>\n",
              "      <th></th>\n",
              "      <th></th>\n",
              "      <th></th>\n",
              "    </tr>\n",
              "  </thead>\n",
              "  <tbody>\n",
              "    <tr>\n",
              "      <th>sergio agüero</th>\n",
              "      <td>20</td>\n",
              "      <td>16.0</td>\n",
              "      <td>14.0</td>\n",
              "      <td>3.0</td>\n",
              "      <td>34.0</td>\n",
              "      <td>13.12</td>\n",
              "      <td>209.98</td>\n",
              "      <td>forward</td>\n",
              "      <td>manchester city</td>\n",
              "    </tr>\n",
              "    <tr>\n",
              "      <th>alexis sánchez</th>\n",
              "      <td>15</td>\n",
              "      <td>0.0</td>\n",
              "      <td>12.0</td>\n",
              "      <td>7.0</td>\n",
              "      <td>29.0</td>\n",
              "      <td>11.19</td>\n",
              "      <td>223.86</td>\n",
              "      <td>forward</td>\n",
              "      <td>arsenal</td>\n",
              "    </tr>\n",
              "    <tr>\n",
              "      <th>saido berahino</th>\n",
              "      <td>13.8</td>\n",
              "      <td>21.0</td>\n",
              "      <td>9.0</td>\n",
              "      <td>0.0</td>\n",
              "      <td>20.0</td>\n",
              "      <td>7.02</td>\n",
              "      <td>147.43</td>\n",
              "      <td>forward</td>\n",
              "      <td>west brom</td>\n",
              "    </tr>\n",
              "  </tbody>\n",
              "</table>\n",
              "</div>"
            ],
            "text/plain": [
              "               salary  games  goals  ...  points  position             team\n",
              "player                               ...                                   \n",
              "sergio agüero      20   16.0   14.0  ...  209.98   forward  manchester city\n",
              "alexis sánchez     15    0.0   12.0  ...  223.86   forward          arsenal\n",
              "saido berahino   13.8   21.0    9.0  ...  147.43   forward        west brom\n",
              "\n",
              "[3 rows x 9 columns]"
            ]
          },
          "metadata": {
            "tags": []
          },
          "execution_count": 66
        }
      ]
    },
    {
      "cell_type": "code",
      "metadata": {
        "id": "30oZlS_17RqA",
        "colab_type": "code",
        "colab": {
          "base_uri": "https://localhost:8080/",
          "height": 142
        },
        "outputId": "934e215c-dfbc-4f76-fc7f-83295413c54a"
      },
      "source": [
        "#reset the indices\n",
        "\n",
        "df.reset_index(inplace=True)\n",
        "df.head(3)"
      ],
      "execution_count": 67,
      "outputs": [
        {
          "output_type": "execute_result",
          "data": {
            "text/html": [
              "<div>\n",
              "<style scoped>\n",
              "    .dataframe tbody tr th:only-of-type {\n",
              "        vertical-align: middle;\n",
              "    }\n",
              "\n",
              "    .dataframe tbody tr th {\n",
              "        vertical-align: top;\n",
              "    }\n",
              "\n",
              "    .dataframe thead th {\n",
              "        text-align: right;\n",
              "    }\n",
              "</style>\n",
              "<table border=\"1\" class=\"dataframe\">\n",
              "  <thead>\n",
              "    <tr style=\"text-align: right;\">\n",
              "      <th></th>\n",
              "      <th>player</th>\n",
              "      <th>salary</th>\n",
              "      <th>games</th>\n",
              "      <th>goals</th>\n",
              "      <th>assists</th>\n",
              "      <th>shots on target</th>\n",
              "      <th>points_per_game</th>\n",
              "      <th>points</th>\n",
              "      <th>position</th>\n",
              "      <th>team</th>\n",
              "    </tr>\n",
              "  </thead>\n",
              "  <tbody>\n",
              "    <tr>\n",
              "      <th>0</th>\n",
              "      <td>sergio agüero</td>\n",
              "      <td>20</td>\n",
              "      <td>16.0</td>\n",
              "      <td>14.0</td>\n",
              "      <td>3.0</td>\n",
              "      <td>34.0</td>\n",
              "      <td>13.12</td>\n",
              "      <td>209.98</td>\n",
              "      <td>forward</td>\n",
              "      <td>manchester city</td>\n",
              "    </tr>\n",
              "    <tr>\n",
              "      <th>1</th>\n",
              "      <td>alexis sánchez</td>\n",
              "      <td>15</td>\n",
              "      <td>0.0</td>\n",
              "      <td>12.0</td>\n",
              "      <td>7.0</td>\n",
              "      <td>29.0</td>\n",
              "      <td>11.19</td>\n",
              "      <td>223.86</td>\n",
              "      <td>forward</td>\n",
              "      <td>arsenal</td>\n",
              "    </tr>\n",
              "    <tr>\n",
              "      <th>2</th>\n",
              "      <td>saido berahino</td>\n",
              "      <td>13.8</td>\n",
              "      <td>21.0</td>\n",
              "      <td>9.0</td>\n",
              "      <td>0.0</td>\n",
              "      <td>20.0</td>\n",
              "      <td>7.02</td>\n",
              "      <td>147.43</td>\n",
              "      <td>forward</td>\n",
              "      <td>west brom</td>\n",
              "    </tr>\n",
              "  </tbody>\n",
              "</table>\n",
              "</div>"
            ],
            "text/plain": [
              "           player salary  games  ...  points  position             team\n",
              "0   sergio agüero     20   16.0  ...  209.98   forward  manchester city\n",
              "1  alexis sánchez     15    0.0  ...  223.86   forward          arsenal\n",
              "2  saido berahino   13.8   21.0  ...  147.43   forward        west brom\n",
              "\n",
              "[3 rows x 10 columns]"
            ]
          },
          "metadata": {
            "tags": []
          },
          "execution_count": 67
        }
      ]
    },
    {
      "cell_type": "markdown",
      "metadata": {
        "id": "uVzfRUr47yw6",
        "colab_type": "text"
      },
      "source": [
        "#Chaining Conditions-Using Bitwise Operators"
      ]
    },
    {
      "cell_type": "code",
      "metadata": {
        "id": "Mu-LkAvs76K6",
        "colab_type": "code",
        "colab": {
          "base_uri": "https://localhost:8080/",
          "height": 173
        },
        "outputId": "b0a05505-b745-4e76-b553-b1a51e3dcfe2"
      },
      "source": [
        "df[(df['team']=='arsenal')|(df['team']=='chelsea')]"
      ],
      "execution_count": 68,
      "outputs": [
        {
          "output_type": "execute_result",
          "data": {
            "text/html": [
              "<div>\n",
              "<style scoped>\n",
              "    .dataframe tbody tr th:only-of-type {\n",
              "        vertical-align: middle;\n",
              "    }\n",
              "\n",
              "    .dataframe tbody tr th {\n",
              "        vertical-align: top;\n",
              "    }\n",
              "\n",
              "    .dataframe thead th {\n",
              "        text-align: right;\n",
              "    }\n",
              "</style>\n",
              "<table border=\"1\" class=\"dataframe\">\n",
              "  <thead>\n",
              "    <tr style=\"text-align: right;\">\n",
              "      <th></th>\n",
              "      <th>player</th>\n",
              "      <th>salary</th>\n",
              "      <th>games</th>\n",
              "      <th>goals</th>\n",
              "      <th>assists</th>\n",
              "      <th>shots on target</th>\n",
              "      <th>points_per_game</th>\n",
              "      <th>points</th>\n",
              "      <th>position</th>\n",
              "      <th>team</th>\n",
              "    </tr>\n",
              "  </thead>\n",
              "  <tbody>\n",
              "    <tr>\n",
              "      <th>1</th>\n",
              "      <td>alexis sánchez</td>\n",
              "      <td>15</td>\n",
              "      <td>0.0</td>\n",
              "      <td>12.0</td>\n",
              "      <td>7.0</td>\n",
              "      <td>29.0</td>\n",
              "      <td>11.19</td>\n",
              "      <td>223.86</td>\n",
              "      <td>forward</td>\n",
              "      <td>arsenal</td>\n",
              "    </tr>\n",
              "    <tr>\n",
              "      <th>3</th>\n",
              "      <td>eden hazard</td>\n",
              "      <td>18.9</td>\n",
              "      <td>21.0</td>\n",
              "      <td>8.0</td>\n",
              "      <td>4.0</td>\n",
              "      <td>17.0</td>\n",
              "      <td>13.05</td>\n",
              "      <td>274.04</td>\n",
              "      <td>midfield</td>\n",
              "      <td>chelsea</td>\n",
              "    </tr>\n",
              "    <tr>\n",
              "      <th>7</th>\n",
              "      <td>santiago cazorla</td>\n",
              "      <td>14.8</td>\n",
              "      <td>20.0</td>\n",
              "      <td>4.0</td>\n",
              "      <td>0.0</td>\n",
              "      <td>20.0</td>\n",
              "      <td>9.97</td>\n",
              "      <td>0.00</td>\n",
              "      <td>midfield</td>\n",
              "      <td>arsenal</td>\n",
              "    </tr>\n",
              "    <tr>\n",
              "      <th>9</th>\n",
              "      <td>cesc fàbregas</td>\n",
              "      <td>14.0</td>\n",
              "      <td>20.0</td>\n",
              "      <td>2.0</td>\n",
              "      <td>14.0</td>\n",
              "      <td>10.0</td>\n",
              "      <td>10.47</td>\n",
              "      <td>209.49</td>\n",
              "      <td>midfield</td>\n",
              "      <td>chelsea</td>\n",
              "    </tr>\n",
              "  </tbody>\n",
              "</table>\n",
              "</div>"
            ],
            "text/plain": [
              "             player salary  games  ...  points  position     team\n",
              "1    alexis sánchez     15    0.0  ...  223.86   forward  arsenal\n",
              "3       eden hazard   18.9   21.0  ...  274.04  midfield  chelsea\n",
              "7  santiago cazorla   14.8   20.0  ...    0.00  midfield  arsenal\n",
              "9     cesc fàbregas   14.0   20.0  ...  209.49  midfield  chelsea\n",
              "\n",
              "[4 rows x 10 columns]"
            ]
          },
          "metadata": {
            "tags": []
          },
          "execution_count": 68
        }
      ]
    },
    {
      "cell_type": "code",
      "metadata": {
        "id": "Nq8gWObm8L-i",
        "colab_type": "code",
        "colab": {
          "base_uri": "https://localhost:8080/",
          "height": 80
        },
        "outputId": "18994d57-59db-4572-bfb8-cc378349f2c6"
      },
      "source": [
        "#selecting forwards from arsenal only\n",
        "\n",
        "df[(df['team']=='arsenal')&(df['position']=='forward')]"
      ],
      "execution_count": 69,
      "outputs": [
        {
          "output_type": "execute_result",
          "data": {
            "text/html": [
              "<div>\n",
              "<style scoped>\n",
              "    .dataframe tbody tr th:only-of-type {\n",
              "        vertical-align: middle;\n",
              "    }\n",
              "\n",
              "    .dataframe tbody tr th {\n",
              "        vertical-align: top;\n",
              "    }\n",
              "\n",
              "    .dataframe thead th {\n",
              "        text-align: right;\n",
              "    }\n",
              "</style>\n",
              "<table border=\"1\" class=\"dataframe\">\n",
              "  <thead>\n",
              "    <tr style=\"text-align: right;\">\n",
              "      <th></th>\n",
              "      <th>player</th>\n",
              "      <th>salary</th>\n",
              "      <th>games</th>\n",
              "      <th>goals</th>\n",
              "      <th>assists</th>\n",
              "      <th>shots on target</th>\n",
              "      <th>points_per_game</th>\n",
              "      <th>points</th>\n",
              "      <th>position</th>\n",
              "      <th>team</th>\n",
              "    </tr>\n",
              "  </thead>\n",
              "  <tbody>\n",
              "    <tr>\n",
              "      <th>1</th>\n",
              "      <td>alexis sánchez</td>\n",
              "      <td>15</td>\n",
              "      <td>0.0</td>\n",
              "      <td>12.0</td>\n",
              "      <td>7.0</td>\n",
              "      <td>29.0</td>\n",
              "      <td>11.19</td>\n",
              "      <td>223.86</td>\n",
              "      <td>forward</td>\n",
              "      <td>arsenal</td>\n",
              "    </tr>\n",
              "  </tbody>\n",
              "</table>\n",
              "</div>"
            ],
            "text/plain": [
              "           player salary  games  ...  points  position     team\n",
              "1  alexis sánchez     15    0.0  ...  223.86   forward  arsenal\n",
              "\n",
              "[1 rows x 10 columns]"
            ]
          },
          "metadata": {
            "tags": []
          },
          "execution_count": 69
        }
      ]
    },
    {
      "cell_type": "markdown",
      "metadata": {
        "id": "5z4fb22D8uxJ",
        "colab_type": "text"
      },
      "source": [
        "#Column Types"
      ]
    },
    {
      "cell_type": "markdown",
      "metadata": {
        "id": "L7qveLFr8ys_",
        "colab_type": "text"
      },
      "source": [
        "##printing column types"
      ]
    },
    {
      "cell_type": "code",
      "metadata": {
        "id": "6AtvEqND82td",
        "colab_type": "code",
        "colab": {
          "base_uri": "https://localhost:8080/",
          "height": 85
        },
        "outputId": "f80fa646-69bd-429e-cf0e-6e67edcd1a30"
      },
      "source": [
        "types=df.columns.to_series().groupby(df.dtypes).groups\n",
        "types"
      ],
      "execution_count": 70,
      "outputs": [
        {
          "output_type": "execute_result",
          "data": {
            "text/plain": [
              "{dtype('float64'): Index(['games', 'goals', 'assists', 'shots on target', 'points_per_game',\n",
              "        'points'],\n",
              "       dtype='object'),\n",
              " dtype('O'): Index(['player', 'salary', 'position', 'team'], dtype='object')}"
            ]
          },
          "metadata": {
            "tags": []
          },
          "execution_count": 70
        }
      ]
    },
    {
      "cell_type": "markdown",
      "metadata": {
        "id": "z8dd-H-W9C1P",
        "colab_type": "text"
      },
      "source": [
        "##Selecting Column Type"
      ]
    },
    {
      "cell_type": "code",
      "metadata": {
        "id": "_NgI6Xbc9GyW",
        "colab_type": "code",
        "colab": {
          "base_uri": "https://localhost:8080/",
          "height": 204
        },
        "outputId": "cd99d0b8-2d86-460f-9bca-692b898f6080"
      },
      "source": [
        "#select string columns\n",
        "df.loc[:, (df.dtypes == np.dtype('O')).values].head()"
      ],
      "execution_count": 71,
      "outputs": [
        {
          "output_type": "execute_result",
          "data": {
            "text/html": [
              "<div>\n",
              "<style scoped>\n",
              "    .dataframe tbody tr th:only-of-type {\n",
              "        vertical-align: middle;\n",
              "    }\n",
              "\n",
              "    .dataframe tbody tr th {\n",
              "        vertical-align: top;\n",
              "    }\n",
              "\n",
              "    .dataframe thead th {\n",
              "        text-align: right;\n",
              "    }\n",
              "</style>\n",
              "<table border=\"1\" class=\"dataframe\">\n",
              "  <thead>\n",
              "    <tr style=\"text-align: right;\">\n",
              "      <th></th>\n",
              "      <th>player</th>\n",
              "      <th>salary</th>\n",
              "      <th>position</th>\n",
              "      <th>team</th>\n",
              "    </tr>\n",
              "  </thead>\n",
              "  <tbody>\n",
              "    <tr>\n",
              "      <th>0</th>\n",
              "      <td>sergio agüero</td>\n",
              "      <td>20</td>\n",
              "      <td>forward</td>\n",
              "      <td>manchester city</td>\n",
              "    </tr>\n",
              "    <tr>\n",
              "      <th>1</th>\n",
              "      <td>alexis sánchez</td>\n",
              "      <td>15</td>\n",
              "      <td>forward</td>\n",
              "      <td>arsenal</td>\n",
              "    </tr>\n",
              "    <tr>\n",
              "      <th>2</th>\n",
              "      <td>saido berahino</td>\n",
              "      <td>13.8</td>\n",
              "      <td>forward</td>\n",
              "      <td>west brom</td>\n",
              "    </tr>\n",
              "    <tr>\n",
              "      <th>3</th>\n",
              "      <td>eden hazard</td>\n",
              "      <td>18.9</td>\n",
              "      <td>midfield</td>\n",
              "      <td>chelsea</td>\n",
              "    </tr>\n",
              "    <tr>\n",
              "      <th>4</th>\n",
              "      <td>yaya touré</td>\n",
              "      <td>16.6</td>\n",
              "      <td>midfield</td>\n",
              "      <td>manchester city</td>\n",
              "    </tr>\n",
              "  </tbody>\n",
              "</table>\n",
              "</div>"
            ],
            "text/plain": [
              "           player salary  position             team\n",
              "0   sergio agüero     20   forward  manchester city\n",
              "1  alexis sánchez     15   forward          arsenal\n",
              "2  saido berahino   13.8   forward        west brom\n",
              "3     eden hazard   18.9  midfield          chelsea\n",
              "4      yaya touré   16.6  midfield  manchester city"
            ]
          },
          "metadata": {
            "tags": []
          },
          "execution_count": 71
        }
      ]
    },
    {
      "cell_type": "markdown",
      "metadata": {
        "id": "nBGg5eo19mqe",
        "colab_type": "text"
      },
      "source": [
        "##Converting Column Type"
      ]
    },
    {
      "cell_type": "code",
      "metadata": {
        "id": "0ltYXTOJ9qFY",
        "colab_type": "code",
        "colab": {}
      },
      "source": [
        "df['salary']=df['salary'].astype(float)"
      ],
      "execution_count": 0,
      "outputs": []
    },
    {
      "cell_type": "code",
      "metadata": {
        "id": "FD5Rh_Wm9zHh",
        "colab_type": "code",
        "colab": {
          "base_uri": "https://localhost:8080/",
          "height": 85
        },
        "outputId": "0e5e62e6-958d-4727-d551-88e5730c196b"
      },
      "source": [
        "types = df.columns.to_series().groupby(df.dtypes).groups\n",
        "types"
      ],
      "execution_count": 73,
      "outputs": [
        {
          "output_type": "execute_result",
          "data": {
            "text/plain": [
              "{dtype('float64'): Index(['salary', 'games', 'goals', 'assists', 'shots on target',\n",
              "        'points_per_game', 'points'],\n",
              "       dtype='object'),\n",
              " dtype('O'): Index(['player', 'position', 'team'], dtype='object')}"
            ]
          },
          "metadata": {
            "tags": []
          },
          "execution_count": 73
        }
      ]
    },
    {
      "cell_type": "markdown",
      "metadata": {
        "id": "y-4yNBPt-Q77",
        "colab_type": "text"
      },
      "source": [
        "#if-tests\n",
        "\n",
        "iif-test i pandas, create an array of 1's and 0's depending on condition.\n",
        "e.g, if **val** less than 0.5->0, else ->1. usig the boolean mask. since  **True** and **false** are integers after all"
      ]
    },
    {
      "cell_type": "code",
      "metadata": {
        "id": "oycdiVIX-6Od",
        "colab_type": "code",
        "colab": {
          "base_uri": "https://localhost:8080/",
          "height": 34
        },
        "outputId": "d8198d3f-92ed-4e4c-cc4f-0f617fda3157"
      },
      "source": [
        "int(True)"
      ],
      "execution_count": 74,
      "outputs": [
        {
          "output_type": "execute_result",
          "data": {
            "text/plain": [
              "1"
            ]
          },
          "metadata": {
            "tags": []
          },
          "execution_count": 74
        }
      ]
    },
    {
      "cell_type": "code",
      "metadata": {
        "id": "LuTZ6_vo-86N",
        "colab_type": "code",
        "colab": {
          "base_uri": "https://localhost:8080/",
          "height": 111
        },
        "outputId": "57d80bbe-9f83-409e-8221-ed4bc061ecde"
      },
      "source": [
        "import pandas as pd\n",
        "\n",
        "a=[[2.,.3,4.,5.],[.8,.03,0.02,5.]]\n",
        "df=pd.DataFrame(a)\n",
        "df"
      ],
      "execution_count": 75,
      "outputs": [
        {
          "output_type": "execute_result",
          "data": {
            "text/html": [
              "<div>\n",
              "<style scoped>\n",
              "    .dataframe tbody tr th:only-of-type {\n",
              "        vertical-align: middle;\n",
              "    }\n",
              "\n",
              "    .dataframe tbody tr th {\n",
              "        vertical-align: top;\n",
              "    }\n",
              "\n",
              "    .dataframe thead th {\n",
              "        text-align: right;\n",
              "    }\n",
              "</style>\n",
              "<table border=\"1\" class=\"dataframe\">\n",
              "  <thead>\n",
              "    <tr style=\"text-align: right;\">\n",
              "      <th></th>\n",
              "      <th>0</th>\n",
              "      <th>1</th>\n",
              "      <th>2</th>\n",
              "      <th>3</th>\n",
              "    </tr>\n",
              "  </thead>\n",
              "  <tbody>\n",
              "    <tr>\n",
              "      <th>0</th>\n",
              "      <td>2.0</td>\n",
              "      <td>0.30</td>\n",
              "      <td>4.00</td>\n",
              "      <td>5.0</td>\n",
              "    </tr>\n",
              "    <tr>\n",
              "      <th>1</th>\n",
              "      <td>0.8</td>\n",
              "      <td>0.03</td>\n",
              "      <td>0.02</td>\n",
              "      <td>5.0</td>\n",
              "    </tr>\n",
              "  </tbody>\n",
              "</table>\n",
              "</div>"
            ],
            "text/plain": [
              "     0     1     2    3\n",
              "0  2.0  0.30  4.00  5.0\n",
              "1  0.8  0.03  0.02  5.0"
            ]
          },
          "metadata": {
            "tags": []
          },
          "execution_count": 75
        }
      ]
    },
    {
      "cell_type": "code",
      "metadata": {
        "id": "R4mpRIVR_NEu",
        "colab_type": "code",
        "colab": {
          "base_uri": "https://localhost:8080/",
          "height": 111
        },
        "outputId": "5739ae87-de75-47c8-a638-07226765a79c"
      },
      "source": [
        "df=df<=0.05\n",
        "df"
      ],
      "execution_count": 76,
      "outputs": [
        {
          "output_type": "execute_result",
          "data": {
            "text/html": [
              "<div>\n",
              "<style scoped>\n",
              "    .dataframe tbody tr th:only-of-type {\n",
              "        vertical-align: middle;\n",
              "    }\n",
              "\n",
              "    .dataframe tbody tr th {\n",
              "        vertical-align: top;\n",
              "    }\n",
              "\n",
              "    .dataframe thead th {\n",
              "        text-align: right;\n",
              "    }\n",
              "</style>\n",
              "<table border=\"1\" class=\"dataframe\">\n",
              "  <thead>\n",
              "    <tr style=\"text-align: right;\">\n",
              "      <th></th>\n",
              "      <th>0</th>\n",
              "      <th>1</th>\n",
              "      <th>2</th>\n",
              "      <th>3</th>\n",
              "    </tr>\n",
              "  </thead>\n",
              "  <tbody>\n",
              "    <tr>\n",
              "      <th>0</th>\n",
              "      <td>False</td>\n",
              "      <td>False</td>\n",
              "      <td>False</td>\n",
              "      <td>False</td>\n",
              "    </tr>\n",
              "    <tr>\n",
              "      <th>1</th>\n",
              "      <td>False</td>\n",
              "      <td>True</td>\n",
              "      <td>True</td>\n",
              "      <td>False</td>\n",
              "    </tr>\n",
              "  </tbody>\n",
              "</table>\n",
              "</div>"
            ],
            "text/plain": [
              "       0      1      2      3\n",
              "0  False  False  False  False\n",
              "1  False   True   True  False"
            ]
          },
          "metadata": {
            "tags": []
          },
          "execution_count": 76
        }
      ]
    },
    {
      "cell_type": "code",
      "metadata": {
        "id": "ek_XcoTa_Q2V",
        "colab_type": "code",
        "colab": {
          "base_uri": "https://localhost:8080/",
          "height": 111
        },
        "outputId": "a216b597-68c1-4d08-fb5b-6f4c608e67b7"
      },
      "source": [
        "df.astype(int)"
      ],
      "execution_count": 77,
      "outputs": [
        {
          "output_type": "execute_result",
          "data": {
            "text/html": [
              "<div>\n",
              "<style scoped>\n",
              "    .dataframe tbody tr th:only-of-type {\n",
              "        vertical-align: middle;\n",
              "    }\n",
              "\n",
              "    .dataframe tbody tr th {\n",
              "        vertical-align: top;\n",
              "    }\n",
              "\n",
              "    .dataframe thead th {\n",
              "        text-align: right;\n",
              "    }\n",
              "</style>\n",
              "<table border=\"1\" class=\"dataframe\">\n",
              "  <thead>\n",
              "    <tr style=\"text-align: right;\">\n",
              "      <th></th>\n",
              "      <th>0</th>\n",
              "      <th>1</th>\n",
              "      <th>2</th>\n",
              "      <th>3</th>\n",
              "    </tr>\n",
              "  </thead>\n",
              "  <tbody>\n",
              "    <tr>\n",
              "      <th>0</th>\n",
              "      <td>0</td>\n",
              "      <td>0</td>\n",
              "      <td>0</td>\n",
              "      <td>0</td>\n",
              "    </tr>\n",
              "    <tr>\n",
              "      <th>1</th>\n",
              "      <td>0</td>\n",
              "      <td>1</td>\n",
              "      <td>1</td>\n",
              "      <td>0</td>\n",
              "    </tr>\n",
              "  </tbody>\n",
              "</table>\n",
              "</div>"
            ],
            "text/plain": [
              "   0  1  2  3\n",
              "0  0  0  0  0\n",
              "1  0  1  1  0"
            ]
          },
          "metadata": {
            "tags": []
          },
          "execution_count": 77
        }
      ]
    }
  ]
}