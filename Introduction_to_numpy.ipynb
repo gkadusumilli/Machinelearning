{
  "nbformat": 4,
  "nbformat_minor": 0,
  "metadata": {
    "colab": {
      "name": "Introduction to numpy.ipynb",
      "provenance": [],
      "collapsed_sections": [],
      "include_colab_link": true
    },
    "kernelspec": {
      "name": "python3",
      "display_name": "Python 3"
    }
  },
  "cells": [
    {
      "cell_type": "markdown",
      "metadata": {
        "id": "view-in-github",
        "colab_type": "text"
      },
      "source": [
        "<a href=\"https://colab.research.google.com/github/gkadusumilli/Machinelearning/blob/master/Introduction_to_numpy.ipynb\" target=\"_parent\"><img src=\"https://colab.research.google.com/assets/colab-badge.svg\" alt=\"Open In Colab\"/></a>"
      ]
    },
    {
      "cell_type": "markdown",
      "metadata": {
        "id": "obqdolFjAiEF",
        "colab_type": "text"
      },
      "source": [
        "# Introduction to NumPy\n",
        "\n",
        "-Gopalakrishna Adusumilli\n",
        "gk1291@outlook.com\n",
        "\n",
        "###Numpy Installation\n",
        "1. Open command prompt(cmd)\n",
        "2. Run *pip install numpy*.\n",
        "\n",
        "![Importance of NumPy](https://cloudxlab.com/blog/wp-content/uploads/2017/12/numpypandasfeatureimage-3.png)\n",
        "\n",
        "otherwise you can refer [NumPy website](https://numpy.org) and follow the instructions provided.\n",
        "\n",
        "### Numpy Version "
      ]
    },
    {
      "cell_type": "code",
      "metadata": {
        "id": "f93R3uHoAXaN",
        "colab_type": "code",
        "colab": {}
      },
      "source": [
        "import numpy\n",
        "numpy . _version_"
      ],
      "execution_count": 0,
      "outputs": []
    },
    {
      "cell_type": "markdown",
      "metadata": {
        "id": "IFylYWS9CyXx",
        "colab_type": "text"
      },
      "source": [
        "### List Creation- using Integers, Strings or creating Heterogeneous Lists"
      ]
    },
    {
      "cell_type": "markdown",
      "metadata": {
        "id": "0JfbCyXRBwSD",
        "colab_type": "text"
      },
      "source": [
        "The standard mutable multi element contained in python is the **list** we can create a list of integers"
      ]
    },
    {
      "cell_type": "code",
      "metadata": {
        "id": "fmssKOx7CM3P",
        "colab_type": "code",
        "outputId": "e59d2bdf-dc87-4462-ef9b-029fa26a9bed",
        "colab": {
          "base_uri": "https://localhost:8080/",
          "height": 35
        }
      },
      "source": [
        "A=list(range(10))\n",
        "A\n"
      ],
      "execution_count": 2,
      "outputs": [
        {
          "output_type": "execute_result",
          "data": {
            "text/plain": [
              "[0, 1, 2, 3, 4, 5, 6, 7, 8, 9]"
            ]
          },
          "metadata": {
            "tags": []
          },
          "execution_count": 2
        }
      ]
    },
    {
      "cell_type": "markdown",
      "metadata": {
        "id": "TjrDdOT3Ccup",
        "colab_type": "text"
      },
      "source": [
        "Similarly a list of strings"
      ]
    },
    {
      "cell_type": "code",
      "metadata": {
        "id": "RCtc9LlBCfy0",
        "colab_type": "code",
        "outputId": "984aca0d-1d20-495d-cfe1-6328c09d50bc",
        "colab": {
          "base_uri": "https://localhost:8080/",
          "height": 35
        }
      },
      "source": [
        "A2=[str(c) for c in A]\n",
        "\n",
        "A2"
      ],
      "execution_count": 3,
      "outputs": [
        {
          "output_type": "execute_result",
          "data": {
            "text/plain": [
              "['0', '1', '2', '3', '4', '5', '6', '7', '8', '9']"
            ]
          },
          "metadata": {
            "tags": []
          },
          "execution_count": 3
        }
      ]
    },
    {
      "cell_type": "code",
      "metadata": {
        "id": "OYGnO9b8CpVN",
        "colab_type": "code",
        "outputId": "58381fa0-d4ef-42c1-cb5b-3837fb3778c5",
        "colab": {
          "base_uri": "https://localhost:8080/",
          "height": 35
        }
      },
      "source": [
        "type(A2[0])"
      ],
      "execution_count": 4,
      "outputs": [
        {
          "output_type": "execute_result",
          "data": {
            "text/plain": [
              "str"
            ]
          },
          "metadata": {
            "tags": []
          },
          "execution_count": 4
        }
      ]
    },
    {
      "cell_type": "markdown",
      "metadata": {
        "id": "rHSh0UXqDFtC",
        "colab_type": "text"
      },
      "source": [
        "We can create Heterogeneous lists"
      ]
    },
    {
      "cell_type": "code",
      "metadata": {
        "id": "udIrLFwLDK7u",
        "colab_type": "code",
        "outputId": "0454dafe-c52f-4726-874f-a1ec61faa87a",
        "colab": {
          "base_uri": "https://localhost:8080/",
          "height": 35
        }
      },
      "source": [
        "A3=[True, \"2\",3.0,4]\n",
        "\n",
        "A3"
      ],
      "execution_count": 5,
      "outputs": [
        {
          "output_type": "execute_result",
          "data": {
            "text/plain": [
              "[True, '2', 3.0, 4]"
            ]
          },
          "metadata": {
            "tags": []
          },
          "execution_count": 5
        }
      ]
    },
    {
      "cell_type": "code",
      "metadata": {
        "id": "w8n4axowDTmi",
        "colab_type": "code",
        "outputId": "5325e190-ea24-4357-c76c-a8d6f70c7ac1",
        "colab": {
          "base_uri": "https://localhost:8080/",
          "height": 35
        }
      },
      "source": [
        "[type(item) for item in A3]"
      ],
      "execution_count": 6,
      "outputs": [
        {
          "output_type": "execute_result",
          "data": {
            "text/plain": [
              "[bool, str, float, int]"
            ]
          },
          "metadata": {
            "tags": []
          },
          "execution_count": 6
        }
      ]
    },
    {
      "cell_type": "markdown",
      "metadata": {
        "id": "kOB2w0SJDhAC",
        "colab_type": "text"
      },
      "source": [
        "### Array- One Dimensional, Two Dimensional"
      ]
    },
    {
      "cell_type": "markdown",
      "metadata": {
        "id": "2bvI7UA8Duwp",
        "colab_type": "text"
      },
      "source": [
        "Python offers several diffrent options for storing data in efficient, fixed-type data buffers. The Built in array module can be used to create dense arrays of uniform type"
      ]
    },
    {
      "cell_type": "code",
      "metadata": {
        "id": "YgYXfhTnEB4D",
        "colab_type": "code",
        "outputId": "4b6f7710-c1c0-4ebe-a415-7564cbb6164d",
        "colab": {
          "base_uri": "https://localhost:8080/",
          "height": 35
        }
      },
      "source": [
        "import array \n",
        "\n",
        "A=list(range(10))\n",
        "# 'i' is a type code indicating the contents are integers\n",
        "A1=array.array('i',A)\n",
        "A"
      ],
      "execution_count": 7,
      "outputs": [
        {
          "output_type": "execute_result",
          "data": {
            "text/plain": [
              "[0, 1, 2, 3, 4, 5, 6, 7, 8, 9]"
            ]
          },
          "metadata": {
            "tags": []
          },
          "execution_count": 7
        }
      ]
    },
    {
      "cell_type": "markdown",
      "metadata": {
        "id": "672hSHsOEfzL",
        "colab_type": "text"
      },
      "source": [
        "we can use **np.array**  to create arrays from python lists"
      ]
    },
    {
      "cell_type": "code",
      "metadata": {
        "id": "ZkJryhRSEXvl",
        "colab_type": "code",
        "outputId": "100185ee-f369-4ecb-cd89-aff0924baf7f",
        "colab": {
          "base_uri": "https://localhost:8080/",
          "height": 35
        }
      },
      "source": [
        "import numpy as np\n",
        "np.array([1,2,3,4,5])"
      ],
      "execution_count": 8,
      "outputs": [
        {
          "output_type": "execute_result",
          "data": {
            "text/plain": [
              "array([1, 2, 3, 4, 5])"
            ]
          },
          "metadata": {
            "tags": []
          },
          "execution_count": 8
        }
      ]
    },
    {
      "cell_type": "markdown",
      "metadata": {
        "id": "esktF9NIExd8",
        "colab_type": "text"
      },
      "source": [
        "if we want to explicitly set the data type of resulting array, we can use the **dtype** keyword"
      ]
    },
    {
      "cell_type": "code",
      "metadata": {
        "id": "vxDDpkD8E7RU",
        "colab_type": "code",
        "outputId": "ad3589b7-abb5-4804-c2c8-a61cd2f93fb4",
        "colab": {
          "base_uri": "https://localhost:8080/",
          "height": 35
        }
      },
      "source": [
        "np.array([1,3,4,5,6],dtype='float32')"
      ],
      "execution_count": 9,
      "outputs": [
        {
          "output_type": "execute_result",
          "data": {
            "text/plain": [
              "array([1., 3., 4., 5., 6.], dtype=float32)"
            ]
          },
          "metadata": {
            "tags": []
          },
          "execution_count": 9
        }
      ]
    },
    {
      "cell_type": "markdown",
      "metadata": {
        "id": "YrIeTKFnFEoW",
        "colab_type": "text"
      },
      "source": [
        "Now we will work on initializing a multi dimensional array using a list of lists"
      ]
    },
    {
      "cell_type": "code",
      "metadata": {
        "id": "ULnLacfGFccD",
        "colab_type": "code",
        "outputId": "f499176b-b94d-4dc2-de3b-16906d394751",
        "colab": {
          "base_uri": "https://localhost:8080/",
          "height": 70
        }
      },
      "source": [
        "np.array([range(i,i+3) for i in [2,4,6]])\n",
        "\n",
        "# The inner lists are treated as rows of the resulting 2D array"
      ],
      "execution_count": 10,
      "outputs": [
        {
          "output_type": "execute_result",
          "data": {
            "text/plain": [
              "array([[2, 3, 4],\n",
              "       [4, 5, 6],\n",
              "       [6, 7, 8]])"
            ]
          },
          "metadata": {
            "tags": []
          },
          "execution_count": 10
        }
      ]
    },
    {
      "cell_type": "markdown",
      "metadata": {
        "id": "pP8B7rhoFs6U",
        "colab_type": "text"
      },
      "source": [
        "Creating a length-10 integer array filled with zeros"
      ]
    },
    {
      "cell_type": "code",
      "metadata": {
        "id": "Me6gfeaqFyge",
        "colab_type": "code",
        "outputId": "8eb7afb8-6690-4c58-f51f-55863ccf831a",
        "colab": {
          "base_uri": "https://localhost:8080/",
          "height": 35
        }
      },
      "source": [
        "np.zeros(10,dtype=int)"
      ],
      "execution_count": 11,
      "outputs": [
        {
          "output_type": "execute_result",
          "data": {
            "text/plain": [
              "array([0, 0, 0, 0, 0, 0, 0, 0, 0, 0])"
            ]
          },
          "metadata": {
            "tags": []
          },
          "execution_count": 11
        }
      ]
    },
    {
      "cell_type": "markdown",
      "metadata": {
        "id": "d1O7orvWF47b",
        "colab_type": "text"
      },
      "source": [
        "Creating a 3x4 floating point array filled with 1's"
      ]
    },
    {
      "cell_type": "code",
      "metadata": {
        "id": "4UpxbbPIF3_2",
        "colab_type": "code",
        "outputId": "b25ec3a0-7cdf-4f6c-c299-4212f4a3710c",
        "colab": {
          "base_uri": "https://localhost:8080/",
          "height": 70
        }
      },
      "source": [
        "np.ones((3,4), dtype=float)"
      ],
      "execution_count": 12,
      "outputs": [
        {
          "output_type": "execute_result",
          "data": {
            "text/plain": [
              "array([[1., 1., 1., 1.],\n",
              "       [1., 1., 1., 1.],\n",
              "       [1., 1., 1., 1.]])"
            ]
          },
          "metadata": {
            "tags": []
          },
          "execution_count": 12
        }
      ]
    },
    {
      "cell_type": "markdown",
      "metadata": {
        "id": "ptg3K4GGGGbt",
        "colab_type": "text"
      },
      "source": [
        "Create a 3x4 array filled with 3.14"
      ]
    },
    {
      "cell_type": "code",
      "metadata": {
        "id": "eJQHpX9YGKxf",
        "colab_type": "code",
        "outputId": "d12070ec-1aa8-44da-a18c-599538344d5b",
        "colab": {
          "base_uri": "https://localhost:8080/",
          "height": 70
        }
      },
      "source": [
        "np.full((3,4),3.14)"
      ],
      "execution_count": 13,
      "outputs": [
        {
          "output_type": "execute_result",
          "data": {
            "text/plain": [
              "array([[3.14, 3.14, 3.14, 3.14],\n",
              "       [3.14, 3.14, 3.14, 3.14],\n",
              "       [3.14, 3.14, 3.14, 3.14]])"
            ]
          },
          "metadata": {
            "tags": []
          },
          "execution_count": 13
        }
      ]
    },
    {
      "cell_type": "markdown",
      "metadata": {
        "id": "nTni2JS1GYSs",
        "colab_type": "text"
      },
      "source": [
        "Creating an array filled with linear sequence starting at 0, ending at 20, stepping by 2\n",
        "\n",
        "syntax: **np.arange(start bit,last bit,step size)**"
      ]
    },
    {
      "cell_type": "code",
      "metadata": {
        "id": "-lHysOuaGhV1",
        "colab_type": "code",
        "outputId": "c44db397-0b93-4a57-a37d-e57e9466da47",
        "colab": {
          "base_uri": "https://localhost:8080/",
          "height": 35
        }
      },
      "source": [
        "np.arange(0,20,2)"
      ],
      "execution_count": 14,
      "outputs": [
        {
          "output_type": "execute_result",
          "data": {
            "text/plain": [
              "array([ 0,  2,  4,  6,  8, 10, 12, 14, 16, 18])"
            ]
          },
          "metadata": {
            "tags": []
          },
          "execution_count": 14
        }
      ]
    },
    {
      "cell_type": "markdown",
      "metadata": {
        "id": "Ekv1MuB2G_q5",
        "colab_type": "text"
      },
      "source": [
        "creating an array of five values evenly spaced between 0 to 1"
      ]
    },
    {
      "cell_type": "code",
      "metadata": {
        "id": "J09meQhDG2xR",
        "colab_type": "code",
        "outputId": "fbbbf687-7336-4b7f-f0ab-71456163a02a",
        "colab": {
          "base_uri": "https://localhost:8080/",
          "height": 35
        }
      },
      "source": [
        "np.linspace(0,1,5)"
      ],
      "execution_count": 15,
      "outputs": [
        {
          "output_type": "execute_result",
          "data": {
            "text/plain": [
              "array([0.  , 0.25, 0.5 , 0.75, 1.  ])"
            ]
          },
          "metadata": {
            "tags": []
          },
          "execution_count": 15
        }
      ]
    },
    {
      "cell_type": "markdown",
      "metadata": {
        "id": "shvdLg1tHFuW",
        "colab_type": "text"
      },
      "source": [
        "creating an 3x3 arrayof uniformly distributed random values between 0&1"
      ]
    },
    {
      "cell_type": "code",
      "metadata": {
        "id": "9waxktt6HPIT",
        "colab_type": "code",
        "outputId": "3d8f2b35-4193-48ab-d004-38d387d6d128",
        "colab": {
          "base_uri": "https://localhost:8080/",
          "height": 70
        }
      },
      "source": [
        "np.random.random((3,3))"
      ],
      "execution_count": 16,
      "outputs": [
        {
          "output_type": "execute_result",
          "data": {
            "text/plain": [
              "array([[0.69847566, 0.47119672, 0.34411925],\n",
              "       [0.10504705, 0.54087233, 0.55094563],\n",
              "       [0.7174562 , 0.29184153, 0.08254161]])"
            ]
          },
          "metadata": {
            "tags": []
          },
          "execution_count": 16
        }
      ]
    },
    {
      "cell_type": "markdown",
      "metadata": {
        "id": "idf0PjU2HV2w",
        "colab_type": "text"
      },
      "source": [
        "Creating a 3x3 array of random integers in the interval [0,10]"
      ]
    },
    {
      "cell_type": "code",
      "metadata": {
        "id": "-j4dgm6THdaZ",
        "colab_type": "code",
        "outputId": "9a3f9ef5-2c74-4c28-c5be-74f7493d1cf6",
        "colab": {
          "base_uri": "https://localhost:8080/",
          "height": 70
        }
      },
      "source": [
        "np.random.randint(0,10,(3,3))"
      ],
      "execution_count": 17,
      "outputs": [
        {
          "output_type": "execute_result",
          "data": {
            "text/plain": [
              "array([[8, 3, 3],\n",
              "       [8, 4, 8],\n",
              "       [5, 1, 6]])"
            ]
          },
          "metadata": {
            "tags": []
          },
          "execution_count": 17
        }
      ]
    },
    {
      "cell_type": "markdown",
      "metadata": {
        "id": "NwijZqDCHnhV",
        "colab_type": "text"
      },
      "source": [
        "Creating a 3x3 identity matrix"
      ]
    },
    {
      "cell_type": "code",
      "metadata": {
        "id": "qtcS_m8DHqza",
        "colab_type": "code",
        "outputId": "56c668e0-e2f0-402b-f8ad-15b98a7e79e4",
        "colab": {
          "base_uri": "https://localhost:8080/",
          "height": 70
        }
      },
      "source": [
        "np.eye(3)"
      ],
      "execution_count": 18,
      "outputs": [
        {
          "output_type": "execute_result",
          "data": {
            "text/plain": [
              "array([[1., 0., 0.],\n",
              "       [0., 1., 0.],\n",
              "       [0., 0., 1.]])"
            ]
          },
          "metadata": {
            "tags": []
          },
          "execution_count": 18
        }
      ]
    },
    {
      "cell_type": "markdown",
      "metadata": {
        "id": "xgQtBkOdH1YH",
        "colab_type": "text"
      },
      "source": [
        "create an un initialized array of 3 integers. the values will be whatever happens to already exist at that memory location\n"
      ]
    },
    {
      "cell_type": "code",
      "metadata": {
        "id": "ZmkzKHSuICHf",
        "colab_type": "code",
        "outputId": "6a2a7532-c05c-4286-9c14-60ce19e6a86e",
        "colab": {
          "base_uri": "https://localhost:8080/",
          "height": 35
        }
      },
      "source": [
        "np.empty(3)"
      ],
      "execution_count": 19,
      "outputs": [
        {
          "output_type": "execute_result",
          "data": {
            "text/plain": [
              "array([1., 1., 1.])"
            ]
          },
          "metadata": {
            "tags": []
          },
          "execution_count": 19
        }
      ]
    },
    {
      "cell_type": "markdown",
      "metadata": {
        "id": "AaorogRIINw7",
        "colab_type": "text"
      },
      "source": [
        "## Basics of Numpy arrays\n",
        "\n",
        "Categories of basic array manipulation are \n",
        "###1. Attributes of arrays \n",
        "   \n",
        "   Determining the size, shape, memory consumption and data types of arrays\n",
        "\n",
        "###2. Indexing of arrays\n",
        "\n",
        "   Getting and setting the value of individual array elements\n",
        "\n",
        "###3. Slicing of arrays\n",
        "\n",
        "   Getting and setting smaller sub arrays within a larger array\n",
        "\n",
        "###4. Joining and splitting of arrays\n",
        "\n",
        "   Combining multiple arrays into one, and splitting one array into many\n"
      ]
    },
    {
      "cell_type": "markdown",
      "metadata": {
        "id": "giwv3IcIJRhm",
        "colab_type": "text"
      },
      "source": [
        "### 1. NumPy Array Attributes"
      ]
    },
    {
      "cell_type": "code",
      "metadata": {
        "id": "uHnVH75_JWIs",
        "colab_type": "code",
        "colab": {}
      },
      "source": [
        "np.random.seed(0) #seed for reproducibility\n",
        "\n",
        "X1=np.random.randint(10,size=6) #1D array\n",
        "X2=np.random.randint(10,size=(3,4)) #2D array\n",
        "X3=np.random.randint(10,size=(3,4,5)) #3D array"
      ],
      "execution_count": 0,
      "outputs": []
    },
    {
      "cell_type": "markdown",
      "metadata": {
        "id": "kmhC8J2AJwLO",
        "colab_type": "text"
      },
      "source": [
        "Each array has attributes **ndim**(The number of dimensions), **shape**(Size of each dimension) **size**(total size of array), **itemsize**(list the size in bytes of each array element)"
      ]
    },
    {
      "cell_type": "code",
      "metadata": {
        "id": "mBFsbsvAKMuI",
        "colab_type": "code",
        "outputId": "77dbae02-b86c-40f7-bf34-0f4832b710c6",
        "colab": {
          "base_uri": "https://localhost:8080/",
          "height": 124
        }
      },
      "source": [
        "print(\"X3 ndim:\",X3.ndim)\n",
        "print(\"X3 shape:\",X3.shape)\n",
        "print(\"X3 size:\",X3.size)\n",
        "print(\"X3 dtype:\",X3.dtype)\n",
        "print(\"X3 itemsize:\",X3.itemsize,\"bytes\")\n",
        "print(\"nbytes:\",X3.nbytes,\"bytes\")"
      ],
      "execution_count": 21,
      "outputs": [
        {
          "output_type": "stream",
          "text": [
            "X3 ndim: 3\n",
            "X3 shape: (3, 4, 5)\n",
            "X3 size: 60\n",
            "X3 dtype: int64\n",
            "X3 itemsize: 8 bytes\n",
            "nbytes: 480 bytes\n"
          ],
          "name": "stdout"
        }
      ]
    },
    {
      "cell_type": "markdown",
      "metadata": {
        "id": "-ngurTFQz99A",
        "colab_type": "text"
      },
      "source": [
        "###2. Indexing of Arrays\n",
        "\n",
        "In a 1D array, we can access ith value(Counting from Zero) by specifying index in square brackets, just as with python lists\n"
      ]
    },
    {
      "cell_type": "code",
      "metadata": {
        "id": "WGuh37vU0dtM",
        "colab_type": "code",
        "colab": {
          "base_uri": "https://localhost:8080/",
          "height": 35
        },
        "outputId": "8ac77734-f357-471c-ab5c-cf9548f9de10"
      },
      "source": [
        "X1"
      ],
      "execution_count": 22,
      "outputs": [
        {
          "output_type": "execute_result",
          "data": {
            "text/plain": [
              "array([5, 0, 3, 3, 7, 9])"
            ]
          },
          "metadata": {
            "tags": []
          },
          "execution_count": 22
        }
      ]
    },
    {
      "cell_type": "code",
      "metadata": {
        "id": "Sod0WkJ-0gok",
        "colab_type": "code",
        "colab": {
          "base_uri": "https://localhost:8080/",
          "height": 35
        },
        "outputId": "0495164e-da3e-4ab9-f8b6-24a411544e80"
      },
      "source": [
        "X1[0]"
      ],
      "execution_count": 23,
      "outputs": [
        {
          "output_type": "execute_result",
          "data": {
            "text/plain": [
              "5"
            ]
          },
          "metadata": {
            "tags": []
          },
          "execution_count": 23
        }
      ]
    },
    {
      "cell_type": "code",
      "metadata": {
        "id": "r5bLeDSc0kNI",
        "colab_type": "code",
        "colab": {
          "base_uri": "https://localhost:8080/",
          "height": 35
        },
        "outputId": "d224c9c8-af4d-4b5a-902e-5194916ea014"
      },
      "source": [
        "X1[4]"
      ],
      "execution_count": 24,
      "outputs": [
        {
          "output_type": "execute_result",
          "data": {
            "text/plain": [
              "7"
            ]
          },
          "metadata": {
            "tags": []
          },
          "execution_count": 24
        }
      ]
    },
    {
      "cell_type": "markdown",
      "metadata": {
        "id": "C9YMkhmo0neQ",
        "colab_type": "text"
      },
      "source": [
        "To index from the end of the array, you can use negative indices"
      ]
    },
    {
      "cell_type": "code",
      "metadata": {
        "id": "YTHYIAh40uiY",
        "colab_type": "code",
        "colab": {
          "base_uri": "https://localhost:8080/",
          "height": 35
        },
        "outputId": "d89e8909-a866-4707-9a6a-e49f764074ce"
      },
      "source": [
        "X1[-1]"
      ],
      "execution_count": 25,
      "outputs": [
        {
          "output_type": "execute_result",
          "data": {
            "text/plain": [
              "9"
            ]
          },
          "metadata": {
            "tags": []
          },
          "execution_count": 25
        }
      ]
    },
    {
      "cell_type": "code",
      "metadata": {
        "id": "mIrh4vfP0ypF",
        "colab_type": "code",
        "colab": {
          "base_uri": "https://localhost:8080/",
          "height": 35
        },
        "outputId": "bf72cc4c-4073-4f41-a790-5c33d8f1c527"
      },
      "source": [
        "X1[-2]"
      ],
      "execution_count": 26,
      "outputs": [
        {
          "output_type": "execute_result",
          "data": {
            "text/plain": [
              "7"
            ]
          },
          "metadata": {
            "tags": []
          },
          "execution_count": 26
        }
      ]
    },
    {
      "cell_type": "markdown",
      "metadata": {
        "id": "gJJRuvYY028x",
        "colab_type": "text"
      },
      "source": [
        "For a multi dimensional array, you can access items using a Comma separated tuple of indices"
      ]
    },
    {
      "cell_type": "code",
      "metadata": {
        "id": "B7kPi9pH1Bh1",
        "colab_type": "code",
        "colab": {
          "base_uri": "https://localhost:8080/",
          "height": 70
        },
        "outputId": "74168339-c140-4400-d080-1385d9210a7f"
      },
      "source": [
        "X2"
      ],
      "execution_count": 27,
      "outputs": [
        {
          "output_type": "execute_result",
          "data": {
            "text/plain": [
              "array([[3, 5, 2, 4],\n",
              "       [7, 6, 8, 8],\n",
              "       [1, 6, 7, 7]])"
            ]
          },
          "metadata": {
            "tags": []
          },
          "execution_count": 27
        }
      ]
    },
    {
      "cell_type": "code",
      "metadata": {
        "id": "UMiCJaX31EdJ",
        "colab_type": "code",
        "colab": {
          "base_uri": "https://localhost:8080/",
          "height": 35
        },
        "outputId": "7bbf4944-ce84-4bdd-e1ba-c69effb2de11"
      },
      "source": [
        "X2[0,0]"
      ],
      "execution_count": 28,
      "outputs": [
        {
          "output_type": "execute_result",
          "data": {
            "text/plain": [
              "3"
            ]
          },
          "metadata": {
            "tags": []
          },
          "execution_count": 28
        }
      ]
    },
    {
      "cell_type": "code",
      "metadata": {
        "id": "uoDNqnj71Hpg",
        "colab_type": "code",
        "colab": {
          "base_uri": "https://localhost:8080/",
          "height": 35
        },
        "outputId": "f2fd23a1-6d19-4ab9-f52e-c6906b990a07"
      },
      "source": [
        "X2[2,-1]"
      ],
      "execution_count": 29,
      "outputs": [
        {
          "output_type": "execute_result",
          "data": {
            "text/plain": [
              "7"
            ]
          },
          "metadata": {
            "tags": []
          },
          "execution_count": 29
        }
      ]
    },
    {
      "cell_type": "markdown",
      "metadata": {
        "id": "2kfZBsV11O8c",
        "colab_type": "text"
      },
      "source": [
        "We can also modify values using any of the above index notation"
      ]
    },
    {
      "cell_type": "code",
      "metadata": {
        "id": "aJwkq7o-1WGN",
        "colab_type": "code",
        "colab": {
          "base_uri": "https://localhost:8080/",
          "height": 70
        },
        "outputId": "f17b2493-a52d-41c6-b358-b7943607f850"
      },
      "source": [
        "X2[0,0]=15\n",
        "X2"
      ],
      "execution_count": 30,
      "outputs": [
        {
          "output_type": "execute_result",
          "data": {
            "text/plain": [
              "array([[15,  5,  2,  4],\n",
              "       [ 7,  6,  8,  8],\n",
              "       [ 1,  6,  7,  7]])"
            ]
          },
          "metadata": {
            "tags": []
          },
          "execution_count": 30
        }
      ]
    },
    {
      "cell_type": "markdown",
      "metadata": {
        "id": "j_wlA3r_1kB_",
        "colab_type": "text"
      },
      "source": [
        "### 3. Array Slicing: Accessing Sub arrays\n",
        "\n",
        "The NumPy slicing syntax follows that of the standard python list; to access slice of an array X use this\n",
        "\n",
        "**X[start:stop:step]**\n",
        "\n",
        "if any of these are unspecified, the default to the values of start=0, stop=size of dimension, step=1\n",
        "\n",
        "let us access subarrays in 1D and in multiple dimensions\n",
        "\n",
        "#### One Dimensional Sub arrays"
      ]
    },
    {
      "cell_type": "code",
      "metadata": {
        "id": "quZVwytt3CRC",
        "colab_type": "code",
        "colab": {
          "base_uri": "https://localhost:8080/",
          "height": 35
        },
        "outputId": "e561fc5c-38d1-4f8a-e5b3-3ba0c9af6f40"
      },
      "source": [
        "X=np.arange(10)\n",
        "X"
      ],
      "execution_count": 32,
      "outputs": [
        {
          "output_type": "execute_result",
          "data": {
            "text/plain": [
              "array([0, 1, 2, 3, 4, 5, 6, 7, 8, 9])"
            ]
          },
          "metadata": {
            "tags": []
          },
          "execution_count": 32
        }
      ]
    },
    {
      "cell_type": "code",
      "metadata": {
        "id": "1P0g3Ms-3Jiw",
        "colab_type": "code",
        "colab": {
          "base_uri": "https://localhost:8080/",
          "height": 106
        },
        "outputId": "27c4e520-9434-4bee-850b-0c6a755f9301"
      },
      "source": [
        "print(X[:5]) #prints first five elements\n",
        "\n",
        "print(X[5:]) #elements after index 5\n",
        "\n",
        "print(X[4:7]) #middle subarray\n",
        "\n",
        "print(X[::3]) #every 3rd element\n",
        "\n",
        "print(X[1::2]) # every other element starting at index 1"
      ],
      "execution_count": 39,
      "outputs": [
        {
          "output_type": "stream",
          "text": [
            "[0 1 2 3 4]\n",
            "[5 6 7 8 9]\n",
            "[4 5 6]\n",
            "[0 3 6 9]\n",
            "[1 3 5 7 9]\n"
          ],
          "name": "stdout"
        }
      ]
    },
    {
      "cell_type": "markdown",
      "metadata": {
        "id": "9hrlffc14hhD",
        "colab_type": "text"
      },
      "source": [
        ""
      ]
    },
    {
      "cell_type": "markdown",
      "metadata": {
        "id": "McowWKim4hxS",
        "colab_type": "text"
      },
      "source": [
        "When **step value** is negative in this case, the defaults for start and stop are swapped. this becomes a convineant way to reverse an array"
      ]
    },
    {
      "cell_type": "code",
      "metadata": {
        "id": "lSLOWzmw4zi5",
        "colab_type": "code",
        "colab": {
          "base_uri": "https://localhost:8080/",
          "height": 52
        },
        "outputId": "8c3ef4eb-c539-4c31-8f00-9d1cf665f517"
      },
      "source": [
        "print(X[::-1]) #all elements, reversed\n",
        "\n",
        "print(X[5::-2]) #reversed every other from index 5"
      ],
      "execution_count": 40,
      "outputs": [
        {
          "output_type": "stream",
          "text": [
            "[9 8 7 6 5 4 3 2 1 0]\n",
            "[5 3 1]\n"
          ],
          "name": "stdout"
        }
      ]
    },
    {
      "cell_type": "markdown",
      "metadata": {
        "id": "Q9ko5TFd51Yb",
        "colab_type": "text"
      },
      "source": [
        "#### Multi Dimensional subarrays\n",
        "\n",
        "Multi dimensional slices works in the same way, with multiple slices separated by commas"
      ]
    },
    {
      "cell_type": "code",
      "metadata": {
        "id": "WBnm1VqM6DFj",
        "colab_type": "code",
        "colab": {
          "base_uri": "https://localhost:8080/",
          "height": 106
        },
        "outputId": "7edc3618-379c-4ea4-824a-6b823e386631"
      },
      "source": [
        "X2\n",
        "\n",
        "print(X2[:2,:3]) #two rows, three coloumns\n",
        "\n",
        "print(X2[:3,::2]) #all rows, every other coloumn\n",
        "\n"
      ],
      "execution_count": 41,
      "outputs": [
        {
          "output_type": "stream",
          "text": [
            "[[15  5  2]\n",
            " [ 7  6  8]]\n",
            "[[15  2]\n",
            " [ 7  8]\n",
            " [ 1  7]]\n"
          ],
          "name": "stdout"
        }
      ]
    },
    {
      "cell_type": "markdown",
      "metadata": {
        "id": "fOF5kj7p6abH",
        "colab_type": "text"
      },
      "source": [
        "Subarray dimensions can even be reversed toghether"
      ]
    },
    {
      "cell_type": "code",
      "metadata": {
        "id": "CrXdd4TP6j8e",
        "colab_type": "code",
        "colab": {
          "base_uri": "https://localhost:8080/",
          "height": 70
        },
        "outputId": "03fad082-ee97-44e9-ce4a-7fbe7820c6b9"
      },
      "source": [
        "X2[::-1,::-1]"
      ],
      "execution_count": 42,
      "outputs": [
        {
          "output_type": "execute_result",
          "data": {
            "text/plain": [
              "array([[ 7,  7,  6,  1],\n",
              "       [ 8,  8,  6,  7],\n",
              "       [ 4,  2,  5, 15]])"
            ]
          },
          "metadata": {
            "tags": []
          },
          "execution_count": 42
        }
      ]
    },
    {
      "cell_type": "markdown",
      "metadata": {
        "id": "-hmB4ETW6vRJ",
        "colab_type": "text"
      },
      "source": [
        "#### Acessing Rows and Coloumns\n",
        "\n",
        "One commonly needed routine is accessing single rows or coloumns of an array. you can do this by combining indexing and slicing, using an empty slice marked by single colon(:)"
      ]
    },
    {
      "cell_type": "code",
      "metadata": {
        "id": "bkuwND5W7Km3",
        "colab_type": "code",
        "colab": {
          "base_uri": "https://localhost:8080/",
          "height": 35
        },
        "outputId": "c778e85c-bac1-44b6-efb5-0289edb56f1f"
      },
      "source": [
        "print(X2[:,0]) # first coloumn of X2"
      ],
      "execution_count": 43,
      "outputs": [
        {
          "output_type": "stream",
          "text": [
            "[15  7  1]\n"
          ],
          "name": "stdout"
        }
      ]
    },
    {
      "cell_type": "code",
      "metadata": {
        "id": "w5I8YIzV7UAY",
        "colab_type": "code",
        "colab": {
          "base_uri": "https://localhost:8080/",
          "height": 35
        },
        "outputId": "1a5cf51a-06ea-4e86-be8c-795df609eb07"
      },
      "source": [
        "print(X2[0,:]) # first row of X2"
      ],
      "execution_count": 44,
      "outputs": [
        {
          "output_type": "stream",
          "text": [
            "[15  5  2  4]\n"
          ],
          "name": "stdout"
        }
      ]
    },
    {
      "cell_type": "markdown",
      "metadata": {
        "id": "R_cIWlc27gTO",
        "colab_type": "text"
      },
      "source": [
        "in case of row access, the empty slice can be omitted for more compact syntax"
      ]
    },
    {
      "cell_type": "code",
      "metadata": {
        "id": "i4-ugY_27bwl",
        "colab_type": "code",
        "colab": {
          "base_uri": "https://localhost:8080/",
          "height": 35
        },
        "outputId": "3444ade0-5ff0-4e4a-e8f8-18b362fb5bd1"
      },
      "source": [
        "print(X2[0]) #equivalent to X2[0,:]"
      ],
      "execution_count": 45,
      "outputs": [
        {
          "output_type": "stream",
          "text": [
            "[15  5  2  4]\n"
          ],
          "name": "stdout"
        }
      ]
    },
    {
      "cell_type": "markdown",
      "metadata": {
        "id": "L8_mlpEI7_vz",
        "colab_type": "text"
      },
      "source": [
        "#### Sub arrays as no-copy views"
      ]
    },
    {
      "cell_type": "code",
      "metadata": {
        "id": "FpMNTIb_8KTs",
        "colab_type": "code",
        "colab": {
          "base_uri": "https://localhost:8080/",
          "height": 70
        },
        "outputId": "8fe63fb0-5017-417a-9b2f-658b9f3379c4"
      },
      "source": [
        "print(X2)"
      ],
      "execution_count": 46,
      "outputs": [
        {
          "output_type": "stream",
          "text": [
            "[[15  5  2  4]\n",
            " [ 7  6  8  8]\n",
            " [ 1  6  7  7]]\n"
          ],
          "name": "stdout"
        }
      ]
    },
    {
      "cell_type": "markdown",
      "metadata": {
        "id": "XNjHA70B8OwL",
        "colab_type": "text"
      },
      "source": [
        "let us extract a 2x2 sub array from this"
      ]
    },
    {
      "cell_type": "code",
      "metadata": {
        "id": "iKhUACMM8UYy",
        "colab_type": "code",
        "colab": {
          "base_uri": "https://localhost:8080/",
          "height": 52
        },
        "outputId": "7a6bca81-4e7a-4048-ee9e-584c2d0ad1ef"
      },
      "source": [
        "X2_sub=X2[:2,:2]\n",
        "print(X2_sub)"
      ],
      "execution_count": 47,
      "outputs": [
        {
          "output_type": "stream",
          "text": [
            "[[15  5]\n",
            " [ 7  6]]\n"
          ],
          "name": "stdout"
        }
      ]
    },
    {
      "cell_type": "markdown",
      "metadata": {
        "id": "vO9rR45c8deL",
        "colab_type": "text"
      },
      "source": [
        "Now if we modify this sub array, we will see that original array is changed! observe"
      ]
    },
    {
      "cell_type": "code",
      "metadata": {
        "id": "WU-61aEs8oly",
        "colab_type": "code",
        "colab": {
          "base_uri": "https://localhost:8080/",
          "height": 52
        },
        "outputId": "b7c838f0-f96d-40e3-9a79-fdabfb529c9a"
      },
      "source": [
        "X2_sub[0,0]=99\n",
        "print(X2_sub)"
      ],
      "execution_count": 48,
      "outputs": [
        {
          "output_type": "stream",
          "text": [
            "[[99  5]\n",
            " [ 7  6]]\n"
          ],
          "name": "stdout"
        }
      ]
    },
    {
      "cell_type": "code",
      "metadata": {
        "id": "MrdwXnjS8vKP",
        "colab_type": "code",
        "colab": {
          "base_uri": "https://localhost:8080/",
          "height": 70
        },
        "outputId": "25314463-a12a-49e9-f89e-6dffcd55c6df"
      },
      "source": [
        "print([X2])"
      ],
      "execution_count": 49,
      "outputs": [
        {
          "output_type": "stream",
          "text": [
            "[array([[99,  5,  2,  4],\n",
            "       [ 7,  6,  8,  8],\n",
            "       [ 1,  6,  7,  7]])]\n"
          ],
          "name": "stdout"
        }
      ]
    },
    {
      "cell_type": "markdown",
      "metadata": {
        "id": "y_Vauzle8zIA",
        "colab_type": "text"
      },
      "source": [
        "####creating copy of arrays"
      ]
    },
    {
      "cell_type": "code",
      "metadata": {
        "id": "tx8jmrvi82_E",
        "colab_type": "code",
        "colab": {
          "base_uri": "https://localhost:8080/",
          "height": 52
        },
        "outputId": "1da38be7-32d9-42e9-8d6a-f7c9a21fe72e"
      },
      "source": [
        "X2_sub_copy=X2[:2,:2].copy()\n",
        "print(X2_sub_copy)"
      ],
      "execution_count": 50,
      "outputs": [
        {
          "output_type": "stream",
          "text": [
            "[[99  5]\n",
            " [ 7  6]]\n"
          ],
          "name": "stdout"
        }
      ]
    },
    {
      "cell_type": "markdown",
      "metadata": {
        "id": "7PFCQqKa9BOx",
        "colab_type": "text"
      },
      "source": [
        "if we now modify this sub array, the original array is not touched"
      ]
    },
    {
      "cell_type": "code",
      "metadata": {
        "id": "-5uVjYAo9Ilw",
        "colab_type": "code",
        "colab": {
          "base_uri": "https://localhost:8080/",
          "height": 52
        },
        "outputId": "826f483f-1f1c-4d43-c769-d1e540b10453"
      },
      "source": [
        "X2_sub_copy[0,0]=42\n",
        "print(X2_sub_copy)"
      ],
      "execution_count": 51,
      "outputs": [
        {
          "output_type": "stream",
          "text": [
            "[[42  5]\n",
            " [ 7  6]]\n"
          ],
          "name": "stdout"
        }
      ]
    },
    {
      "cell_type": "code",
      "metadata": {
        "id": "X8fyGew_9Y50",
        "colab_type": "code",
        "colab": {
          "base_uri": "https://localhost:8080/",
          "height": 70
        },
        "outputId": "68d07625-3fec-4cdc-8d4b-2c8de87f918a"
      },
      "source": [
        "print(X2)"
      ],
      "execution_count": 52,
      "outputs": [
        {
          "output_type": "stream",
          "text": [
            "[[99  5  2  4]\n",
            " [ 7  6  8  8]\n",
            " [ 1  6  7  7]]\n"
          ],
          "name": "stdout"
        }
      ]
    },
    {
      "cell_type": "markdown",
      "metadata": {
        "id": "A6B18vbeCqt2",
        "colab_type": "text"
      },
      "source": [
        "####Reshaping of arrays\n",
        "\n",
        "for example, if we want to put the numbers 1 through 9 in a 3x3 grid, you can do the following"
      ]
    },
    {
      "cell_type": "code",
      "metadata": {
        "id": "-c7If7kyDp4D",
        "colab_type": "code",
        "colab": {
          "base_uri": "https://localhost:8080/",
          "height": 70
        },
        "outputId": "7aef5842-5cbd-4f8c-e9f8-4ef17472e8e3"
      },
      "source": [
        "grid=np.arange(1,10).reshape((3,3))\n",
        "print(grid)"
      ],
      "execution_count": 53,
      "outputs": [
        {
          "output_type": "stream",
          "text": [
            "[[1 2 3]\n",
            " [4 5 6]\n",
            " [7 8 9]]\n"
          ],
          "name": "stdout"
        }
      ]
    },
    {
      "cell_type": "code",
      "metadata": {
        "id": "A5bPQdNGFANu",
        "colab_type": "code",
        "colab": {
          "base_uri": "https://localhost:8080/",
          "height": 35
        },
        "outputId": "421fddc6-dd0e-48cd-a625-e59cb727e29d"
      },
      "source": [
        "x=np.array([1,3,3])\n",
        "\n",
        "#row vector via reshape\n",
        "x.reshape((1,3))"
      ],
      "execution_count": 54,
      "outputs": [
        {
          "output_type": "execute_result",
          "data": {
            "text/plain": [
              "array([[1, 3, 3]])"
            ]
          },
          "metadata": {
            "tags": []
          },
          "execution_count": 54
        }
      ]
    },
    {
      "cell_type": "code",
      "metadata": {
        "id": "cpY07HKoFQ5I",
        "colab_type": "code",
        "colab": {
          "base_uri": "https://localhost:8080/",
          "height": 35
        },
        "outputId": "f3bb88e8-3666-4731-b43a-186ece741aae"
      },
      "source": [
        "#row vector via newaxis\n",
        "x[np.newaxis,:]"
      ],
      "execution_count": 55,
      "outputs": [
        {
          "output_type": "execute_result",
          "data": {
            "text/plain": [
              "array([[1, 3, 3]])"
            ]
          },
          "metadata": {
            "tags": []
          },
          "execution_count": 55
        }
      ]
    },
    {
      "cell_type": "code",
      "metadata": {
        "id": "n1nkjfryFbmc",
        "colab_type": "code",
        "colab": {
          "base_uri": "https://localhost:8080/",
          "height": 70
        },
        "outputId": "ad491181-ccd3-4a34-8450-bd4855bf06d1"
      },
      "source": [
        "#column vector via reshape\n",
        "x.reshape((3,1))"
      ],
      "execution_count": 56,
      "outputs": [
        {
          "output_type": "execute_result",
          "data": {
            "text/plain": [
              "array([[1],\n",
              "       [3],\n",
              "       [3]])"
            ]
          },
          "metadata": {
            "tags": []
          },
          "execution_count": 56
        }
      ]
    },
    {
      "cell_type": "code",
      "metadata": {
        "id": "8wd8XpflFlKX",
        "colab_type": "code",
        "colab": {
          "base_uri": "https://localhost:8080/",
          "height": 70
        },
        "outputId": "40e1cbb5-470e-4793-aaa7-1b3c0d878c6a"
      },
      "source": [
        "#column vector via newaxis\n",
        "x[:,np.newaxis]"
      ],
      "execution_count": 57,
      "outputs": [
        {
          "output_type": "execute_result",
          "data": {
            "text/plain": [
              "array([[1],\n",
              "       [3],\n",
              "       [3]])"
            ]
          },
          "metadata": {
            "tags": []
          },
          "execution_count": 57
        }
      ]
    },
    {
      "cell_type": "markdown",
      "metadata": {
        "id": "Ax4FBM75F1Wz",
        "colab_type": "text"
      },
      "source": [
        "###4. Array Concatenation and Splitting\n",
        "\n",
        "you might have noticed that above code worked on single arrays. it is also possible to combine multiple arrays into one, and to conversly split a single array into multiple arrays\n",
        "\n",
        "#### Concatenation of Arrays\n",
        "Concatenation, or joining of two arrays in NumPy, is primarily accomplished using the routines **np.concatenate**, **np.vstack** and **np.hstack**, **np.concatenate** takes a tuple or list of arrays as its first argument "
      ]
    },
    {
      "cell_type": "code",
      "metadata": {
        "id": "TcAcmP-UHm4N",
        "colab_type": "code",
        "colab": {
          "base_uri": "https://localhost:8080/",
          "height": 35
        },
        "outputId": "2b74bde3-6904-41ea-c458-f0a69c3d9df4"
      },
      "source": [
        "x=np.array([1,3,4])\n",
        "y=np.array([3,2,1])\n",
        "np.concatenate([x,y])"
      ],
      "execution_count": 58,
      "outputs": [
        {
          "output_type": "execute_result",
          "data": {
            "text/plain": [
              "array([1, 3, 4, 3, 2, 1])"
            ]
          },
          "metadata": {
            "tags": []
          },
          "execution_count": 58
        }
      ]
    },
    {
      "cell_type": "markdown",
      "metadata": {
        "id": "izZ-8rOGHyv8",
        "colab_type": "text"
      },
      "source": [
        "we can concatenate more than two arrays at once\n"
      ]
    },
    {
      "cell_type": "code",
      "metadata": {
        "id": "p9doBTMfH4jY",
        "colab_type": "code",
        "colab": {
          "base_uri": "https://localhost:8080/",
          "height": 35
        },
        "outputId": "59900c99-c94b-45d8-cac0-f7d3b9a67fd2"
      },
      "source": [
        "z=[99,99,99]\n",
        "\n",
        "print(np.concatenate([x,y,z]))"
      ],
      "execution_count": 59,
      "outputs": [
        {
          "output_type": "stream",
          "text": [
            "[ 1  3  4  3  2  1 99 99 99]\n"
          ],
          "name": "stdout"
        }
      ]
    },
    {
      "cell_type": "markdown",
      "metadata": {
        "id": "uhWYz9DCIB9q",
        "colab_type": "text"
      },
      "source": [
        "it can also be used for 2D arrays"
      ]
    },
    {
      "cell_type": "code",
      "metadata": {
        "id": "y29mgyTuIFf3",
        "colab_type": "code",
        "colab": {}
      },
      "source": [
        "grid=np.array([[1,2,3],[4,5,6]])"
      ],
      "execution_count": 0,
      "outputs": []
    },
    {
      "cell_type": "code",
      "metadata": {
        "id": "btv5BdncIU4u",
        "colab_type": "code",
        "colab": {
          "base_uri": "https://localhost:8080/",
          "height": 88
        },
        "outputId": "63eed944-3789-42fb-ba18-3a06d8c4b772"
      },
      "source": [
        "#concatenate along the first axis\n",
        "np.concatenate([grid,grid])"
      ],
      "execution_count": 62,
      "outputs": [
        {
          "output_type": "execute_result",
          "data": {
            "text/plain": [
              "array([[1, 2, 3],\n",
              "       [4, 5, 6],\n",
              "       [1, 2, 3],\n",
              "       [4, 5, 6]])"
            ]
          },
          "metadata": {
            "tags": []
          },
          "execution_count": 62
        }
      ]
    },
    {
      "cell_type": "code",
      "metadata": {
        "id": "B73mer2OIgMS",
        "colab_type": "code",
        "colab": {
          "base_uri": "https://localhost:8080/",
          "height": 52
        },
        "outputId": "57bc92cb-e1d5-42c5-f2ca-a663796264c2"
      },
      "source": [
        "#Concatenate along the second axis (zero-indexed)\n",
        "\n",
        "np.concatenate([grid,grid],axis=1)"
      ],
      "execution_count": 63,
      "outputs": [
        {
          "output_type": "execute_result",
          "data": {
            "text/plain": [
              "array([[1, 2, 3, 1, 2, 3],\n",
              "       [4, 5, 6, 4, 5, 6]])"
            ]
          },
          "metadata": {
            "tags": []
          },
          "execution_count": 63
        }
      ]
    },
    {
      "cell_type": "markdown",
      "metadata": {
        "id": "f-eTgXWtIztU",
        "colab_type": "text"
      },
      "source": [
        "**np.vstack**: Vertical stack\n",
        "\n",
        "**np.hstack**: Horizontal srack"
      ]
    },
    {
      "cell_type": "code",
      "metadata": {
        "id": "F8PJSKCFJBfV",
        "colab_type": "code",
        "colab": {
          "base_uri": "https://localhost:8080/",
          "height": 70
        },
        "outputId": "f940f192-d634-4f92-867a-d8a21c38184a"
      },
      "source": [
        "x=np.array([1,2,3])\n",
        "\n",
        "grid=np.array([[9,8,5],[4,5,6]])\n",
        "\n",
        "#vertically stack the arrays\n",
        "np.vstack([x,grid])"
      ],
      "execution_count": 64,
      "outputs": [
        {
          "output_type": "execute_result",
          "data": {
            "text/plain": [
              "array([[1, 2, 3],\n",
              "       [9, 8, 5],\n",
              "       [4, 5, 6]])"
            ]
          },
          "metadata": {
            "tags": []
          },
          "execution_count": 64
        }
      ]
    },
    {
      "cell_type": "code",
      "metadata": {
        "id": "_xnRaPYEJUDa",
        "colab_type": "code",
        "colab": {
          "base_uri": "https://localhost:8080/",
          "height": 52
        },
        "outputId": "012c7203-271a-4119-c402-a74a477bd695"
      },
      "source": [
        "#horizontally stack the arrays\n",
        "\n",
        "y=np.array([[99],[99]])\n",
        "\n",
        "np.hstack([grid,y])"
      ],
      "execution_count": 65,
      "outputs": [
        {
          "output_type": "execute_result",
          "data": {
            "text/plain": [
              "array([[ 9,  8,  5, 99],\n",
              "       [ 4,  5,  6, 99]])"
            ]
          },
          "metadata": {
            "tags": []
          },
          "execution_count": 65
        }
      ]
    },
    {
      "cell_type": "markdown",
      "metadata": {
        "id": "5D3HiuMGJxE1",
        "colab_type": "text"
      },
      "source": [
        "#### Splitting of arrays\n",
        "\n",
        "antonym of concatenation is splitting, which is implemented by functions **np.split**, **np.hsplit** and **np.vsplit**"
      ]
    },
    {
      "cell_type": "code",
      "metadata": {
        "id": "TRp_7klBKMek",
        "colab_type": "code",
        "colab": {
          "base_uri": "https://localhost:8080/",
          "height": 35
        },
        "outputId": "f720d6f9-97a7-4924-fc3f-a15e1d0f9f41"
      },
      "source": [
        "x=[1,2,3,56,67,78,99,4,5,6]\n",
        "x1,x2,x3=np.split(x,[3,6])\n",
        "print(x1,x2,x3)"
      ],
      "execution_count": 68,
      "outputs": [
        {
          "output_type": "stream",
          "text": [
            "[1 2 3] [56 67 78] [99  4  5  6]\n"
          ],
          "name": "stdout"
        }
      ]
    },
    {
      "cell_type": "code",
      "metadata": {
        "id": "gKX7RaZFLbWb",
        "colab_type": "code",
        "colab": {
          "base_uri": "https://localhost:8080/",
          "height": 88
        },
        "outputId": "6a3ae414-043f-4213-99f3-41be2714cc51"
      },
      "source": [
        "grid=np.arange(16).reshape((4,4))\n",
        "grid"
      ],
      "execution_count": 70,
      "outputs": [
        {
          "output_type": "execute_result",
          "data": {
            "text/plain": [
              "array([[ 0,  1,  2,  3],\n",
              "       [ 4,  5,  6,  7],\n",
              "       [ 8,  9, 10, 11],\n",
              "       [12, 13, 14, 15]])"
            ]
          },
          "metadata": {
            "tags": []
          },
          "execution_count": 70
        }
      ]
    },
    {
      "cell_type": "code",
      "metadata": {
        "id": "XzFVw6ieLkjX",
        "colab_type": "code",
        "colab": {
          "base_uri": "https://localhost:8080/",
          "height": 88
        },
        "outputId": "b1d90ced-727b-4eaf-9517-bc132ed2a419"
      },
      "source": [
        "upper,lower=np.vsplit(grid,[2])\n",
        "\n",
        "print(upper)\n",
        "print(lower)"
      ],
      "execution_count": 71,
      "outputs": [
        {
          "output_type": "stream",
          "text": [
            "[[0 1 2 3]\n",
            " [4 5 6 7]]\n",
            "[[ 8  9 10 11]\n",
            " [12 13 14 15]]\n"
          ],
          "name": "stdout"
        }
      ]
    },
    {
      "cell_type": "code",
      "metadata": {
        "id": "da0KKjH7LucZ",
        "colab_type": "code",
        "colab": {
          "base_uri": "https://localhost:8080/",
          "height": 159
        },
        "outputId": "6b61cbea-904a-4e1f-cce0-08bc3801cc73"
      },
      "source": [
        "left,right=np.hsplit(grid,[2])\n",
        "print(left)\n",
        "print(right)"
      ],
      "execution_count": 72,
      "outputs": [
        {
          "output_type": "stream",
          "text": [
            "[[ 0  1]\n",
            " [ 4  5]\n",
            " [ 8  9]\n",
            " [12 13]]\n",
            "[[ 2  3]\n",
            " [ 6  7]\n",
            " [10 11]\n",
            " [14 15]]\n"
          ],
          "name": "stdout"
        }
      ]
    }
  ]
}