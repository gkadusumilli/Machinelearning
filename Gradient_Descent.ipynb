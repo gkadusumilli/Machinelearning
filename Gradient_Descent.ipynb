{
  "nbformat": 4,
  "nbformat_minor": 0,
  "metadata": {
    "colab": {
      "name": "Gradient_Descent.ipynb",
      "provenance": [],
      "include_colab_link": true
    },
    "kernelspec": {
      "name": "python3",
      "display_name": "Python 3"
    }
  },
  "cells": [
    {
      "cell_type": "markdown",
      "metadata": {
        "id": "view-in-github",
        "colab_type": "text"
      },
      "source": [
        "<a href=\"https://colab.research.google.com/github/gkadusumilli/Machinelearning/blob/master/Gradient_Descent.ipynb\" target=\"_parent\"><img src=\"https://colab.research.google.com/assets/colab-badge.svg\" alt=\"Open In Colab\"/></a>"
      ]
    },
    {
      "cell_type": "markdown",
      "metadata": {
        "id": "K4oRzi_yImcV",
        "colab_type": "text"
      },
      "source": [
        "##Gradient Descent\n",
        "\n",
        "Gradient Descent is an optimization algorithm that helps machine learning models converge at a minimum value through repeated steps. Essentially, gradient descent is used to minimize a function by finding that gives the lowest output of that function.\n",
        "\n",
        "\n",
        "###Steps for Gradient Descent ALgorithm\n",
        "\n",
        "1. Obtain a function to minimize F(X)\n",
        "\n",
        "2. Initialize a value x from which to start the descent or optimization from\n",
        "\n",
        "3. Specify a learning rate that will determine how much of a step to descend by or how quickly you converge to the minimum value\n",
        "\n",
        "4. Obtain the derivative of that value x (the descent)\n",
        "\n",
        "5. Proceed to descend by the derivative of the value multiplied by the learning rate\n",
        "\n",
        "6. Update the value of x with the new value descended to\n",
        "\n",
        "7. Check your stop condition to see whether to stop\n",
        "\n",
        "8. If condition satisfied,stop. if not, proceed to sep 4 with the new x value and keep repeating algorithm."
      ]
    },
    {
      "cell_type": "markdown",
      "metadata": {
        "id": "YhLb_JPnKSAI",
        "colab_type": "text"
      },
      "source": [
        "##Implementing Gradient Descent in Python\n",
        "\n",
        "we will implement a simple representation of gradient descent using python. we will create an arbitrary loss function and attempt to find a local minimum value for that function.\n",
        "\n",
        "Our function will be this\n",
        "###f(x)=(x**3)-(3*(x**2))+7\n",
        "\n",
        "we will first visualize this function with a set of values ranging from -1 and 3 (arbitrarily chosen to ensure steep curve)"
      ]
    },
    {
      "cell_type": "code",
      "metadata": {
        "id": "uv9pnUpgIc7z",
        "colab_type": "code",
        "outputId": "cf897a25-b9ec-45e6-85e4-6465636c29b4",
        "colab": {
          "base_uri": "https://localhost:8080/",
          "height": 265
        }
      },
      "source": [
        "import numpy as np\n",
        "import matplotlib.pyplot as plt\n",
        "%matplotlib inline\n",
        "\n",
        "\n",
        "#Creating the function and plotting it\n",
        "\n",
        "function=lambda x: (x**3)-(3*(x**2))+7\n",
        "\n",
        "#get 1000 evenly spaced numbers between -1 and 3 (arbitrarily chosen to ensure steep curve)\n",
        "\n",
        "x=np.linspace(-1,3,500)\n",
        "\n",
        "#plot the curve\n",
        "\n",
        "plt.plot(x,function(x))\n",
        "plt.show()"
      ],
      "execution_count": 0,
      "outputs": [
        {
          "output_type": "display_data",
          "data": {
            "image/png": "[encoded data removed]",
            "text/plain": [
              "<Figure size 432x288 with 1 Axes>"
            ]
          },
          "metadata": {
            "tags": []
          }
        }
      ]
    },
    {
      "cell_type": "markdown",
      "metadata": {
        "id": "3evrcWOqMGwA",
        "colab_type": "text"
      },
      "source": [
        "We will then proceed to make two functions for the gradient descent implementation:\n",
        "\n",
        "*   The first is a **Derivative function**: This function takes in a value of x and returns its derivative based on the initial function we specified.\n",
        "\n"
      ]
    },
    {
      "cell_type": "code",
      "metadata": {
        "id": "w2mejlqvMiTQ",
        "colab_type": "code",
        "colab": {}
      },
      "source": [
        "def deriv(x):\n",
        "  '''\n",
        "  x- a numerical value of x\n",
        "  x_deriv- a numerical value of the derivative of x\n",
        "  '''\n",
        "  x_deriv=3*(x**2)-(6*(x))\n",
        "  return x_deriv"
      ],
      "execution_count": 0,
      "outputs": []
    },
    {
      "cell_type": "markdown",
      "metadata": {
        "id": "gbr18Cu1NAHF",
        "colab_type": "text"
      },
      "source": [
        "\n",
        "*   The second is a **Step function**: this is the function where the actual gradient descent takes place. This function takes in an initial or previous value for x, updates is based on steps taken via the learning rate and outputs the most minimum value of x that reaches stop condition. For our stop condition, we are going to use a precision stop.this means that when the absolute difference between our old and updated x is greater than a value, the algorithm should stop.the function will also print out the minimum value of x as well as the number of steps or descent it took to reach that value.\n",
        "\n",
        "This function is shown below:\n",
        "\n",
        "\n"
      ]
    },
    {
      "cell_type": "code",
      "metadata": {
        "id": "VI9trznwOz5w",
        "colab_type": "code",
        "colab": {}
      },
      "source": [
        "def step(x_new, x_prev, precision, l_r):\n",
        "  '''\n",
        "  x_new-a starting value of x that will get updated based on the learning rate\n",
        "  x_prev-the previous value of x that is getting updated to the new one\n",
        "  precision-a precision that determines the stop of the stepwise descent\n",
        "  l_r-the learning rate(size of each descent step)\n",
        "\n",
        "  Output:\n",
        "  1. prints out the latest new value of x which equates to the minimum we are looking for\n",
        "  2. prints out the number of x values which equates to the number of gradient descent steps\n",
        "  3. plots a first graph of the function with the gradient descent path\n",
        "  4. plots a second graph of the function with a zoomed in gradient descent path in the important area\n",
        "  '''\n",
        "\n",
        "  #create empty lists where the updated values of x and y will be appended during each iteration\n",
        "\n",
        "  x_list,y_list=[x_new],[function(x_new)]\n",
        "\n",
        "  #keep looking untill your desired precision\n",
        "  while abs(x_new - x_prev)>precision:\n",
        "    #change the value of x\n",
        "    x_prev=x_new\n",
        "\n",
        "    #get the derivative of the old value of x\n",
        "    d_x= -deriv(x_prev)\n",
        "\n",
        "    #get your new value to x by adding the previous, the multiplication of the derivative and the learning rate\n",
        "    x_new=x_prev+(l_r*d_x)\n",
        "\n",
        "    #append the new value of x to a list of all x-s for later visualization of path\n",
        "    x_list.append(x_new)\n",
        "\n",
        "    #append the new value of y to a list of all y-s for later visualization of path\n",
        "    y_list.append(function(x_new))\n",
        "  print(\"Local minimum occurs at: \"+str(x_new))\n",
        "  print(\"Number of steps:\"+str(len(x_list)))\n",
        "\n",
        "  plt.subplot(1,2,2)\n",
        "  plt.scatter(x_list,y_list,c=\"g\")\n",
        "  plt.plot(x,function(x),c=\"r\")\n",
        "  plt.title(\"Gradient Descent\")\n",
        "  plt.show()\n",
        "\n",
        "\n",
        "  plt.subplot(1,2,1)\n",
        "  plt.scatter(x_list,y_list,c=\"g\")\n",
        "  plt.plot(x_list,y_list,c=\"g\")\n",
        "  plt.plot(x,function(x),c=\"r\")\n",
        "  plt.xlim([1.0,2.1])\n",
        "  plt.title(\"Zoomed in gradient descent to key area\")\n",
        "  plt.show()"
      ],
      "execution_count": 0,
      "outputs": []
    },
    {
      "cell_type": "markdown",
      "metadata": {
        "id": "fMn2apZdU3yo",
        "colab_type": "text"
      },
      "source": [
        "Next,we proceed to plot the gradient descent path as shown below:"
      ]
    },
    {
      "cell_type": "code",
      "metadata": {
        "id": "L5nfdb3bU-X9",
        "colab_type": "code",
        "outputId": "2ec239f1-0491-4e59-971e-1a2d4643d539",
        "colab": {
          "base_uri": "https://localhost:8080/",
          "height": 581
        }
      },
      "source": [
        "#implement gradient descent (all the arguments are arbitrarlily chosen)\n",
        "\n",
        "step(0.5,0,0.001,0.05)"
      ],
      "execution_count": 0,
      "outputs": [
        {
          "output_type": "stream",
          "text": [
            "Local minimum occurs at: 1.9980265135950486\n",
            "Number of steps:25\n"
          ],
          "name": "stdout"
        },
        {
          "output_type": "display_data",
          "data": {
            "image/png": "[encoded data removed]",
            "text/plain": [
              "<Figure size 432x288 with 1 Axes>"
            ]
          },
          "metadata": {
            "tags": []
          }
        },
        {
          "output_type": "display_data",
          "data": {
            "image/png": "[encoded data removed]",
            "text/plain": [
              "<Figure size 432x288 with 1 Axes>"
            ]
          },
          "metadata": {
            "tags": []
          }
        }
      ]
    },
    {
      "cell_type": "markdown",
      "metadata": {
        "id": "-BzH-utjU3qE",
        "colab_type": "text"
      },
      "source": [
        ""
      ]
    }
  ]
}