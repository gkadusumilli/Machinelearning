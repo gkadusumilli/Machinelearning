{
  "nbformat": 4,
  "nbformat_minor": 0,
  "metadata": {
    "colab": {
      "name": "Weather Data Classification using Decision Trees.ipynb",
      "provenance": [],
      "include_colab_link": true
    },
    "kernelspec": {
      "name": "python3",
      "display_name": "Python 3"
    }
  },
  "cells": [
    {
      "cell_type": "markdown",
      "metadata": {
        "id": "view-in-github",
        "colab_type": "text"
      },
      "source": [
        "<a href=\"https://colab.research.google.com/github/gkadusumilli/Machinelearning/blob/master/Weather_Data_Classification_using_Decision_Trees.ipynb\" target=\"_parent\"><img src=\"https://colab.research.google.com/assets/colab-badge.svg\" alt=\"Open In Colab\"/></a>"
      ]
    },
    {
      "cell_type": "markdown",
      "metadata": {
        "id": "_IJsw-1KPCqh",
        "colab_type": "text"
      },
      "source": [
        "#Weather Data Classification using Decision Trees\n",
        "\n",
        "-Gopalakrishna Adusumilli, gk1291@outlook.com\n",
        "\n",
        "### Clasification of weather Data using scikit-learn\n",
        "\n",
        "\n",
        "In this Notebook we will use scikit-learn to perform a decision tree based classification of weather data\n",
        "\n",
        "Importing the necessary libraries"
      ]
    },
    {
      "cell_type": "code",
      "metadata": {
        "id": "0Rk1WvdxPwib",
        "colab_type": "code",
        "colab": {}
      },
      "source": [
        "import pandas as pd\n",
        "from sklearn.metrics import accuracy_score\n",
        "from sklearn.model_selection import train_test_split\n",
        "from sklearn.tree import DecisionTreeClassifier"
      ],
      "execution_count": 0,
      "outputs": []
    },
    {
      "cell_type": "markdown",
      "metadata": {
        "id": "k5F22OrDQNjF",
        "colab_type": "text"
      },
      "source": [
        "Creating a Pandas DataFrame from a CSV file"
      ]
    },
    {
      "cell_type": "code",
      "metadata": {
        "id": "y_jnWSeIRgzn",
        "colab_type": "code",
        "cellView": "form",
        "colab": {}
      },
      "source": [
        "#@title Load Data\n",
        "\n",
        "from google.colab import files\n",
        "uploaded=files.upload()"
      ],
      "execution_count": 0,
      "outputs": []
    },
    {
      "cell_type": "code",
      "metadata": {
        "id": "6f2Gx05-O8Ak",
        "colab_type": "code",
        "colab": {},
        "cellView": "both"
      },
      "source": [
        "#@title Dataset\n",
        "data=pd.read_csv('daily_weather (1).csv')"
      ],
      "execution_count": 0,
      "outputs": []
    },
    {
      "cell_type": "markdown",
      "metadata": {
        "id": "d8vXRFBJSufG",
        "colab_type": "text"
      },
      "source": [
        "Daily Weather Data Description\n",
        "\n",
        "the file daily_weather.csv is a comma separated file that contains weather data. this data comes from a weather station located in karnataka.\n",
        "\n",
        "The weather station is equipped with sensors that capture weather-related measurements such as **air temperatur**e, **air pressure**, **relative humidity**"
      ]
    },
    {
      "cell_type": "code",
      "metadata": {
        "id": "_0mxjjz5S2BF",
        "colab_type": "code",
        "outputId": "ecf8a556-6efd-4aca-d4c8-f2f88d900f46",
        "colab": {
          "base_uri": "https://localhost:8080/",
          "height": 106
        }
      },
      "source": [
        "data.columns"
      ],
      "execution_count": 0,
      "outputs": [
        {
          "output_type": "execute_result",
          "data": {
            "text/plain": [
              "Index(['air_pressure_9am', 'air_temp_9am', 'avg_wind_direction_9am',\n",
              "       'avg_wind_speed_9am', 'max_wind_direction_9am', 'max_wind_speed_9am',\n",
              "       'rain_accumulation_9am', 'rain_duration_9am', 'relative_humidity_9am',\n",
              "       'relative_humidity_3pm'],\n",
              "      dtype='object')"
            ]
          },
          "metadata": {
            "tags": []
          },
          "execution_count": 45
        }
      ]
    },
    {
      "cell_type": "markdown",
      "metadata": {
        "id": "Oh1AIX5jpJdQ",
        "colab_type": "text"
      },
      "source": [
        "Each row in daily_weather.csv captures weather data for a separate day.\n",
        "\n",
        "Sensor measurements from the weather station were captured at one-minute intervals. These measurements were then processed to generate value to describe daily weather \n",
        "\n",
        "Since this dataset was created to classify low_humidity days vs non low humidity days (i.e, days with normal or high humidity), the variables included are weather measurements in the morning, with one meaurement, namely relative humidity, in the afternoon.\n",
        "\n",
        "**The idea is to use the morning weather vakues to predict whether the day will be low-humidity or not based on the afternoon measurement of relative humidity**"
      ]
    },
    {
      "cell_type": "code",
      "metadata": {
        "id": "yC7Ob7v0qxVU",
        "colab_type": "code",
        "colab": {}
      },
      "source": [
        "data"
      ],
      "execution_count": 0,
      "outputs": []
    },
    {
      "cell_type": "code",
      "metadata": {
        "id": "K1F8w0NYq0Xm",
        "colab_type": "code",
        "colab": {}
      },
      "source": [
        "data[data.isnull().any(axis=1)]"
      ],
      "execution_count": 0,
      "outputs": []
    },
    {
      "cell_type": "markdown",
      "metadata": {
        "id": "ySlYDRlBq_um",
        "colab_type": "text"
      },
      "source": [
        "## Data Cleaning Steps\n",
        "\n",
        "There is no need to number for each row so we can clean it.\n",
        "\n"
      ]
    },
    {
      "cell_type": "code",
      "metadata": {
        "id": "30wjtBNYrRdJ",
        "colab_type": "code",
        "colab": {}
      },
      "source": [
        "del data['number']"
      ],
      "execution_count": 0,
      "outputs": []
    },
    {
      "cell_type": "markdown",
      "metadata": {
        "id": "Fu59fyA7rU4E",
        "colab_type": "text"
      },
      "source": [
        "Now let's drop null values for each "
      ]
    },
    {
      "cell_type": "code",
      "metadata": {
        "id": "rykWkrELrdHy",
        "colab_type": "code",
        "outputId": "2af0df7e-3f69-4133-b161-de00dee56656",
        "colab": {
          "base_uri": "https://localhost:8080/",
          "height": 35
        }
      },
      "source": [
        "before_rows=data.shape[0]\n",
        "print(before_rows)"
      ],
      "execution_count": 0,
      "outputs": [
        {
          "output_type": "stream",
          "text": [
            "1095\n"
          ],
          "name": "stdout"
        }
      ]
    },
    {
      "cell_type": "code",
      "metadata": {
        "id": "3HNvwE80siXS",
        "colab_type": "code",
        "colab": {}
      },
      "source": [
        "data=data.dropna()"
      ],
      "execution_count": 0,
      "outputs": []
    },
    {
      "cell_type": "code",
      "metadata": {
        "id": "vOZODJ54wnIX",
        "colab_type": "code",
        "outputId": "f5a3d083-18a7-4261-d341-063dd166ecc4",
        "colab": {
          "base_uri": "https://localhost:8080/",
          "height": 35
        }
      },
      "source": [
        "after_rows=data.shape[0]\n",
        "print(after_rows)"
      ],
      "execution_count": 0,
      "outputs": [
        {
          "output_type": "stream",
          "text": [
            "1064\n"
          ],
          "name": "stdout"
        }
      ]
    },
    {
      "cell_type": "markdown",
      "metadata": {
        "id": "Kt_w-d2yw1un",
        "colab_type": "text"
      },
      "source": [
        "How many rows dropped due to cleaning"
      ]
    },
    {
      "cell_type": "code",
      "metadata": {
        "id": "Tv62j9GGw0aA",
        "colab_type": "code",
        "outputId": "fd9b8252-3266-4711-e76c-77c63389a7ea",
        "colab": {
          "base_uri": "https://localhost:8080/",
          "height": 35
        }
      },
      "source": [
        "before_rows-after_rows"
      ],
      "execution_count": 0,
      "outputs": [
        {
          "output_type": "execute_result",
          "data": {
            "text/plain": [
              "31"
            ]
          },
          "metadata": {
            "tags": []
          },
          "execution_count": 29
        }
      ]
    },
    {
      "cell_type": "markdown",
      "metadata": {
        "id": "xT7Ob3PRmtEj",
        "colab_type": "text"
      },
      "source": [
        "Convert to a Classification Task\n",
        "\n",
        "Binarize the relative_humidity_3pm to 0 or 1."
      ]
    },
    {
      "cell_type": "code",
      "metadata": {
        "id": "kg_j39QRm2c_",
        "colab_type": "code",
        "colab": {}
      },
      "source": [
        "clean_data=data.copy()\n",
        "clean_data['high_humidity_label']=(clean_data['relative_humidity_3pm']>24.99)*1\n",
        "\n",
        "print(clean_data['high_humidity_label'])"
      ],
      "execution_count": 0,
      "outputs": []
    },
    {
      "cell_type": "markdown",
      "metadata": {
        "id": "H419mgk1nM5s",
        "colab_type": "text"
      },
      "source": [
        "Target is stored in 'y'"
      ]
    },
    {
      "cell_type": "code",
      "metadata": {
        "id": "_sqvKcTHnQOi",
        "colab_type": "code",
        "colab": {}
      },
      "source": [
        "y=clean_data[['high_humidity_label']].copy()\n",
        "\n",
        "#y"
      ],
      "execution_count": 0,
      "outputs": []
    },
    {
      "cell_type": "code",
      "metadata": {
        "id": "eSRtbepQnnyi",
        "colab_type": "code",
        "outputId": "0d36d326-939a-4951-b0dc-2a56b56a89a0",
        "colab": {
          "base_uri": "https://localhost:8080/",
          "height": 124
        }
      },
      "source": [
        "clean_data['relative_humidity_3pm'].head()"
      ],
      "execution_count": 0,
      "outputs": [
        {
          "output_type": "execute_result",
          "data": {
            "text/plain": [
              "0    36.160000\n",
              "1    19.426597\n",
              "2    14.460000\n",
              "3    12.742547\n",
              "4    76.740000\n",
              "Name: relative_humidity_3pm, dtype: float64"
            ]
          },
          "metadata": {
            "tags": []
          },
          "execution_count": 32
        }
      ]
    },
    {
      "cell_type": "code",
      "metadata": {
        "id": "Wc6RUMkEnu8k",
        "colab_type": "code",
        "outputId": "0ebc938e-7899-47a5-ab4b-7a800f24bd29",
        "colab": {
          "base_uri": "https://localhost:8080/",
          "height": 200
        }
      },
      "source": [
        "y.head()"
      ],
      "execution_count": 0,
      "outputs": [
        {
          "output_type": "execute_result",
          "data": {
            "text/html": [
              "<div>\n",
              "<style scoped>\n",
              "    .dataframe tbody tr th:only-of-type {\n",
              "        vertical-align: middle;\n",
              "    }\n",
              "\n",
              "    .dataframe tbody tr th {\n",
              "        vertical-align: top;\n",
              "    }\n",
              "\n",
              "    .dataframe thead th {\n",
              "        text-align: right;\n",
              "    }\n",
              "</style>\n",
              "<table border=\"1\" class=\"dataframe\">\n",
              "  <thead>\n",
              "    <tr style=\"text-align: right;\">\n",
              "      <th></th>\n",
              "      <th>high_humidity_label</th>\n",
              "    </tr>\n",
              "  </thead>\n",
              "  <tbody>\n",
              "    <tr>\n",
              "      <th>0</th>\n",
              "      <td>1</td>\n",
              "    </tr>\n",
              "    <tr>\n",
              "      <th>1</th>\n",
              "      <td>0</td>\n",
              "    </tr>\n",
              "    <tr>\n",
              "      <th>2</th>\n",
              "      <td>0</td>\n",
              "    </tr>\n",
              "    <tr>\n",
              "      <th>3</th>\n",
              "      <td>0</td>\n",
              "    </tr>\n",
              "    <tr>\n",
              "      <th>4</th>\n",
              "      <td>1</td>\n",
              "    </tr>\n",
              "  </tbody>\n",
              "</table>\n",
              "</div>"
            ],
            "text/plain": [
              "   high_humidity_label\n",
              "0                    1\n",
              "1                    0\n",
              "2                    0\n",
              "3                    0\n",
              "4                    1"
            ]
          },
          "metadata": {
            "tags": []
          },
          "execution_count": 33
        }
      ]
    },
    {
      "cell_type": "markdown",
      "metadata": {
        "id": "yhBo3p67nynb",
        "colab_type": "text"
      },
      "source": [
        "Use 9am Sensor Signals as features to predict Humidity at 3pm\n",
        "\n"
      ]
    },
    {
      "cell_type": "code",
      "metadata": {
        "id": "ZSxD_SULn5bj",
        "colab_type": "code",
        "colab": {}
      },
      "source": [
        "morning_features=['air_pressure_9am','air_temp_9am','avg_wind_direction_9am','avg_wind_speed_9am','max_wind_direction_9am',\n",
        "                  'max_wind_speed_9am','rain_accumulation_9am','rain_duration_9am']"
      ],
      "execution_count": 0,
      "outputs": []
    },
    {
      "cell_type": "code",
      "metadata": {
        "id": "TJOSS59Hogk5",
        "colab_type": "code",
        "colab": {}
      },
      "source": [
        "X=clean_data[morning_features].copy()"
      ],
      "execution_count": 0,
      "outputs": []
    },
    {
      "cell_type": "code",
      "metadata": {
        "id": "G3aLxSXmomum",
        "colab_type": "code",
        "outputId": "794e8d21-6309-4b6d-8fb5-5453503a4afb",
        "colab": {
          "base_uri": "https://localhost:8080/",
          "height": 88
        }
      },
      "source": [
        "X.columns"
      ],
      "execution_count": 0,
      "outputs": [
        {
          "output_type": "execute_result",
          "data": {
            "text/plain": [
              "Index(['air_pressure_9am', 'air_temp_9am', 'avg_wind_direction_9am',\n",
              "       'avg_wind_speed_9am', 'max_wind_direction_9am', 'max_wind_speed_9am',\n",
              "       'rain_accumulation_9am', 'rain_duration_9am'],\n",
              "      dtype='object')"
            ]
          },
          "metadata": {
            "tags": []
          },
          "execution_count": 36
        }
      ]
    },
    {
      "cell_type": "code",
      "metadata": {
        "id": "AOOprX-WoqIv",
        "colab_type": "code",
        "outputId": "efe385bc-a06d-4c19-830a-e8f4f9b400d5",
        "colab": {
          "base_uri": "https://localhost:8080/",
          "height": 35
        }
      },
      "source": [
        "y.columns"
      ],
      "execution_count": 0,
      "outputs": [
        {
          "output_type": "execute_result",
          "data": {
            "text/plain": [
              "Index(['high_humidity_label'], dtype='object')"
            ]
          },
          "metadata": {
            "tags": []
          },
          "execution_count": 37
        }
      ]
    },
    {
      "cell_type": "markdown",
      "metadata": {
        "id": "QMNlZaBVoxg9",
        "colab_type": "text"
      },
      "source": [
        "## Training Phase\n",
        "\n",
        "In the training phase, the learning algorithm uses the training data to adjust the model's parameters to minimize the errors. at the end of the training phase, we get the trained model."
      ]
    },
    {
      "cell_type": "code",
      "metadata": {
        "id": "wUWNP0wmpGwg",
        "colab_type": "code",
        "colab": {}
      },
      "source": [
        "X_train,X_test,y_train,y_test=train_test_split(X,y,test_size=0.33,random_state=324)"
      ],
      "execution_count": 0,
      "outputs": []
    },
    {
      "cell_type": "markdown",
      "metadata": {
        "id": "tkXIEJ_ApWQd",
        "colab_type": "text"
      },
      "source": [
        "Fit on Train Set"
      ]
    },
    {
      "cell_type": "code",
      "metadata": {
        "id": "qCWBpSAzpZDn",
        "colab_type": "code",
        "outputId": "cdb61e9c-6d93-4194-bc5f-089dbc80825c",
        "colab": {
          "base_uri": "https://localhost:8080/",
          "height": 124
        }
      },
      "source": [
        "humidity_classifier=DecisionTreeClassifier(max_leaf_nodes=10, random_state=0)\n",
        "\n",
        "humidity_classifier.fit(X_train, y_train)"
      ],
      "execution_count": 0,
      "outputs": [
        {
          "output_type": "execute_result",
          "data": {
            "text/plain": [
              "DecisionTreeClassifier(class_weight=None, criterion='gini', max_depth=None,\n",
              "                       max_features=None, max_leaf_nodes=10,\n",
              "                       min_impurity_decrease=0.0, min_impurity_split=None,\n",
              "                       min_samples_leaf=1, min_samples_split=2,\n",
              "                       min_weight_fraction_leaf=0.0, presort=False,\n",
              "                       random_state=0, splitter='best')"
            ]
          },
          "metadata": {
            "tags": []
          },
          "execution_count": 39
        }
      ]
    },
    {
      "cell_type": "code",
      "metadata": {
        "id": "j82CC1K2s44U",
        "colab_type": "code",
        "outputId": "94797c55-ef90-4b44-ae91-c49c6b99dbcf",
        "colab": {
          "base_uri": "https://localhost:8080/",
          "height": 35
        }
      },
      "source": [
        "type(humidity_classifier)"
      ],
      "execution_count": 0,
      "outputs": [
        {
          "output_type": "execute_result",
          "data": {
            "text/plain": [
              "sklearn.tree.tree.DecisionTreeClassifier"
            ]
          },
          "metadata": {
            "tags": []
          },
          "execution_count": 40
        }
      ]
    },
    {
      "cell_type": "markdown",
      "metadata": {
        "id": "N6-GGJHCs9mk",
        "colab_type": "text"
      },
      "source": [
        "Predict on Test Data"
      ]
    },
    {
      "cell_type": "code",
      "metadata": {
        "id": "laOmO7ZftASn",
        "colab_type": "code",
        "colab": {}
      },
      "source": [
        "predictions=humidity_classifier.predict(X_test)"
      ],
      "execution_count": 0,
      "outputs": []
    },
    {
      "cell_type": "code",
      "metadata": {
        "id": "3J2qpHk2tGWx",
        "colab_type": "code",
        "outputId": "35cdc1a0-6231-45b2-cf1e-6bcc08b93617",
        "colab": {
          "base_uri": "https://localhost:8080/",
          "height": 35
        }
      },
      "source": [
        "predictions[:10]"
      ],
      "execution_count": 0,
      "outputs": [
        {
          "output_type": "execute_result",
          "data": {
            "text/plain": [
              "array([0, 0, 1, 1, 1, 1, 0, 0, 0, 1])"
            ]
          },
          "metadata": {
            "tags": []
          },
          "execution_count": 42
        }
      ]
    },
    {
      "cell_type": "code",
      "metadata": {
        "id": "bEwVOvtLtKkn",
        "colab_type": "code",
        "outputId": "e1462667-a574-4c4c-deb1-b07eadce8fc5",
        "colab": {
          "base_uri": "https://localhost:8080/",
          "height": 212
        }
      },
      "source": [
        "y_test['high_humidity_label'][:10]"
      ],
      "execution_count": 0,
      "outputs": [
        {
          "output_type": "execute_result",
          "data": {
            "text/plain": [
              "456     0\n",
              "845     0\n",
              "693     1\n",
              "259     1\n",
              "723     1\n",
              "224     1\n",
              "300     1\n",
              "442     0\n",
              "585     1\n",
              "1057    1\n",
              "Name: high_humidity_label, dtype: int64"
            ]
          },
          "metadata": {
            "tags": []
          },
          "execution_count": 43
        }
      ]
    },
    {
      "cell_type": "code",
      "metadata": {
        "id": "H3JCf3MctSth",
        "colab_type": "code",
        "outputId": "e87d4ca6-084d-483b-fdc9-31d237f8eb28",
        "colab": {
          "base_uri": "https://localhost:8080/",
          "height": 35
        }
      },
      "source": [
        "accuracy_score(y_true=y_test, y_pred=predictions)"
      ],
      "execution_count": 0,
      "outputs": [
        {
          "output_type": "execute_result",
          "data": {
            "text/plain": [
              "0.8153409090909091"
            ]
          },
          "metadata": {
            "tags": []
          },
          "execution_count": 44
        }
      ]
    }
  ]
}